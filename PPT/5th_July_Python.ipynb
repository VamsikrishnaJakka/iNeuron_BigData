{
 "cells": [
  {
   "cell_type": "code",
   "execution_count": 1,
   "id": "7ec530ce-72c0-4c2b-af75-e231048d5e15",
   "metadata": {},
   "outputs": [
    {
     "name": "stdout",
     "output_type": "stream",
     "text": [
      "listen and silent are anagrams.\n"
     ]
    }
   ],
   "source": [
    "#1. Write a Python program to check if a given string is an anagram.\n",
    "def is_anagram(str1, str2):\n",
    "    # Convert the strings to lowercase and remove spaces\n",
    "    str1 = str1.lower().replace(\" \", \"\")\n",
    "    str2 = str2.lower().replace(\" \", \"\")\n",
    "    \n",
    "    # Sort the characters in both strings\n",
    "    sorted_str1 = sorted(str1)\n",
    "    sorted_str2 = sorted(str2)\n",
    "    \n",
    "    # Compare the sorted strings\n",
    "    if sorted_str1 == sorted_str2:\n",
    "        return True\n",
    "    else:\n",
    "        return False\n",
    "\n",
    "# Test the function\n",
    "string1 = \"listen\"\n",
    "string2 = \"silent\"\n",
    "if is_anagram(string1, string2):\n",
    "    print(f\"{string1} and {string2} are anagrams.\")\n",
    "else:\n",
    "    print(f\"{string1} and {string2} are not anagrams.\")"
   ]
  },
  {
   "cell_type": "code",
   "execution_count": 2,
   "id": "fb5b685f-52b4-411c-a774-5c3233a25f92",
   "metadata": {},
   "outputs": [
    {
     "name": "stdout",
     "output_type": "stream",
     "text": [
      "Maximum value: 15\n",
      "Minimum value: 2\n"
     ]
    }
   ],
   "source": [
    "#2. Write a Python program to find the maximum and minimum values in a dictionary.\n",
    "\n",
    "def find_max_min(dictionary):\n",
    "    values = dictionary.values()\n",
    "    max_value = max(values)\n",
    "    min_value = min(values)\n",
    "    return max_value, min_value\n",
    "\n",
    "#Driver code\n",
    "my_dict = {'a': 10, 'b': 5, 'c': 15, 'd': 2}\n",
    "max_val, min_val = find_max_min(my_dict)\n",
    "print(\"Maximum value:\", max_val)\n",
    "print(\"Minimum value:\", min_val)"
   ]
  },
  {
   "cell_type": "code",
   "execution_count": 3,
   "id": "723e58c0-c4a4-492f-a7fc-313629e36222",
   "metadata": {},
   "outputs": [
    {
     "name": "stdout",
     "output_type": "stream",
     "text": [
      "Average of the list is :  30.0\n"
     ]
    }
   ],
   "source": [
    "#3. Write a Python program to find the average of a list of numbers.\n",
    "\n",
    "def calculate_average(numbers):\n",
    "    total = sum(numbers)\n",
    "    average = total / len(numbers)\n",
    "    return average\n",
    "\n",
    "#Driver code\n",
    "num_list = [10, 20, 30, 40, 50]\n",
    "avg = calculate_average(num_list)\n",
    "print(\"Average of the list is : \", avg)"
   ]
  },
  {
   "cell_type": "code",
   "execution_count": 4,
   "id": "fa57fd48-5816-4ccc-86ee-4a3277722f90",
   "metadata": {},
   "outputs": [
    {
     "name": "stdout",
     "output_type": "stream",
     "text": [
      "String with vowels removed: Hll, Wrld!\n"
     ]
    }
   ],
   "source": [
    "#4. Write a Python program to remove all vowels from a string.\n",
    "\n",
    "def remove_vowels(string):\n",
    "    vowels = ['a', 'e', 'i', 'o', 'u', 'A', 'E', 'I', 'O', 'U']\n",
    "    result = \"\"\n",
    "    for char in string:\n",
    "        if char not in vowels:\n",
    "            result += char\n",
    "    return result\n",
    "\n",
    "#Driver code\n",
    "input_string = \"Hello, World!\"\n",
    "output_string = remove_vowels(input_string)\n",
    "print(\"String with vowels removed:\", output_string)"
   ]
  },
  {
   "cell_type": "code",
   "execution_count": 5,
   "id": "945958b1-b254-42c9-96f1-e9bc2c28bd16",
   "metadata": {},
   "outputs": [
    {
     "name": "stdout",
     "output_type": "stream",
     "text": [
      "Factorial of 5 is 120\n"
     ]
    }
   ],
   "source": [
    "#5. Write a Python function to calculate the factorial of a number using recursion.\n",
    "\n",
    "def factorial_recursive(n):\n",
    "    if n == 0 or n == 1:\n",
    "        return 1\n",
    "    else:\n",
    "        return n * factorial_recursive(n - 1)\n",
    "\n",
    "#Driver code\n",
    "number = 5\n",
    "factorial = factorial_recursive(number)\n",
    "print(\"Factorial of\", number, \"is\", factorial)"
   ]
  },
  {
   "cell_type": "code",
   "execution_count": 6,
   "id": "d90a1d60-1b6b-4103-9823-072e6c37e801",
   "metadata": {},
   "outputs": [
    {
     "name": "stdout",
     "output_type": "stream",
     "text": [
      "Sorted List: [1, 2, 4, 12, 23, 31, 53, 44, 445]\n"
     ]
    }
   ],
   "source": [
    "#6. Write a Python program to merge two unsorted lists into a single sorted list using the merge sort algorithm.\n",
    "\n",
    "def merge_sort(list1,list2):\n",
    "    list1_new = sorted(list1)\n",
    "    list2_new = sorted(list2)\n",
    "    m = len(list1)\n",
    "    for i in range(len(list2_new)):\n",
    "        list1_new.append(list2_new[i])\n",
    "    for i in range(0, m):\n",
    "        for j in range(m, len(list1_new)):\n",
    "            if list1_new[i] > list1_new[j]:\n",
    "                list1_new[i], list1_new[j] = list1_new[j], list1_new[i]\n",
    "                i = i+1\n",
    "            else:\n",
    "                j = j+1\n",
    "    return list1_new\n",
    "\n",
    "#Driver code\n",
    "list1 = [31, 1, 4, 53]\n",
    "list2 = [23, 445, 12, 2, 44]   \n",
    "result = merge_sort(list1,list2)\n",
    "print(\"Sorted List:\", result)"
   ]
  },
  {
   "cell_type": "code",
   "execution_count": 7,
   "id": "3526f1c8-6587-49f0-859d-a963a3ea4297",
   "metadata": {},
   "outputs": [
    {
     "name": "stdout",
     "output_type": "stream",
     "text": [
      "GCD of given numbers is :  4\n"
     ]
    }
   ],
   "source": [
    "#7. Write a Python program to find the GCD (Greatest Common Divisor) of two numbers.\n",
    "\n",
    "def gcd_number(a,b):\n",
    "    c1 = [] #all the numbers which are multiples of  a\n",
    "    c2 = [] #all the numbers which are multiples of b\n",
    "    for i in range(1,a):\n",
    "        if a % i == 0:\n",
    "            c1.append(i)\n",
    "    for j in range(1,b):\n",
    "        if b % j == 0:\n",
    "            c2.append(j)\n",
    "    c3 = [] #common multiples of a and b\n",
    "    for i in range(len(c1)):\n",
    "        for j in range(len(c2)):\n",
    "            if c1[i] == c2[j]:\n",
    "                c3.append(c1[i])\n",
    "    return max(c3) #retruns max multiple which is common in between a and b\n",
    "\n",
    "#Driver code\n",
    "result = gcd_number(12,20)\n",
    "print(\"GCD of given numbers is : \",result)"
   ]
  },
  {
   "cell_type": "code",
   "execution_count": 8,
   "id": "2661ef9e-3eb3-4022-b974-04c296f8d2b3",
   "metadata": {},
   "outputs": [
    {
     "name": "stdout",
     "output_type": "stream",
     "text": [
      "Second largest in list is :  10\n"
     ]
    }
   ],
   "source": [
    "#8. Write a Python program to find the second-largest element in a list.\n",
    "\n",
    "def lister(list):\n",
    "    list_new = sorted(list)\n",
    "    return list_new[-2]\n",
    "\n",
    "#Driver code\n",
    "list = [5, 10, 3, 8, 12, 7]\n",
    "result=lister(list)\n",
    "print(\"Second largest in list is : \",result)"
   ]
  },
  {
   "cell_type": "code",
   "execution_count": 9,
   "id": "cbfe8d59-99d0-44c3-9c9c-f2e050df4478",
   "metadata": {},
   "outputs": [
    {
     "name": "stdout",
     "output_type": "stream",
     "text": [
      "Longest Common Subsequence: A\n"
     ]
    }
   ],
   "source": [
    "#9. Write a Python program to find the longest common subsequence between two strings using dynamic programming.\n",
    "\n",
    "def find_longest_common_subsequence(str1, str2):\n",
    "    m, n = len(str1), len(str2)\n",
    "\n",
    "    # Generate all subsequences of str1\n",
    "    subsequences = []\n",
    "    for i in range(2 ** m):\n",
    "        subseq = ''.join([str1[j] for j in range(m) if (i & (1 << j))])\n",
    "        subsequences.append(subseq)\n",
    "\n",
    "    # Find the longest common subsequence\n",
    "    longest_subsequence = \"\"\n",
    "    for subseq in subsequences:\n",
    "        if subseq in str2 and len(subseq) > len(longest_subsequence):\n",
    "            longest_subsequence = subseq\n",
    "\n",
    "    return longest_subsequence\n",
    "\n",
    "#Driver code\n",
    "string1 = \"ABCDGH\"\n",
    "string2 = \"AEDFHR\"\n",
    "lcs = find_longest_common_subsequence(string1, string2)\n",
    "print(\"Longest Common Subsequence:\", lcs)"
   ]
  },
  {
   "cell_type": "code",
   "execution_count": null,
   "id": "6e0931d5-a418-4c4a-9ec7-fcfbb84606c2",
   "metadata": {},
   "outputs": [],
   "source": []
  }
 ],
 "metadata": {
  "kernelspec": {
   "display_name": "Python 3 (ipykernel)",
   "language": "python",
   "name": "python3"
  },
  "language_info": {
   "codemirror_mode": {
    "name": "ipython",
    "version": 3
   },
   "file_extension": ".py",
   "mimetype": "text/x-python",
   "name": "python",
   "nbconvert_exporter": "python",
   "pygments_lexer": "ipython3",
   "version": "3.10.6"
  }
 },
 "nbformat": 4,
 "nbformat_minor": 5
}
