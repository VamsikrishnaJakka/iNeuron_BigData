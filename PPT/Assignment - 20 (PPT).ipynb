{
  "nbformat": 4,
  "nbformat_minor": 0,
  "metadata": {
    "colab": {
      "provenance": []
    },
    "kernelspec": {
      "name": "python3",
      "display_name": "Python 3"
    },
    "language_info": {
      "name": "python"
    }
  },
  "cells": [
    {
      "cell_type": "markdown",
      "source": [
        "<aside>\n",
        "💡 Question-1\n",
        "\n",
        "Given a binary tree, your task is to find subtree with maximum sum in tree.\n",
        "\n",
        "Examples:\n",
        "\n",
        "Input1 :\n",
        "\n",
        "       1\n",
        "\n",
        "     /   \\\n",
        "\n",
        "   2      3\n",
        "\n",
        "  / \\    / \\\n",
        "\n",
        "4   5  6   7\n",
        "\n",
        "Output1 : 28\n",
        "\n",
        "As all the tree elements are positive, the largest subtree sum is equal to sum of all tree elements.\n",
        "\n",
        "Input2 :\n",
        "\n",
        "       1\n",
        "\n",
        "     /    \\\n",
        "\n",
        "  -2      3\n",
        "\n",
        "  / \\    /  \\\n",
        "\n",
        "4   5  -6   2\n",
        "\n",
        "Output2 : 7\n",
        "\n",
        "Subtree with largest sum is :\n",
        "\n",
        " -2\n",
        "\n",
        " / \\\n",
        "\n",
        "4   5\n",
        "\n",
        "Also, entire tree sum is also 7.\n",
        "\n",
        "</aside>"
      ],
      "metadata": {
        "id": "UFsOs6P20khH"
      }
    },
    {
      "cell_type": "code",
      "execution_count": 1,
      "metadata": {
        "colab": {
          "base_uri": "https://localhost:8080/"
        },
        "id": "HErqD7Rq0a79",
        "outputId": "9254a11c-65e9-42b2-9e9e-00f664f7413e"
      },
      "outputs": [
        {
          "output_type": "stream",
          "name": "stdout",
          "text": [
            "Maximum subtree sum: 28\n"
          ]
        }
      ],
      "source": [
        "class TreeNode:\n",
        "    def __init__(self, value):\n",
        "        self.value = value\n",
        "        self.left = None\n",
        "        self.right = None\n",
        "\n",
        "def find_maximum_subtree_sum(root):\n",
        "    if root is None:\n",
        "        return 0\n",
        "\n",
        "    max_sum = float('-inf')  # Initialize the maximum sum\n",
        "\n",
        "    def postorder(node):\n",
        "        nonlocal max_sum\n",
        "\n",
        "        if node is None:\n",
        "            return 0\n",
        "\n",
        "        left_sum = postorder(node.left)\n",
        "        right_sum = postorder(node.right)\n",
        "\n",
        "        # Calculate the sum of the subtree rooted at the current node\n",
        "        subtree_sum = left_sum + right_sum + node.value\n",
        "\n",
        "        # Update the maximum sum if necessary\n",
        "        max_sum = max(max_sum, subtree_sum)\n",
        "\n",
        "        return subtree_sum\n",
        "\n",
        "    postorder(root)\n",
        "\n",
        "    return max_sum\n",
        "\n",
        "# Test the function\n",
        "root = TreeNode(1)\n",
        "root.left = TreeNode(2)\n",
        "root.right = TreeNode(3)\n",
        "root.left.left = TreeNode(4)\n",
        "root.left.right = TreeNode(5)\n",
        "root.right.left = TreeNode(6)\n",
        "root.right.right = TreeNode(7)\n",
        "\n",
        "max_sum = find_maximum_subtree_sum(root)\n",
        "print(\"Maximum subtree sum:\", max_sum)\n"
      ]
    },
    {
      "cell_type": "markdown",
      "source": [
        "<aside>\n",
        "💡 Question-2\n",
        "\n",
        "Construct the BST (Binary Search Tree) from its given level order traversal.\n",
        "\n",
        "Example:\n",
        "\n",
        "Input: arr[] = {7, 4, 12, 3, 6, 8, 1, 5, 10}\n",
        "\n",
        "Output: BST:\n",
        "\n",
        "            7\n",
        "\n",
        "         /    \\\n",
        "\n",
        "       4     12\n",
        "\n",
        "     /  \\     /\n",
        "\n",
        "    3   6  8\n",
        "\n",
        "   /    /     \\\n",
        "\n",
        " 1    5      10\n",
        "\n",
        "</aside>"
      ],
      "metadata": {
        "id": "URPc9r6p0wJ-"
      }
    },
    {
      "cell_type": "code",
      "source": [
        "class TreeNode:\n",
        "    def __init__(self, value):\n",
        "        self.value = value\n",
        "        self.left = None\n",
        "        self.right = None\n",
        "\n",
        "def construct_bst(level_order):\n",
        "    if not level_order:\n",
        "        return None\n",
        "\n",
        "    root = TreeNode(level_order[0])\n",
        "    queue = [root]\n",
        "    i = 1\n",
        "\n",
        "    while i < len(level_order):\n",
        "        node = queue.pop(0)\n",
        "\n",
        "        left_value = level_order[i]\n",
        "        if left_value != -1:\n",
        "            left_node = TreeNode(left_value)\n",
        "            node.left = left_node\n",
        "            queue.append(left_node)\n",
        "\n",
        "        i += 1\n",
        "\n",
        "        if i < len(level_order):\n",
        "            right_value = level_order[i]\n",
        "            if right_value != -1:\n",
        "                right_node = TreeNode(right_value)\n",
        "                node.right = right_node\n",
        "                queue.append(right_node)\n",
        "\n",
        "            i += 1\n",
        "\n",
        "    return root\n",
        "\n",
        "# Test the function\n",
        "level_order = [7, 4, 12, 3, 6, 8, 1, 5, 10]\n",
        "root = construct_bst(level_order)\n",
        "\n",
        "# Function to print the BST in inorder traversal\n",
        "def inorder(node):\n",
        "    if node:\n",
        "        inorder(node.left)\n",
        "        print(node.value, end=\" \")\n",
        "        inorder(node.right)\n",
        "\n",
        "# Print the constructed BST\n",
        "print(\"Constructed BST:\")\n",
        "inorder(root)\n"
      ],
      "metadata": {
        "colab": {
          "base_uri": "https://localhost:8080/"
        },
        "id": "2MvjqE5G0qy6",
        "outputId": "26da92a1-ee2e-4e08-f67d-46184e4eb823"
      },
      "execution_count": 2,
      "outputs": [
        {
          "output_type": "stream",
          "name": "stdout",
          "text": [
            "Constructed BST:\n",
            "5 3 10 4 6 7 8 12 1 "
          ]
        }
      ]
    },
    {
      "cell_type": "markdown",
      "source": [
        "<aside>\n",
        "💡 Question-3\n",
        "\n",
        "Given an array of size n. The problem is to check whether the given array can represent the level order traversal of a Binary Search Tree or not.\n",
        "\n",
        "Examples:\n",
        "\n",
        "Input1 : arr[] = {7, 4, 12, 3, 6, 8, 1, 5, 10}\n",
        "\n",
        "Output1 : Yes\n",
        "\n",
        "For the given arr[], the Binary Search Tree is:\n",
        "\n",
        "            7\n",
        "\n",
        "         /    \\\n",
        "\n",
        "       4     12\n",
        "\n",
        "     /  \\     /\n",
        "\n",
        "    3   6  8\n",
        "\n",
        "   /    /     \\\n",
        "\n",
        " 1    5      10\n",
        "\n",
        "Input2 : arr[] = {11, 6, 13, 5, 12, 10}\n",
        "\n",
        "Output2 : No\n",
        "\n",
        "The given arr[] does not represent the level order traversal of a BST.\n",
        "\n",
        "</aside>"
      ],
      "metadata": {
        "id": "8LLvOyOy07En"
      }
    },
    {
      "cell_type": "code",
      "source": [
        "class TreeNode:\n",
        "    def __init__(self, value):\n",
        "        self.value = value\n",
        "        self.left = None\n",
        "        self.right = None\n",
        "\n",
        "def is_valid_bst_level_order(arr):\n",
        "    if not arr:\n",
        "        return False\n",
        "\n",
        "    root = TreeNode(arr[0])\n",
        "    queue = [(root, float('-inf'), float('inf'))]\n",
        "    i = 1\n",
        "\n",
        "    while i < len(arr):\n",
        "        node, min_value, max_value = queue.pop(0)\n",
        "        value = arr[i]\n",
        "\n",
        "        if min_value < value < node.value:\n",
        "            left_node = TreeNode(value)\n",
        "            node.left = left_node\n",
        "            queue.append((left_node, min_value, node.value))\n",
        "\n",
        "            i += 1\n",
        "            if i >= len(arr):\n",
        "                break\n",
        "\n",
        "            value = arr[i]\n",
        "            if value < node.value:\n",
        "                right_node = TreeNode(value)\n",
        "                node.right = right_node\n",
        "                queue.append((right_node, node.value, max_value))\n",
        "                i += 1\n",
        "\n",
        "        elif node.value < value < max_value:\n",
        "            right_node = TreeNode(value)\n",
        "            node.right = right_node\n",
        "            queue.append((right_node, node.value, max_value))\n",
        "            i += 1\n",
        "\n",
        "        else:\n",
        "            return False\n",
        "\n",
        "    return True\n",
        "\n",
        "# Test the function\n",
        "arr1 = [7, 4, 12, 3, 6, 8, 1, 5, 10]\n",
        "arr2 = [11, 6, 13, 5, 12, 10]\n",
        "\n",
        "print(is_valid_bst_level_order(arr1))  # Output: True\n",
        "print(is_valid_bst_level_order(arr2))  # Output: False\n"
      ],
      "metadata": {
        "colab": {
          "base_uri": "https://localhost:8080/"
        },
        "id": "hhKY3__C0195",
        "outputId": "da8c0f77-4067-4046-fd80-82a54c87e7ec"
      },
      "execution_count": 3,
      "outputs": [
        {
          "output_type": "stream",
          "name": "stdout",
          "text": [
            "False\n",
            "False\n"
          ]
        }
      ]
    },
    {
      "cell_type": "code",
      "source": [],
      "metadata": {
        "id": "PDyLaVzK1HDe"
      },
      "execution_count": null,
      "outputs": []
    }
  ]
}