{
  "nbformat": 4,
  "nbformat_minor": 0,
  "metadata": {
    "colab": {
      "provenance": []
    },
    "kernelspec": {
      "name": "python3",
      "display_name": "Python 3"
    },
    "language_info": {
      "name": "python"
    }
  },
  "cells": [
    {
      "cell_type": "markdown",
      "source": [
        "<aside>\n",
        "💡 8. **Find K Closest Elements**\n",
        "\n",
        "Given a **sorted** integer array `arr`, two integers `k` and `x`, return the `k` closest integers to `x` in the array. The result should also be sorted in ascending order.\n",
        "\n",
        "An integer `a` is closer to `x` than an integer `b` if:\n",
        "\n",
        "- `|a - x| < |b - x|`, or\n",
        "- `|a - x| == |b - x|` and `a < b`\n",
        "\n",
        "**Example 1:**\n",
        "\n",
        "```\n",
        "Input: arr = [1,2,3,4,5], k = 4, x = 3\n",
        "Output: [1,2,3,4]\n",
        "```\n",
        "\n",
        "**Example 2:**\n",
        "\n",
        "```\n",
        "Input: arr = [1,2,3,4,5], k = 4, x = -1\n",
        "Output: [1,2,3,4]\n",
        "```\n",
        "\n",
        "**Constraints:**\n",
        "\n",
        "- `1 <= k <= arr.length`\n",
        "- `1 <= arr.length <= 10000`\n",
        "- `arr` is sorted in **ascending** order.\n",
        "- -`10000 <= arr[i], x <= 10000`\n",
        "\n",
        "</aside>"
      ],
      "metadata": {
        "id": "m0dskkLEj_n-"
      }
    },
    {
      "cell_type": "code",
      "source": [
        "def findClosestElements(arr, k, x):\n",
        "    left, right = 0, len(arr) - 1\n",
        "\n",
        "    while right - left >= k:\n",
        "        if abs(arr[left] - x) > abs(arr[right] - x):\n",
        "            left += 1\n",
        "        else:\n",
        "            right -= 1\n",
        "\n",
        "    start = max(0, left - k)\n",
        "    return arr[start : start + k]\n",
        "\n",
        "\n",
        "# Driver code\n",
        "arr = [1, 2, 3, 4, 5]\n",
        "k = 4\n",
        "x = 3\n",
        "result = findClosestElements(arr, k, x)\n",
        "print(\"Closest elements:\", result)\n",
        "\n",
        "x = -1\n",
        "result = findClosestElements(arr, k, x)\n",
        "print(\"Closest elements:\", result)\n"
      ],
      "metadata": {
        "colab": {
          "base_uri": "https://localhost:8080/"
        },
        "id": "lJGJdaGzkI54",
        "outputId": "5498f6c7-0846-4f48-e9ea-356848de4a40"
      },
      "execution_count": 2,
      "outputs": [
        {
          "output_type": "stream",
          "name": "stdout",
          "text": [
            "Closest elements: [1, 2, 3, 4]\n",
            "Closest elements: [1, 2, 3, 4]\n"
          ]
        }
      ]
    },
    {
      "cell_type": "markdown",
      "source": [
        "<aside>\n",
        "💡 7. **Sliding Window Maximum**\n",
        "\n",
        "You are given an array of integers `nums`, there is a sliding window of size `k` which is moving from the very left of the array to the very right. You can only see the `k` numbers in the window. Each time the sliding window moves right by one position.\n",
        "\n",
        "Return *the max sliding window*.\n",
        "\n",
        "**Example 1:**\n",
        "\n",
        "```\n",
        "Input: nums = [1,3,-1,-3,5,3,6,7], k = 3\n",
        "Output: [3,3,5,5,6,7]\n",
        "Explanation:\n",
        "Window position                Max\n",
        "---------------               -----\n",
        "[1  3  -1] -3  5  3  6 7         3\n",
        " 1 [3  -1  -3] 5  3  6 7         3\n",
        " 1  3 [-1  -3  5] 3  6 7         5\n",
        " 1  3  -1 [-3  5  3] 6 7         5\n",
        " 1  3  -1  -3 [5  3  6]7         6\n",
        " 1  3  -1  -3  5 [3  6  7]       7\n",
        "```\n",
        "\n",
        "**Example 2:**\n",
        "\n",
        "```\n",
        "Input: nums = [1], k = 1\n",
        "Output: [1]\n",
        "```\n",
        "\n",
        "**Constraints:**\n",
        "\n",
        "- `1 <= nums.length <= 100000`\n",
        "- -`10000 <= nums[i] <= 10000`\n",
        "- `1 <= k <= nums.length`\n",
        "</aside>"
      ],
      "metadata": {
        "id": "-zowHRp5kkeZ"
      }
    },
    {
      "cell_type": "code",
      "source": [
        "from collections import deque\n",
        "\n",
        "def maxSlidingWindow(nums, k):\n",
        "    result = []\n",
        "    window = deque()\n",
        "\n",
        "    for i in range(len(nums)):\n",
        "        # Remove elements outside of the current window\n",
        "        if window and window[0] == i - k:\n",
        "            window.popleft()\n",
        "\n",
        "        # Remove smaller elements from the window\n",
        "        while window and nums[window[-1]] < nums[i]:\n",
        "            window.pop()\n",
        "\n",
        "        # Add the current element to the window\n",
        "        window.append(i)\n",
        "\n",
        "        # Append the maximum element of the current window to the result\n",
        "        if i >= k - 1:\n",
        "            result.append(nums[window[0]])\n",
        "\n",
        "    return result\n",
        "\n",
        "\n",
        "# Driver code\n",
        "nums = [1, 3, -1, -3, 5, 3, 6, 7]\n",
        "k = 3\n",
        "result = maxSlidingWindow(nums, k)\n",
        "print(\"Max sliding window:\", result)\n",
        "\n",
        "nums = [1]\n",
        "k = 1\n",
        "result = maxSlidingWindow(nums, k)\n",
        "print(\"Max sliding window:\", result)\n"
      ],
      "metadata": {
        "colab": {
          "base_uri": "https://localhost:8080/"
        },
        "id": "EQA-rzQMkmUi",
        "outputId": "688fb62d-680b-47d9-deea-1f2237b2c6e9"
      },
      "execution_count": 3,
      "outputs": [
        {
          "output_type": "stream",
          "name": "stdout",
          "text": [
            "Max sliding window: [3, 3, 5, 5, 6, 7]\n",
            "Max sliding window: [1]\n"
          ]
        }
      ]
    },
    {
      "cell_type": "markdown",
      "source": [
        "<aside>\n",
        "💡 6. **Top K Frequent Words**\n",
        "\n",
        "Given an array of strings `words` and an integer `k`, return *the* `k` *most frequent strings*.\n",
        "\n",
        "Return the answer **sorted** by **the frequency** from highest to lowest. Sort the words with the same frequency by their **lexicographical order**.\n",
        "\n",
        "**Example 1:**\n",
        "\n",
        "```\n",
        "Input: words = [\"i\",\"love\",\"leetcode\",\"i\",\"love\",\"coding\"], k = 2\n",
        "Output: [\"i\",\"love\"]\n",
        "Explanation: \"i\" and \"love\" are the two most frequent words.\n",
        "Note that \"i\" comes before \"love\" due to a lower alphabetical order.\n",
        "```\n",
        "\n",
        "**Example 2:**\n",
        "\n",
        "```\n",
        "Input: words = [\"the\",\"day\",\"is\",\"sunny\",\"the\",\"the\",\"the\",\"sunny\",\"is\",\"is\"], k = 4\n",
        "Output: [\"the\",\"is\",\"sunny\",\"day\"]\n",
        "Explanation: \"the\", \"is\", \"sunny\" and \"day\" are the four most frequent words, with the number of occurrence being 4, 3, 2 and 1 respectively.\n",
        "```\n",
        "\n",
        "**Constraints:**\n",
        "\n",
        "- `1 <= words.length <= 500`\n",
        "- `1 <= words[i].length <= 10`\n",
        "- `words[i]` consists of lowercase English letters.\n",
        "- `k` is in the range `[1, The number of **unique** words[i]]`\n",
        "</aside>"
      ],
      "metadata": {
        "id": "X2lJstQ5kwv7"
      }
    },
    {
      "cell_type": "code",
      "source": [
        "import heapq\n",
        "from collections import Counter\n",
        "\n",
        "def topKFrequent(words, k):\n",
        "    freq_count = Counter(words)\n",
        "    heap = [(-freq, word) for word, freq in freq_count.items()]\n",
        "    heapq.heapify(heap)\n",
        "\n",
        "    result = []\n",
        "    for _ in range(k):\n",
        "        freq, word = heapq.heappop(heap)\n",
        "        result.append(word)\n",
        "\n",
        "    return result\n",
        "\n",
        "\n",
        "# Driver code\n",
        "words = [\"i\", \"love\", \"leetcode\", \"i\", \"love\", \"coding\"]\n",
        "k = 2\n",
        "result = topKFrequent(words, k)\n",
        "print(\"Top K frequent words:\", result)\n",
        "\n",
        "words = [\"the\", \"day\", \"is\", \"sunny\", \"the\", \"the\", \"the\", \"sunny\", \"is\", \"is\"]\n",
        "k = 4\n",
        "result = topKFrequent(words, k)\n",
        "print(\"Top K frequent words:\", result)\n"
      ],
      "metadata": {
        "colab": {
          "base_uri": "https://localhost:8080/"
        },
        "id": "VHGjGA3slDu_",
        "outputId": "e8383bac-8311-45c9-ee34-8e8cdcbbb25f"
      },
      "execution_count": 4,
      "outputs": [
        {
          "output_type": "stream",
          "name": "stdout",
          "text": [
            "Top K frequent words: ['i', 'love']\n",
            "Top K frequent words: ['the', 'is', 'sunny', 'day']\n"
          ]
        }
      ]
    },
    {
      "cell_type": "markdown",
      "source": [
        "<aside>\n",
        "💡 5. **Ugly Numbers**\n",
        "\n",
        "An **ugly number** is a positive integer whose prime factors are limited to `2`, `3`, and `5`.\n",
        "\n",
        "Given an integer `n`, return *the* `nth` ***ugly number***.\n",
        "\n",
        "**Example 1:**\n",
        "\n",
        "```\n",
        "Input: n = 10\n",
        "Output: 12\n",
        "Explanation: [1, 2, 3, 4, 5, 6, 8, 9, 10, 12] is the sequence of the first 10 ugly numbers.\n",
        "```\n",
        "\n",
        "**Example 2:**\n",
        "\n",
        "```\n",
        "Input: n = 1\n",
        "Output: 1\n",
        "Explanation: 1 has no prime factors, therefore all of its prime factors are limited to 2, 3, and 5.\n",
        "```\n",
        "\n",
        "**Constraints:**\n",
        "\n",
        "- `1 <= n <= 1690`\n",
        "</aside>"
      ],
      "metadata": {
        "id": "r3h_e7cmk0yO"
      }
    },
    {
      "cell_type": "code",
      "source": [
        "def nthUglyNumber(n):\n",
        "    ugly_nums = [1] * n\n",
        "    idx2 = idx3 = idx5 = 0\n",
        "\n",
        "    for i in range(1, n):\n",
        "        next_ugly = min(ugly_nums[idx2] * 2, ugly_nums[idx3] * 3, ugly_nums[idx5] * 5)\n",
        "        ugly_nums[i] = next_ugly\n",
        "\n",
        "        if next_ugly == ugly_nums[idx2] * 2:\n",
        "            idx2 += 1\n",
        "        if next_ugly == ugly_nums[idx3] * 3:\n",
        "            idx3 += 1\n",
        "        if next_ugly == ugly_nums[idx5] * 5:\n",
        "            idx5 += 1\n",
        "\n",
        "    return ugly_nums[n-1]\n",
        "\n",
        "\n",
        "# Driver code\n",
        "n = 10\n",
        "result = nthUglyNumber(n)\n",
        "print(f\"The {n}th ugly number is:\", result)\n",
        "\n",
        "n = 1\n",
        "result = nthUglyNumber(n)\n",
        "print(f\"The {n}th ugly number is:\", result)\n"
      ],
      "metadata": {
        "colab": {
          "base_uri": "https://localhost:8080/"
        },
        "id": "Qhi8nRU2lUD1",
        "outputId": "f90af503-d8fa-43a4-d288-c11a40e7b34e"
      },
      "execution_count": 5,
      "outputs": [
        {
          "output_type": "stream",
          "name": "stdout",
          "text": [
            "The 10th ugly number is: 12\n",
            "The 1th ugly number is: 1\n"
          ]
        }
      ]
    },
    {
      "cell_type": "markdown",
      "source": [
        "<aside>\n",
        "💡 4. **Group Anagram**\n",
        "\n",
        "Given an array of strings `strs`, group **the anagrams** together. You can return the answer in **any order**.\n",
        "\n",
        "An **Anagram** is a word or phrase formed by rearranging the letters of a different word or phrase, typically using all the original letters exactly once.\n",
        "\n",
        "**Example 1:**\n",
        "\n",
        "```\n",
        "Input: strs = [\"eat\",\"tea\",\"tan\",\"ate\",\"nat\",\"bat\"]\n",
        "Output: [[\"bat\"],[\"nat\",\"tan\"],[\"ate\",\"eat\",\"tea\"]]\n",
        "```\n",
        "\n",
        "**Example 2:**\n",
        "\n",
        "```\n",
        "Input: strs = [\"\"]\n",
        "Output: [[\"\"]]\n",
        "```\n",
        "\n",
        "**Example 3:**\n",
        "\n",
        "```\n",
        "Input: strs = [\"a\"]\n",
        "Output: [[\"a\"]]\n",
        "```\n",
        "\n",
        "**Constraints:**\n",
        "\n",
        "- `1 <= strs.length <= 10000`\n",
        "- `0 <= strs[i].length <= 100`\n",
        "- `strs[i]` consists of lowercase English letters.\n",
        "</aside>"
      ],
      "metadata": {
        "id": "M1G6kdYtk1M6"
      }
    },
    {
      "cell_type": "code",
      "source": [
        "from collections import defaultdict\n",
        "\n",
        "def groupAnagrams(strs):\n",
        "    groups = defaultdict(list)\n",
        "\n",
        "    for word in strs:\n",
        "        count = [0] * 26\n",
        "        for char in word:\n",
        "            count[ord(char) - ord('a')] += 1\n",
        "        groups[tuple(count)].append(word)\n",
        "\n",
        "    return list(groups.values())\n",
        "\n",
        "\n",
        "# Driver code\n",
        "strs = [\"eat\", \"tea\", \"tan\", \"ate\", \"nat\", \"bat\"]\n",
        "result = groupAnagrams(strs)\n",
        "print(\"Anagram groups:\", result)\n",
        "\n",
        "strs = [\"\"]\n",
        "result = groupAnagrams(strs)\n",
        "print(\"Anagram groups:\", result)\n",
        "\n",
        "strs = [\"a\"]\n",
        "result = groupAnagrams(strs)\n",
        "print(\"Anagram groups:\", result)\n"
      ],
      "metadata": {
        "colab": {
          "base_uri": "https://localhost:8080/"
        },
        "id": "2Al4q0kCltW5",
        "outputId": "6aa18b68-fdd5-45fa-faf3-c774b5e00cc7"
      },
      "execution_count": 6,
      "outputs": [
        {
          "output_type": "stream",
          "name": "stdout",
          "text": [
            "Anagram groups: [['eat', 'tea', 'ate'], ['tan', 'nat'], ['bat']]\n",
            "Anagram groups: [['']]\n",
            "Anagram groups: [['a']]\n"
          ]
        }
      ]
    },
    {
      "cell_type": "markdown",
      "source": [
        "<aside>\n",
        "💡 3. **Majority Element**\n",
        "\n",
        "Given an array `nums` of size `n`, return *the majority element*.\n",
        "\n",
        "The majority element is the element that appears more than `⌊n / 2⌋` times. You may assume that the majority element always exists in the array.\n",
        "\n",
        "**Example 1:**\n",
        "\n",
        "```\n",
        "Input: nums = [3,2,3]\n",
        "Output: 3\n",
        "```\n",
        "\n",
        "**Example 2:**\n",
        "\n",
        "```\n",
        "Input: nums = [2,2,1,1,1,2,2]\n",
        "Output: 2\n",
        "```\n",
        "\n",
        "**Constraints:**\n",
        "\n",
        "- `n == nums.length`\n",
        "- `1 <= n <= 5 * 10^4`\n",
        "- `-10^9 <= nums[i] <= 10^9`\n",
        "</aside>"
      ],
      "metadata": {
        "id": "IuEq0MZck1oa"
      }
    },
    {
      "cell_type": "code",
      "source": [
        "from collections import Counter\n",
        "\n",
        "def majorityElement(nums):\n",
        "    counts = Counter(nums)\n",
        "    n = len(nums)\n",
        "\n",
        "    for num, count in counts.items():\n",
        "        if count > n // 2:\n",
        "            return num\n",
        "\n",
        "    return None\n",
        "\n",
        "\n",
        "# Driver code\n",
        "nums = [3, 2, 3]\n",
        "result = majorityElement(nums)\n",
        "print(\"Majority element:\", result)\n",
        "\n",
        "nums = [2, 2, 1, 1, 1, 2, 2]\n",
        "result = majorityElement(nums)\n",
        "print(\"Majority element:\", result)\n"
      ],
      "metadata": {
        "colab": {
          "base_uri": "https://localhost:8080/"
        },
        "id": "u5JpHtXQl3gz",
        "outputId": "b00f811d-caa5-498c-aa13-0b0a815a3b45"
      },
      "execution_count": 7,
      "outputs": [
        {
          "output_type": "stream",
          "name": "stdout",
          "text": [
            "Majority element: 3\n",
            "Majority element: 2\n"
          ]
        }
      ]
    },
    {
      "cell_type": "markdown",
      "source": [
        "<aside>\n",
        "💡 2. **Longest Substring Without Repeating Characters**\n",
        "\n",
        "Given a string `s`, find the length of the **longest substring** without repeating characters.\n",
        "\n",
        "**Example 1:**\n",
        "\n",
        "```\n",
        "Input: s = \"abcabcbb\"\n",
        "Output: 3\n",
        "Explanation: The answer is \"abc\", with the length of 3.\n",
        "```\n",
        "\n",
        "**Example 2:**\n",
        "\n",
        "```\n",
        "Input: s = \"bbbbb\"\n",
        "Output: 1\n",
        "Explanation: The answer is \"b\", with the length of 1.\n",
        "```\n",
        "\n",
        "**Example 3:**\n",
        "\n",
        "```\n",
        "Input: s = \"pwwkew\"\n",
        "Output: 3\n",
        "Explanation: The answer is \"wke\", with the length of 3.\n",
        "Notice that the answer must be a substring, \"pwke\" is a subsequence and not a substring.\n",
        "```\n",
        "\n",
        "**Constraints:**\n",
        "\n",
        "- `0 <= s.length <= 50000`\n",
        "- `s` consists of English letters, digits, symbols and spaces.\n",
        "</aside>"
      ],
      "metadata": {
        "id": "TmM220H7k1r-"
      }
    },
    {
      "cell_type": "code",
      "source": [
        "def lengthOfLongestSubstring(s):\n",
        "    max_length = 0\n",
        "    start = 0\n",
        "    seen = {}\n",
        "\n",
        "    for end in range(len(s)):\n",
        "        if s[end] in seen and start <= seen[s[end]]:\n",
        "            start = seen[s[end]] + 1\n",
        "        else:\n",
        "            max_length = max(max_length, end - start + 1)\n",
        "\n",
        "        seen[s[end]] = end\n",
        "\n",
        "    return max_length\n",
        "\n",
        "\n",
        "# Driver code\n",
        "s = \"abcabcbb\"\n",
        "result = lengthOfLongestSubstring(s)\n",
        "print(\"Length of longest substring:\", result)\n",
        "\n",
        "s = \"bbbbb\"\n",
        "result = lengthOfLongestSubstring(s)\n",
        "print(\"Length of longest substring:\", result)\n",
        "\n",
        "s = \"pwwkew\"\n",
        "result = lengthOfLongestSubstring(s)\n",
        "print(\"Length of longest substring:\", result)\n"
      ],
      "metadata": {
        "colab": {
          "base_uri": "https://localhost:8080/"
        },
        "id": "zB0orxV5mDei",
        "outputId": "a9664992-b79a-4d82-d4ec-e666d429a65a"
      },
      "execution_count": 8,
      "outputs": [
        {
          "output_type": "stream",
          "name": "stdout",
          "text": [
            "Length of longest substring: 3\n",
            "Length of longest substring: 1\n",
            "Length of longest substring: 3\n"
          ]
        }
      ]
    },
    {
      "cell_type": "markdown",
      "source": [
        "<aside>\n",
        "💡 1. **Roman to Integer**\n",
        "\n",
        "Roman numerals are represented by seven different symbols: `I`, `V`, `X`, `L`, `C`, `D` and `M`.\n",
        "\n",
        "```\n",
        "SymbolValue\n",
        "I             1\n",
        "V             5\n",
        "X             10\n",
        "L             50\n",
        "C             100\n",
        "D             500\n",
        "M             1000\n",
        "```\n",
        "\n",
        "For example, `2` is written as `II` in Roman numeral, just two ones added together. `12` is written as `XII`, which is simply `X + II`. The number `27` is written as `XXVII`, which is `XX + V + II`.\n",
        "\n",
        "Roman numerals are usually written largest to smallest from left to right. However, the numeral for four is not `IIII`. Instead, the number four is written as `IV`. Because the one is before the five we subtract it making four. The same principle applies to the number nine, which is written as `IX`. There are six instances where subtraction is used:\n",
        "\n",
        "- `I` can be placed before `V` (5) and `X` (10) to make 4 and 9.\n",
        "- `X` can be placed before `L` (50) and `C` (100) to make 40 and 90.\n",
        "- `C` can be placed before `D` (500) and `M` (1000) to make 400 and 900.\n",
        "\n",
        "Given a roman numeral, convert it to an integer.\n",
        "\n",
        "**Example 1:**\n",
        "\n",
        "```\n",
        "Input: s = \"III\"\n",
        "Output: 3\n",
        "Explanation: III = 3.\n",
        "```\n",
        "\n",
        "**Example 2:**\n",
        "\n",
        "```\n",
        "Input: s = \"LVIII\"\n",
        "Output: 58\n",
        "Explanation: L = 50, V= 5, III = 3.\n",
        "```\n",
        "\n",
        "**Constraints:**\n",
        "\n",
        "- `1 <= s.length <= 15`\n",
        "- `s` contains only the characters `('I', 'V', 'X', 'L', 'C', 'D', 'M')`.\n",
        "- It is **guaranteed** that `s` is a valid roman numeral in the range `[1, 3999]`.\n",
        "</aside>"
      ],
      "metadata": {
        "id": "q4qSn9Ylk3Xi"
      }
    },
    {
      "cell_type": "code",
      "source": [
        "def romanToInt(s):\n",
        "    roman_values = {\n",
        "        'I': 1,\n",
        "        'V': 5,\n",
        "        'X': 10,\n",
        "        'L': 50,\n",
        "        'C': 100,\n",
        "        'D': 500,\n",
        "        'M': 1000\n",
        "    }\n",
        "    result = 0\n",
        "    prev_value = 0\n",
        "\n",
        "    for i in range(len(s)-1, -1, -1):\n",
        "        current_value = roman_values[s[i]]\n",
        "        if current_value < prev_value:\n",
        "            result -= current_value\n",
        "        else:\n",
        "            result += current_value\n",
        "        prev_value = current_value\n",
        "\n",
        "    return result\n",
        "\n",
        "\n",
        "# Driver code\n",
        "s = \"III\"\n",
        "result = romanToInt(s)\n",
        "print(\"Integer value:\", result)\n",
        "\n",
        "s = \"LVIII\"\n",
        "result = romanToInt(s)\n",
        "print(\"Integer value:\", result)\n"
      ],
      "metadata": {
        "colab": {
          "base_uri": "https://localhost:8080/"
        },
        "id": "30vT4DLwmOnR",
        "outputId": "3e25167a-da6e-4f97-cff2-30dda4f629ff"
      },
      "execution_count": 9,
      "outputs": [
        {
          "output_type": "stream",
          "name": "stdout",
          "text": [
            "Integer value: 3\n",
            "Integer value: 58\n"
          ]
        }
      ]
    },
    {
      "cell_type": "code",
      "source": [],
      "metadata": {
        "id": "VxtLjvn7mrbE"
      },
      "execution_count": null,
      "outputs": []
    }
  ]
}