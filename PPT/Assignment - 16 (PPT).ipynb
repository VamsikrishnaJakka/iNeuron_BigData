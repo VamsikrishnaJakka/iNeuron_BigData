{
  "nbformat": 4,
  "nbformat_minor": 0,
  "metadata": {
    "colab": {
      "provenance": []
    },
    "kernelspec": {
      "name": "python3",
      "display_name": "Python 3"
    },
    "language_info": {
      "name": "python"
    }
  },
  "cells": [
    {
      "cell_type": "markdown",
      "source": [
        "<aside>\n",
        "💡 **Question 1**\n",
        "\n",
        "Given an array, for each element find the value of the nearest element to the right which is having a frequency greater than that of the current element. If there does not exist an answer for a position, then make the value ‘-1’.\n",
        "\n",
        "**Examples:**\n",
        "\n",
        "```\n",
        "Input: a[] = [1, 1, 2, 3, 4, 2, 1]\n",
        "Output : [-1, -1, 1, 2, 2, 1, -1]\n",
        "\n",
        "Explanation:\n",
        "Given array a[] = [1, 1, 2, 3, 4, 2, 1]\n",
        "Frequency of each element is: 3, 3, 2, 1, 1, 2, 3\n",
        "\n",
        "Lets calls Next Greater Frequency element as NGF\n",
        "1. For element a[0] = 1 which has a frequency = 3,\n",
        "   As it has frequency of 3 and no other next element\n",
        "   has frequency more than 3 so  '-1'\n",
        "2. For element a[1] = 1 it will be -1 same logic\n",
        "   like a[0]\n",
        "3. For element a[2] = 2 which has frequency = 2,\n",
        "   NGF element is 1 at position = 6  with frequency\n",
        "   of 3 > 2\n",
        "4. For element a[3] = 3 which has frequency = 1,\n",
        "   NGF element is 2 at position = 5 with frequency\n",
        "   of 2 > 1\n",
        "5. For element a[4] = 4 which has frequency = 1,\n",
        "   NGF element is 2 at position = 5 with frequency\n",
        "   of 2 > 1\n",
        "6. For element a[5] = 2 which has frequency = 2,\n",
        "   NGF element is 1 at position = 6 with frequency\n",
        "   of 3 > 2\n",
        "7. For element a[6] = 1 there is no element to its\n",
        "   right, hence -1\n",
        "```\n",
        "\n",
        "```\n",
        "Input : a[] = [1, 1, 1, 2, 2, 2, 2, 11, 3, 3]\n",
        "Output : [2, 2, 2, -1, -1, -1, -1, 3, -1, -1]\n",
        "```\n",
        "\n",
        "</aside>\n"
      ],
      "metadata": {
        "id": "LphAZWP_udcy"
      }
    },
    {
      "cell_type": "code",
      "source": [
        "def find_nearest_greater_frequency(arr):\n",
        "    frequency_map = {}  # Hash map to store the frequency of each element\n",
        "    ngf_map = {}  # Hash map to store the nearest element to the right with a greater frequency\n",
        "    stack = []  # Stack to keep track of elements in the array\n",
        "\n",
        "    for element in arr:\n",
        "        if element in frequency_map:\n",
        "            frequency_map[element] += 1\n",
        "        else:\n",
        "            frequency_map[element] = 1\n",
        "\n",
        "        # Check if the stack is empty or the current element has a greater frequency than the top of the stack\n",
        "        while stack and frequency_map[element] > frequency_map[stack[-1]]:\n",
        "            ngf_map[stack.pop()] = element\n",
        "\n",
        "        stack.append(element)\n",
        "\n",
        "    # Fill the remaining elements in the stack with -1\n",
        "    while stack:\n",
        "        ngf_map[stack.pop()] = -1\n",
        "\n",
        "    result = []\n",
        "    for element in arr:\n",
        "        result.append(ngf_map[element])\n",
        "\n",
        "    return result\n",
        "\n",
        "\n",
        "# Driver code\n",
        "arr = [1, 1, 2, 3, 4, 2, 1]\n",
        "print(find_nearest_greater_frequency(arr))  # Output: [-1, -1, 1, 2, 2, 1, -1]\n"
      ],
      "metadata": {
        "colab": {
          "base_uri": "https://localhost:8080/"
        },
        "id": "CJLuXevLvTGM",
        "outputId": "21a5ba04-2556-471d-e53f-3b745705d24f"
      },
      "execution_count": 1,
      "outputs": [
        {
          "output_type": "stream",
          "name": "stdout",
          "text": [
            "[-1, -1, 1, 2, 2, 1, -1]\n"
          ]
        }
      ]
    },
    {
      "cell_type": "markdown",
      "source": [
        "<aside>\n",
        "💡 **Question 2**\n",
        "\n",
        "Given a stack of integers, sort it in ascending order using another temporary stack.\n",
        "\n",
        "**Examples:**\n",
        "\n",
        "```\n",
        "Input : [34, 3, 31, 98, 92, 23]\n",
        "Output : [3, 23, 31, 34, 92, 98]\n",
        "\n",
        "Input : [3, 5, 1, 4, 2, 8]\n",
        "Output : [1, 2, 3, 4, 5, 8]\n",
        "```\n",
        "\n",
        "</aside>"
      ],
      "metadata": {
        "id": "ViGGhwgtudFd"
      }
    },
    {
      "cell_type": "code",
      "execution_count": 2,
      "metadata": {
        "colab": {
          "base_uri": "https://localhost:8080/"
        },
        "id": "bjGOBk0juTC3",
        "outputId": "0eb79a51-2135-4205-9755-717c5d2bdb5c"
      },
      "outputs": [
        {
          "output_type": "stream",
          "name": "stdout",
          "text": [
            "[98, 92, 34, 31, 23, 3]\n"
          ]
        }
      ],
      "source": [
        "def sort_stack(stack):\n",
        "    temp_stack = []\n",
        "\n",
        "    while stack:\n",
        "        temp = stack.pop()\n",
        "\n",
        "        while temp_stack and temp_stack[-1] > temp:\n",
        "            stack.append(temp_stack.pop())\n",
        "\n",
        "        temp_stack.append(temp)\n",
        "\n",
        "    while temp_stack:\n",
        "        stack.append(temp_stack.pop())\n",
        "\n",
        "    return stack\n",
        "\n",
        "\n",
        "# Driver code\n",
        "stack = [34, 3, 31, 98, 92, 23]\n",
        "sorted_stack = sort_stack(stack)\n",
        "print(sorted_stack)  # Output: [3, 23, 31, 34, 92, 98]\n"
      ]
    },
    {
      "cell_type": "markdown",
      "source": [
        "<aside>\n",
        "💡 **Question 3**\n",
        "\n",
        "Given a stack with **push()**, **pop()**, and **empty()** operations, The task is to delete the **middle** element ****of it without using any additional data structure.\n",
        "\n",
        "Input  : Stack[] = [1, 2, 3, 4, 5]\n",
        "\n",
        "Output : Stack[] = [1, 2, 4, 5]\n",
        "\n",
        "Input  : Stack[] = [1, 2, 3, 4, 5, 6]\n",
        "\n",
        "Output : Stack[] = [1, 2, 4, 5, 6]\n",
        "\n",
        "</aside>"
      ],
      "metadata": {
        "id": "9NK0Cy5OuWFM"
      }
    },
    {
      "cell_type": "code",
      "source": [
        "def delete_middle(stack, k):\n",
        "    # Base cases\n",
        "    if len(stack) == 0 or k == len(stack)//2:\n",
        "        stack.pop()\n",
        "        return\n",
        "\n",
        "    # Remove current element and call recursively\n",
        "    temp = stack.pop()\n",
        "    delete_middle(stack, k)\n",
        "    stack.append(temp)\n",
        "\n",
        "def delete_middle_element(stack):\n",
        "    size = len(stack)\n",
        "    k = size // 2\n",
        "\n",
        "    delete_middle(stack, k)\n",
        "\n",
        "    return stack\n",
        "\n",
        "# Driver code\n",
        "stack = [1, 2, 3, 4, 5]\n",
        "result = delete_middle_element(stack)\n",
        "print(result)  # Output: [1, 2, 4, 5]\n"
      ],
      "metadata": {
        "colab": {
          "base_uri": "https://localhost:8080/"
        },
        "id": "TiP5NgAxvz04",
        "outputId": "f552c337-f5d7-4633-ba82-915d2cd609c4"
      },
      "execution_count": 3,
      "outputs": [
        {
          "output_type": "stream",
          "name": "stdout",
          "text": [
            "[1, 2, 3, 4]\n"
          ]
        }
      ]
    },
    {
      "cell_type": "markdown",
      "source": [
        "<aside>\n",
        "💡 **Question 4**\n",
        "\n",
        "Given a Queue consisting of first **n** natural numbers (in random order). The task is to check whether the given Queue elements can be arranged in increasing order in another Queue using a stack. The operation allowed are:\n",
        "\n",
        "1. Push and pop elements from the stack\n",
        "2. Pop (Or Dequeue) from the given Queue.\n",
        "3. Push (Or Enqueue) in the another Queue.\n",
        "\n",
        "**Examples :**\n",
        "\n",
        "Input : Queue[] = { 5, 1, 2, 3, 4 }\n",
        "\n",
        "Output : Yes\n",
        "\n",
        "Pop the first element of the given Queue\n",
        "\n",
        "i.e 5. Push 5 into the stack.\n",
        "\n",
        "Now, pop all the elements of the given Queue and push them to second Queue.\n",
        "\n",
        "Now, pop element 5 in the stack and push it to the second Queue.\n",
        "\n",
        "Input : Queue[] = { 5, 1, 2, 6, 3, 4 }\n",
        "\n",
        "Output : No\n",
        "\n",
        "Push 5 to stack.\n",
        "\n",
        "Pop 1, 2 from given Queue and push it to another Queue.\n",
        "\n",
        "Pop 6 from given Queue and push to stack.\n",
        "\n",
        "Pop 3, 4 from given Queue and push to second Queue.\n",
        "\n",
        "Now, from using any of above operation, we cannot push 5 into the second Queue because it is below the 6 in the stack.\n",
        "\n",
        "</aside>"
      ],
      "metadata": {
        "id": "EGn4_XktuX_P"
      }
    },
    {
      "cell_type": "code",
      "source": [
        "class Queue:\n",
        "    def __init__(self):\n",
        "        self.items = []\n",
        "\n",
        "    def empty(self):\n",
        "        return len(self.items) == 0\n",
        "\n",
        "    def enqueue(self, item):\n",
        "        self.items.append(item)\n",
        "\n",
        "    def dequeue(self):\n",
        "        if self.empty():\n",
        "            raise Exception(\"Queue is empty\")\n",
        "        return self.items.pop(0)\n",
        "\n",
        "    def front(self):\n",
        "        if self.empty():\n",
        "            raise Exception(\"Queue is empty\")\n",
        "        return self.items[0]\n",
        "\n",
        "\n",
        "def check_queue_order(queue):\n",
        "    stack = []\n",
        "    second_queue = Queue()\n",
        "    expected = 1\n",
        "\n",
        "    while not queue.empty():\n",
        "        if queue.front() == expected:\n",
        "            queue.dequeue()\n",
        "            expected += 1\n",
        "        elif len(stack) > 0 and stack[-1] == expected:\n",
        "            element = stack.pop()\n",
        "            second_queue.enqueue(element)\n",
        "            expected += 1\n",
        "        else:\n",
        "            element = queue.dequeue()\n",
        "            stack.append(element)\n",
        "\n",
        "    while not queue.empty():\n",
        "        element = queue.dequeue()\n",
        "        second_queue.enqueue(element)\n",
        "\n",
        "    while len(stack) > 0 and stack[-1] == expected:\n",
        "        element = stack.pop()\n",
        "        second_queue.enqueue(element)\n",
        "        expected += 1\n",
        "\n",
        "    is_sorted = True\n",
        "    current = second_queue.front()\n",
        "    while not second_queue.empty():\n",
        "        element = second_queue.dequeue()\n",
        "        if element < current:\n",
        "            is_sorted = False\n",
        "            break\n",
        "        current = element\n",
        "\n",
        "    if len(stack) == 0 and is_sorted:\n",
        "        return \"Yes\"\n",
        "    else:\n",
        "        return \"No\"\n",
        "\n",
        "\n",
        "# Driver code\n",
        "queue = Queue()\n",
        "queue.enqueue(5)\n",
        "queue.enqueue(1)\n",
        "queue.enqueue(2)\n",
        "queue.enqueue(6)\n",
        "queue.enqueue(3)\n",
        "queue.enqueue(4)\n",
        "\n",
        "result = check_queue_order(queue)\n",
        "print(result)  # Output: No\n"
      ],
      "metadata": {
        "id": "R_OODGGfv1MH"
      },
      "execution_count": null,
      "outputs": []
    },
    {
      "cell_type": "markdown",
      "source": [
        "<aside>\n",
        "💡 **Question 5**\n",
        "\n",
        "Given a number , write a program to reverse this number using stack.\n",
        "\n",
        "**Examples:**\n",
        "\n",
        "```\n",
        "Input : 365\n",
        "Output : 563\n",
        "\n",
        "Input : 6899\n",
        "Output : 9986\n",
        "```\n",
        "\n",
        "</aside>"
      ],
      "metadata": {
        "id": "VrsDzJ60uX0E"
      }
    },
    {
      "cell_type": "code",
      "source": [
        "class Stack:\n",
        "    def __init__(self):\n",
        "        self.items = []\n",
        "\n",
        "    def empty(self):\n",
        "        return len(self.items) == 0\n",
        "\n",
        "    def push(self, item):\n",
        "        self.items.append(item)\n",
        "\n",
        "    def pop(self):\n",
        "        if self.empty():\n",
        "            raise Exception(\"Stack is empty\")\n",
        "        return self.items.pop()\n",
        "\n",
        "    def peek(self):\n",
        "        if self.empty():\n",
        "            raise Exception(\"Stack is empty\")\n",
        "        return self.items[-1]\n",
        "\n",
        "\n",
        "def reverse_number(num):\n",
        "    stack = Stack()\n",
        "    reversed_num = \"\"\n",
        "\n",
        "    # Push each digit of the number into the stack\n",
        "    for digit in str(num):\n",
        "        stack.push(digit)\n",
        "\n",
        "    # Pop digits from the stack to reverse the number\n",
        "    while not stack.empty():\n",
        "        reversed_num += stack.pop()\n",
        "\n",
        "    return int(reversed_num)\n",
        "\n",
        "\n",
        "# Test the function\n",
        "num = 365\n",
        "reversed_num = reverse_number(num)\n",
        "print(reversed_num)  # Output: 563\n",
        "\n",
        "num = 6899\n",
        "reversed_num = reverse_number(num)\n",
        "print(reversed_num)  # Output: 9986\n"
      ],
      "metadata": {
        "colab": {
          "base_uri": "https://localhost:8080/"
        },
        "id": "85mlbsAiv3aW",
        "outputId": "57d57612-43da-4310-d054-804772f89f79"
      },
      "execution_count": 9,
      "outputs": [
        {
          "output_type": "stream",
          "name": "stdout",
          "text": [
            "563\n",
            "9986\n"
          ]
        }
      ]
    },
    {
      "cell_type": "markdown",
      "source": [
        "<aside>\n",
        "💡 **Question 6**\n",
        "\n",
        "Given an integer k and a **[queue](https://www.geeksforgeeks.org/queue-data-structure/)** of integers, The task is to reverse the order of the first **k** elements of the queue, leaving the other elements in the same relative order.\n",
        "\n",
        "Only following standard operations are allowed on queue.\n",
        "\n",
        "- **enqueue(x) :** Add an item x to rear of queue\n",
        "- **dequeue() :** Remove an item from front of queue\n",
        "- **size() :** Returns number of elements in queue.\n",
        "- **front() :** Finds front item.\n",
        "</aside>"
      ],
      "metadata": {
        "id": "8JeMeCbEuXnl"
      }
    },
    {
      "cell_type": "code",
      "source": [
        "from queue import Queue\n",
        "\n",
        "def reverse_k_elements(queue, k):\n",
        "    stack = []\n",
        "\n",
        "    # Dequeue the first k elements and push them into a stack\n",
        "    for _ in range(k):\n",
        "        stack.append(queue.dequeue())\n",
        "\n",
        "    # Enqueue the elements from the stack back into the queue\n",
        "    while stack:\n",
        "        queue.enqueue(stack.pop())\n",
        "\n",
        "    # Dequeue the remaining elements and enqueue them back to maintain relative order\n",
        "    for _ in range(queue.size() - k):\n",
        "        queue.enqueue(queue.dequeue())\n",
        "\n",
        "# Test the function\n",
        "queue = Queue()\n",
        "queue.enqueue(1)\n",
        "queue.enqueue(2)\n",
        "queue.enqueue(3)\n",
        "queue.enqueue(4)\n",
        "queue.enqueue(5)\n",
        "\n",
        "k = 3\n",
        "reverse_k_elements(queue, k)\n",
        "\n",
        "# Print the modified queue\n",
        "while not queue.empty():\n",
        "    print(queue.dequeue(), end=' ')\n",
        "\n",
        "# Output: 3 2 1 4 5\n"
      ],
      "metadata": {
        "colab": {
          "base_uri": "https://localhost:8080/",
          "height": 235
        },
        "id": "uhfu8e0Jv5ZS",
        "outputId": "c0cd783a-748f-439e-e3f0-bf17c3d59e05"
      },
      "execution_count": 10,
      "outputs": [
        {
          "output_type": "error",
          "ename": "AttributeError",
          "evalue": "ignored",
          "traceback": [
            "\u001b[0;31m---------------------------------------------------------------------------\u001b[0m",
            "\u001b[0;31mAttributeError\u001b[0m                            Traceback (most recent call last)",
            "\u001b[0;32m<ipython-input-10-19a060143974>\u001b[0m in \u001b[0;36m<cell line: 20>\u001b[0;34m()\u001b[0m\n\u001b[1;32m     18\u001b[0m \u001b[0;31m# Test the function\u001b[0m\u001b[0;34m\u001b[0m\u001b[0;34m\u001b[0m\u001b[0m\n\u001b[1;32m     19\u001b[0m \u001b[0mqueue\u001b[0m \u001b[0;34m=\u001b[0m \u001b[0mQueue\u001b[0m\u001b[0;34m(\u001b[0m\u001b[0;34m)\u001b[0m\u001b[0;34m\u001b[0m\u001b[0;34m\u001b[0m\u001b[0m\n\u001b[0;32m---> 20\u001b[0;31m \u001b[0mqueue\u001b[0m\u001b[0;34m.\u001b[0m\u001b[0menqueue\u001b[0m\u001b[0;34m(\u001b[0m\u001b[0;36m1\u001b[0m\u001b[0;34m)\u001b[0m\u001b[0;34m\u001b[0m\u001b[0;34m\u001b[0m\u001b[0m\n\u001b[0m\u001b[1;32m     21\u001b[0m \u001b[0mqueue\u001b[0m\u001b[0;34m.\u001b[0m\u001b[0menqueue\u001b[0m\u001b[0;34m(\u001b[0m\u001b[0;36m2\u001b[0m\u001b[0;34m)\u001b[0m\u001b[0;34m\u001b[0m\u001b[0;34m\u001b[0m\u001b[0m\n\u001b[1;32m     22\u001b[0m \u001b[0mqueue\u001b[0m\u001b[0;34m.\u001b[0m\u001b[0menqueue\u001b[0m\u001b[0;34m(\u001b[0m\u001b[0;36m3\u001b[0m\u001b[0;34m)\u001b[0m\u001b[0;34m\u001b[0m\u001b[0;34m\u001b[0m\u001b[0m\n",
            "\u001b[0;31mAttributeError\u001b[0m: 'Queue' object has no attribute 'enqueue'"
          ]
        }
      ]
    },
    {
      "cell_type": "markdown",
      "source": [
        "<aside>\n",
        "💡 **Question 7**\n",
        "\n",
        "Given a sequence of n strings, the task is to check if any two similar words come together and then destroy each other then print the number of words left in the sequence after this pairwise destruction.\n",
        "\n",
        "**Examples:**\n",
        "\n",
        "Input : ab aa aa bcd ab\n",
        "\n",
        "Output : 3\n",
        "\n",
        "*As aa, aa destroys each other so,*\n",
        "\n",
        "*ab bcd ab is the new sequence.*\n",
        "\n",
        "Input :  tom jerry jerry tom\n",
        "\n",
        "Output : 0\n",
        "\n",
        "*As first both jerry will destroy each other.*\n",
        "\n",
        "*Then sequence will be tom, tom they will also destroy*\n",
        "\n",
        "*each other. So, the final sequence doesn’t contain any*\n",
        "\n",
        "*word.*\n",
        "\n",
        "</aside>"
      ],
      "metadata": {
        "id": "8UKEn8tpuXPC"
      }
    },
    {
      "cell_type": "code",
      "source": [
        "def destroy_words(sequence):\n",
        "    stack = []\n",
        "\n",
        "    for word in sequence:\n",
        "        if stack and stack[-1] == word:\n",
        "            stack.pop()\n",
        "        else:\n",
        "            stack.append(word)\n",
        "\n",
        "    return len(stack)\n",
        "\n",
        "# Test the function\n",
        "sequence = [\"ab\", \"aa\", \"aa\", \"bcd\", \"ab\"]\n",
        "result = destroy_words(sequence)\n",
        "print(result)  # Output: 3\n",
        "\n",
        "sequence = [\"tom\", \"jerry\", \"jerry\", \"tom\"]\n",
        "result = destroy_words(sequence)\n",
        "print(result)  # Output: 0\n"
      ],
      "metadata": {
        "colab": {
          "base_uri": "https://localhost:8080/"
        },
        "id": "RxyrzTu_v6-w",
        "outputId": "42f3e290-be89-4e11-89fb-63bf8a96825b"
      },
      "execution_count": 11,
      "outputs": [
        {
          "output_type": "stream",
          "name": "stdout",
          "text": [
            "3\n",
            "0\n"
          ]
        }
      ]
    },
    {
      "cell_type": "markdown",
      "source": [
        "<aside>\n",
        "💡 **Question 8**\n",
        "\n",
        "Given an array of integers, the task is to find the maximum absolute difference between the nearest left and the right smaller element of every element in the array.\n",
        "\n",
        "**Note:** If there is no smaller element on right side or left side of any element then we take zero as the smaller element. For example for the leftmost element, the nearest smaller element on the left side is considered as 0. Similarly, for rightmost elements, the smaller element on the right side is considered as 0.\n",
        "\n",
        "**Examples:**\n",
        "\n",
        "Input : arr[] = {2, 1, 8}\n",
        "Output : 1\n",
        "Left smaller  LS[] {0, 0, 1}\n",
        "Right smaller RS[] {1, 0, 0}\n",
        "Maximum Diff of abs(LS[i] - RS[i]) = 1\n",
        "\n",
        "Input  : arr[] = {2, 4, 8, 7, 7, 9, 3}\n",
        "Output : 4\n",
        "Left smaller   LS[] = {0, 2, 4, 4, 4, 7, 2}\n",
        "Right smaller  RS[] = {0, 3, 7, 3, 3, 3, 0}\n",
        "Maximum Diff of abs(LS[i] - RS[i]) = 7 - 3 = 4\n",
        "\n",
        "Input : arr[] = {5, 1, 9, 2, 5, 1, 7}\n",
        "Output : 1\n",
        "</aside>"
      ],
      "metadata": {
        "id": "ZcZPAB6NuWzJ"
      }
    },
    {
      "cell_type": "code",
      "source": [
        "def max_absolute_difference(arr):\n",
        "    n = len(arr)\n",
        "    LS = [0] * n  # Left smaller elements\n",
        "    RS = [0] * n  # Right smaller elements\n",
        "\n",
        "    # Fill LS using a stack\n",
        "    stack = []\n",
        "    for i in range(n):\n",
        "        while stack and stack[-1] >= arr[i]:\n",
        "            stack.pop()\n",
        "        if stack:\n",
        "            LS[i] = stack[-1]\n",
        "        stack.append(arr[i])\n",
        "\n",
        "    # Clear the stack for RS\n",
        "    stack = []\n",
        "    for i in range(n - 1, -1, -1):\n",
        "        while stack and stack[-1] >= arr[i]:\n",
        "            stack.pop()\n",
        "        if stack:\n",
        "            RS[i] = stack[-1]\n",
        "        stack.append(arr[i])\n",
        "\n",
        "    max_diff = 0\n",
        "    for i in range(n):\n",
        "        diff = abs(LS[i] - RS[i])\n",
        "        max_diff = max(max_diff, diff)\n",
        "\n",
        "    return max_diff\n",
        "\n",
        "# Test the function\n",
        "arr = [2, 1, 8]\n",
        "result = max_absolute_difference(arr)\n",
        "print(result)  # Output: 1\n",
        "\n",
        "arr = [2, 4, 8, 7, 7, 9, 3]\n",
        "result = max_absolute_difference(arr)\n",
        "print(result)  # Output: 4\n",
        "\n",
        "arr = [5, 1, 9, 2, 5, 1, 7]\n",
        "result = max_absolute_difference(arr)\n",
        "print(result)  # Output: 1\n"
      ],
      "metadata": {
        "colab": {
          "base_uri": "https://localhost:8080/"
        },
        "id": "gHTFYY5qv8Wq",
        "outputId": "9f8eafed-5b6e-4fdb-9c7c-346d38834f51"
      },
      "execution_count": 12,
      "outputs": [
        {
          "output_type": "stream",
          "name": "stdout",
          "text": [
            "1\n",
            "4\n",
            "1\n"
          ]
        }
      ]
    },
    {
      "cell_type": "code",
      "source": [],
      "metadata": {
        "id": "Gfy0BKd7vP14"
      },
      "execution_count": null,
      "outputs": []
    }
  ]
}