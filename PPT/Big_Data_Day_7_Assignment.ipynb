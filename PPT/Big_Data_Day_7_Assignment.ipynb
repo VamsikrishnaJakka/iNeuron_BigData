{
  "nbformat": 4,
  "nbformat_minor": 0,
  "metadata": {
    "colab": {
      "provenance": []
    },
    "kernelspec": {
      "name": "python3",
      "display_name": "Python 3"
    },
    "language_info": {
      "name": "python"
    }
  },
  "cells": [
    {
      "cell_type": "markdown",
      "source": [
        "1. NoSQL Databases:\n",
        "   a. Write a Python program that connects to a MongoDB database and inserts a new document into a collection named \"students\". The document should include fields such as \"name\", \"age\", and \"grade\". Print a success message after the insertion.\n",
        "   b. Implement a Python function that connects to a Cassandra database and inserts a new record into a table named \"products\". The record should contain fields like \"id\", \"name\", and \"price\". Handle any potential errors that may occur during the insertion.\n"
      ],
      "metadata": {
        "id": "mkZ0l3thMJvk"
      }
    },
    {
      "cell_type": "code",
      "execution_count": null,
      "metadata": {
        "id": "astlKwH4MFrs"
      },
      "outputs": [],
      "source": [
        "# a)\n",
        "\n",
        "from pymongo import MongoClient\n",
        "\n",
        "# Connect to MongoDB\n",
        "client = MongoClient('mongodb://localhost:27017/')\n",
        "database = client['mydatabase']  # Replace 'mydatabase' with your database name\n",
        "collection = database['students']  # Replace 'students' with your collection name\n",
        "\n",
        "# Prepare the document\n",
        "document = {\n",
        "    'name': 'John Doe',\n",
        "    'age': 20,\n",
        "    'grade': 'A'\n",
        "}\n",
        "\n",
        "# Insert the document into the collection\n",
        "collection.insert_one(document)\n",
        "\n",
        "# Print success message\n",
        "print(\"Document inserted successfully.\")\n"
      ]
    },
    {
      "cell_type": "code",
      "source": [
        "#b)\n",
        "\n",
        "from cassandra.cluster import Cluster\n",
        "from cassandra.auth import PlainTextAuthProvider\n",
        "from cassandra import ConsistencyLevel\n",
        "from cassandra.query import SimpleStatement\n",
        "\n",
        "def insert_product(product_id, product_name, product_price):\n",
        "    # Connect to Cassandra\n",
        "    auth_provider = PlainTextAuthProvider(username='your_username', password='your_password')\n",
        "    cluster = Cluster(['localhost'], auth_provider=auth_provider)\n",
        "    session = cluster.connect('your_keyspace')  # Replace 'your_keyspace' with your keyspace name\n",
        "\n",
        "    # Prepare the query\n",
        "    query = \"\"\"\n",
        "        INSERT INTO products (id, name, price)\n",
        "        VALUES (?, ?, ?)\n",
        "    \"\"\"\n",
        "    prepared = session.prepare(query)\n",
        "    statement = SimpleStatement(prepared, consistency_level=ConsistencyLevel.QUORUM)\n",
        "\n",
        "    # Execute the query\n",
        "    try:\n",
        "        session.execute(statement, (product_id, product_name, product_price))\n",
        "        print(\"Record inserted successfully.\")\n",
        "    except Exception as e:\n",
        "        print(\"Error occurred while inserting record:\", str(e))\n",
        "\n",
        "    # Close the connection\n",
        "    session.shutdown()\n",
        "    cluster.shutdown()\n",
        "\n",
        "# Example usage\n",
        "insert_product(1, 'Product A', 9.99)\n"
      ],
      "metadata": {
        "id": "lAgnE_LnMXeI"
      },
      "execution_count": null,
      "outputs": []
    },
    {
      "cell_type": "markdown",
      "source": [
        "2. Document-oriented NoSQL Databases:\n",
        "   a. Given a MongoDB collection named \"books\", write a Python function that fetches all the books published in the last year and prints their titles and authors.\n",
        "   b. Design a schema for a document-oriented NoSQL database to store customer information for an e-commerce platform. Write a Python program to insert a new customer document into the database and handle any necessary validations.\n"
      ],
      "metadata": {
        "id": "pyYbY_hHMiuy"
      }
    },
    {
      "cell_type": "code",
      "source": [
        "#a)\n",
        "\n",
        "from pymongo import MongoClient\n",
        "from datetime import datetime, timedelta\n",
        "\n",
        "def fetch_recent_books():\n",
        "    # Connect to MongoDB\n",
        "    client = MongoClient('mongodb://localhost:27017/')\n",
        "    database = client['mydatabase']  # Replace 'mydatabase' with your database name\n",
        "    collection = database['books']  # Replace 'books' with your collection name\n",
        "\n",
        "    # Calculate the date one year ago from today\n",
        "    one_year_ago = datetime.now() - timedelta(days=365)\n",
        "\n",
        "    # Query for books published in the last year\n",
        "    query = {'publish_date': {'$gte': one_year_ago}}\n",
        "    projection = {'title': 1, 'author': 1}\n",
        "    books = collection.find(query, projection)\n",
        "\n",
        "    # Print book titles and authors\n",
        "    for book in books:\n",
        "        print(f\"Title: {book['title']}\")\n",
        "        print(f\"Author: {book['author']}\")\n",
        "        print()\n",
        "\n",
        "    # Close the connection\n",
        "    client.close()\n",
        "\n",
        "# Example usage\n",
        "fetch_recent_books()\n"
      ],
      "metadata": {
        "id": "8Yieid74MfQI"
      },
      "execution_count": null,
      "outputs": []
    },
    {
      "cell_type": "code",
      "source": [
        "# b)\n",
        "\n",
        "{\n",
        "    \"_id\": \"unique_customer_id\",\n",
        "    \"name\": \"customer_name\",\n",
        "    \"email\": \"customer_email\",\n",
        "    \"address\": {\n",
        "        \"street\": \"street_address\",\n",
        "        \"city\": \"city_name\",\n",
        "        \"state\": \"state_name\",\n",
        "        \"country\": \"country_name\",\n",
        "        \"zip_code\": \"zip_code\"\n",
        "    },\n",
        "    \"phone\": \"phone_number\",\n",
        "    \"orders\": [\n",
        "        {\n",
        "            \"order_id\": \"unique_order_id\",\n",
        "            \"order_date\": \"order_date\",\n",
        "            \"items\": [\n",
        "                {\n",
        "                    \"product_id\": \"unique_product_id\",\n",
        "                    \"product_name\": \"product_name\",\n",
        "                    \"quantity\": \"quantity\",\n",
        "                    \"price\": \"price\"\n",
        "                },\n",
        "                ...\n",
        "            ],\n",
        "            \"total_amount\": \"order_total_amount\"\n",
        "        },\n",
        "        ...\n",
        "    ]\n",
        "}\n"
      ],
      "metadata": {
        "colab": {
          "base_uri": "https://localhost:8080/"
        },
        "id": "c5FItZH7Mv97",
        "outputId": "56bc2053-902e-4252-f84d-57101b99c00a"
      },
      "execution_count": null,
      "outputs": [
        {
          "output_type": "execute_result",
          "data": {
            "text/plain": [
              "{'_id': 'unique_customer_id',\n",
              " 'name': 'customer_name',\n",
              " 'email': 'customer_email',\n",
              " 'address': {'street': 'street_address',\n",
              "  'city': 'city_name',\n",
              "  'state': 'state_name',\n",
              "  'country': 'country_name',\n",
              "  'zip_code': 'zip_code'},\n",
              " 'phone': 'phone_number',\n",
              " 'orders': [{'order_id': 'unique_order_id',\n",
              "   'order_date': 'order_date',\n",
              "   'items': [{'product_id': 'unique_product_id',\n",
              "     'product_name': 'product_name',\n",
              "     'quantity': 'quantity',\n",
              "     'price': 'price'},\n",
              "    Ellipsis],\n",
              "   'total_amount': 'order_total_amount'},\n",
              "  Ellipsis]}"
            ]
          },
          "metadata": {},
          "execution_count": 5
        }
      ]
    },
    {
      "cell_type": "markdown",
      "source": [
        "3. High Availability and Fault Tolerance:\n",
        "   a. Explain the concept of replica sets in MongoDB. Write a Python program that connects to a MongoDB replica set and retrieves the status of the primary and secondary nodes.\n",
        "   b. Describe how Cassandra ensures high availability and fault tolerance in a distributed database system. Write a Python program that connects to a Cassandra cluster and fetches the status of the nodes.\n"
      ],
      "metadata": {
        "id": "KqmnXwObM4gN"
      }
    },
    {
      "cell_type": "code",
      "source": [
        "# # a)In MongoDB, a replica set is a cluster of MongoDB servers that work together to provide high availability and data redundancy. It consists of multiple nodes, where one node acts as the primary and the others act as secondary nodes. The primary node receives write operations and propagates the changes to the secondary nodes, ensuring data consistency.\n",
        "\n",
        "# Here's a Python program that connects to a MongoDB replica set and retrieves the status of the primary and secondary nodes:\n",
        "\n",
        "from pymongo import MongoClient\n",
        "\n",
        "# Connect to the replica set\n",
        "client = MongoClient('mongodb://localhost:27017,localhost:27018,localhost:27019/?replicaSet=myReplicaSet')\n",
        "\n",
        "# Get the replica set status\n",
        "status = client.admin.command('replSetGetStatus')\n",
        "\n",
        "# Print the status of each node\n",
        "for member in status['members']:\n",
        "    if member['stateStr'] == 'PRIMARY':\n",
        "        print(f\"Primary Node: {member['name']}\")\n",
        "    elif member['stateStr'] == 'SECONDARY':\n",
        "        print(f\"Secondary Node: {member['name']}\")\n",
        "\n",
        "# Close the connection\n",
        "client.close()\n"
      ],
      "metadata": {
        "id": "LvejTux9M1DN"
      },
      "execution_count": null,
      "outputs": []
    },
    {
      "cell_type": "code",
      "source": [
        "# b. Cassandra ensures high availability and fault tolerance in a distributed database system through the following mechanisms:\n",
        "\n",
        "# Partitioning and Replication: Cassandra partitions data across multiple nodes using a distributed hash-based partitioner. Each partition is replicated to multiple nodes to ensure data redundancy and fault tolerance.\n",
        "\n",
        "# Peer-to-Peer Architecture: Cassandra follows a peer-to-peer architecture, where all nodes are equal and communicate with each other without a central coordinator. This decentralized approach enables fault tolerance and scalability.\n",
        "\n",
        "# Data Replication Strategy: Cassandra allows choosing a data replication strategy, such as SimpleStrategy or NetworkTopologyStrategy. The replication strategy determines how data is distributed across nodes and ensures replicas are placed in different data centers or racks for fault tolerance.\n",
        "\n",
        "# Gossip Protocol: Cassandra uses a gossip protocol to disseminate information about the cluster's status and health among nodes. Nodes exchange information about the availability and status of other nodes, allowing them to detect failures and maintain a consistent view of the cluster.\n",
        "\n",
        "# Here's an example Python program that connects to a Cassandra cluster and fetches the status of the nodes using the nodetool utility:\n",
        "\n",
        "\n",
        "import subprocess\n",
        "\n",
        "def fetch_node_status():\n",
        "    # Execute nodetool status command\n",
        "    output = subprocess.check_output(['nodetool', 'status']).decode('utf-8')\n",
        "\n",
        "    # Parse and print the status of each node\n",
        "    lines = output.split('\\n')\n",
        "    for line in lines[1:]:\n",
        "        if line.startswith('UN'):\n",
        "            parts = line.split()\n",
        "            node = parts[0]\n",
        "            status = parts[1]\n",
        "            print(f\"Node: {node}, Status: {status}\")\n",
        "\n",
        "# Example usage\n",
        "fetch_node_status()\n"
      ],
      "metadata": {
        "id": "4ceyMa41NCV9"
      },
      "execution_count": null,
      "outputs": []
    },
    {
      "cell_type": "markdown",
      "source": [
        "4. Sharding in MongoDB:\n",
        "   a. Explain the concept of sharding in MongoDB and how it improves performance and scalability. Write a Python program that sets up sharding for a MongoDB cluster and inserts multiple documents into a sharded collection.\n",
        "   b. Design a sharding strategy for a social media application where user data needs to be distributed across multiple shards. Write a Python program to demonstrate how data is distributed and retrieved from the sharded cluster.\n"
      ],
      "metadata": {
        "id": "zBkJ-CogNcIQ"
      }
    },
    {
      "cell_type": "code",
      "source": [
        "# a. Sharding in MongoDB is a technique used to horizontally partition data across multiple servers called shards. Each shard contains a subset of the data, and collectively they form a sharded cluster. Sharding improves performance and scalability by distributing the data and workload across multiple servers, allowing for increased storage capacity, throughput, and query performance.\n",
        "\n",
        "# When a sharded collection is created, MongoDB automatically partitions the data based on a shard key. The shard key is a field or combination of fields in the documents. MongoDB uses the shard key to determine which shard should store the document. The sharded cluster consists of the following components:\n",
        "\n",
        "# 1. **Mongos**: The mongos acts as a router and provides the interface for client applications to interact with the sharded cluster. It receives queries from clients, determines the target shards based on the shard key, and forwards the queries to the appropriate shards.\n",
        "\n",
        "# 2. **Config servers**: The config servers store the metadata and configuration for the sharded cluster. They maintain the mapping between the shard key ranges and the corresponding shards.\n",
        "\n",
        "# 3. **Shards**: Shards are individual MongoDB servers that store a portion of the sharded data. Each shard operates as a standalone replica set to provide high availability and data redundancy. The data is distributed across the shards based on the shard key.\n",
        "\n",
        "# Here's a Python program that sets up sharding for a MongoDB cluster and inserts multiple documents into a sharded collection:\n",
        "\n",
        "from pymongo import MongoClient\n",
        "\n",
        "# Connect to the config servers\n",
        "client = MongoClient('mongodb://configServer1:27017,configServer2:27017,configServer3:27017/?replicaSet=configReplSet')\n",
        "\n",
        "# Enable sharding for a database\n",
        "client.admin.command('enableSharding', 'mydatabase')  # Replace 'mydatabase' with your database name\n",
        "\n",
        "# Shard a collection based on a shard key\n",
        "client.admin.command('shardCollection', 'mydatabase.collection', key={'shardKeyField': 1})  # Replace 'collection' and 'shardKeyField' as needed\n",
        "\n",
        "# Connect to the mongos router\n",
        "client = MongoClient('mongodb://mongosServer1:27017,mongosServer2:27017')\n",
        "\n",
        "# Insert multiple documents into the sharded collection\n",
        "documents = [\n",
        "    {'shardKeyField': 1, 'field1': 'value1'},\n",
        "    {'shardKeyField': 2, 'field1': 'value2'},\n",
        "    # Add more documents as needed\n",
        "]\n",
        "client.mydatabase.collection.insert_many(documents)  # Replace 'collection' with your sharded collection name\n",
        "\n",
        "# Close the connection\n",
        "client.close()\n",
        "\n",
        "\n",
        "\n",
        "# b. Designing a sharding strategy for a social media application depends on various factors such as the expected data volume, access patterns, and query requirements. One possible sharding strategy for a social media application is to shard the data based on the user's unique identifier or username. This approach ensures that user data is distributed across multiple shards while still allowing efficient retrieval of user-related information.\n",
        "\n",
        "# Here's a Python program to demonstrate how data is distributed and retrieved from a sharded cluster based on the user's unique identifier:\n",
        "\n",
        "from pymongo import MongoClient\n",
        "\n",
        "# Connect to the mongos router\n",
        "client = MongoClient('mongodb://mongosServer1:27017,mongosServer2:27017')\n",
        "\n",
        "# Fetch user data based on the user's unique identifier\n",
        "def fetch_user_data(user_id):\n",
        "    collection = client.mydatabase.users  # Replace 'users' with your sharded collection name\n",
        "\n",
        "    query = {'_id': user_id}\n",
        "    user_data = collection.find_one(query)\n",
        "\n",
        "    return user_data\n",
        "\n",
        "# Insert a user document into the sharded collection\n",
        "def insert_user(user_id, username, data):\n",
        "    collection = client.mydatabase.users  # Replace 'users' with your sharded collection name\n",
        "\n",
        "    document = {'_id': user_id, 'username': username, 'data': data}\n",
        "    collection.insert_one(document)\n",
        "\n",
        "# Demonstrate fetching user data from the sharded cluster\n",
        "user_id = '12345'\n",
        "user_data = fetch_user_data(user_id)\n",
        "if user_data:\n",
        "    print(f\"User: {user_data['username']}\")\n",
        "    print(f\"Data: {user_data['data']}\")\n",
        "else:\n",
        "    print(\"User not found.\")\n",
        "\n",
        "# Close the connection\n",
        "client.close()\n"
      ],
      "metadata": {
        "id": "o8tQb73QNYkn"
      },
      "execution_count": null,
      "outputs": []
    },
    {
      "cell_type": "markdown",
      "source": [
        "5. Indexing in MongoDB:\n",
        "   a. Describe the concept of indexing in MongoDB and its importance in query optimization. Write a Python program that creates an index on a specific field in a MongoDB collection and executes a query using that index.\n",
        "   b. Given a MongoDB collection named \"products\", write a Python function that searches for products with a specific keyword in the name or description. Optimize the query by adding appropriate indexes.\n"
      ],
      "metadata": {
        "id": "da9JB2yKN79D"
      }
    },
    {
      "cell_type": "code",
      "source": [
        "# a. Indexing in MongoDB is a technique used to improve query performance by creating indexes on specific fields in a collection. An index is a data structure that allows for efficient data retrieval based on the indexed fields. MongoDB uses B-tree indexes by default, which provide fast access to data in sorted order.\n",
        "\n",
        "# Indexes in MongoDB are essential for query optimization as they can significantly reduce the number of documents that need to be scanned to satisfy a query. By creating indexes on frequently queried fields, MongoDB can quickly locate the relevant documents, leading to improved query performance.\n",
        "\n",
        "# Here's a Python program that creates an index on a specific field in a MongoDB collection and executes a query using that index:\n",
        "\n",
        "\n",
        "from pymongo import MongoClient\n",
        "\n",
        "# Connect to MongoDB\n",
        "client = MongoClient('mongodb://localhost:27017/')\n",
        "database = client['mydatabase']  # Replace 'mydatabase' with your database name\n",
        "collection = database['mycollection']  # Replace 'mycollection' with your collection name\n",
        "\n",
        "# Create an index on the 'name' field\n",
        "collection.create_index('name')\n",
        "\n",
        "# Execute a query using the index\n",
        "query = {'name': 'example'}\n",
        "result = collection.find(query)\n",
        "\n",
        "# Print the query results\n",
        "for document in result:\n",
        "    print(document)\n",
        "\n",
        "# Close the connection\n",
        "client.close()\n",
        "\n",
        "\n",
        "# b. Here's a Python function that searches for products with a specific keyword in the name or description in a MongoDB collection named \"products\". The function optimizes the query by adding appropriate indexes:\n",
        "\n",
        "\n",
        "from pymongo import MongoClient\n",
        "from pymongo.operations import IndexModel\n",
        "\n",
        "def search_products(keyword):\n",
        "    # Connect to MongoDB\n",
        "    client = MongoClient('mongodb://localhost:27017/')\n",
        "    database = client['mydatabase']  # Replace 'mydatabase' with your database name\n",
        "    collection = database['products']  # Replace 'products' with your collection name\n",
        "\n",
        "    # Create indexes on the 'name' and 'description' fields if they don't exist\n",
        "    index_name = IndexModel([('name', 'text')])\n",
        "    index_description = IndexModel([('description', 'text')])\n",
        "    collection.create_indexes([index_name, index_description])\n",
        "\n",
        "    # Execute the search query\n",
        "    query = {'$text': {'$search': keyword}}\n",
        "    result = collection.find(query)\n",
        "\n",
        "    # Print the query results\n",
        "    for document in result:\n",
        "        print(document)\n",
        "\n",
        "    # Close the connection\n",
        "    client.close()\n",
        "\n",
        "# Example usage\n",
        "search_products('keyword')"
      ],
      "metadata": {
        "id": "NLAyAp_FN3l1"
      },
      "execution_count": null,
      "outputs": []
    },
    {
      "cell_type": "code",
      "source": [],
      "metadata": {
        "id": "Kt724pvRONjZ"
      },
      "execution_count": null,
      "outputs": []
    }
  ]
}