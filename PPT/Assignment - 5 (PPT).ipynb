{
 "cells": [
  {
   "cell_type": "raw",
   "id": "0dd07f3d-c4f6-4b7e-bc41-d585fdbdeff8",
   "metadata": {},
   "source": [
    "💡 **Question 4**\n",
    "\n",
    "Given two **0-indexed** integer arrays nums1 and nums2, return *a list* answer *of size* 2 *where:*\n",
    "\n",
    "- answer[0] *is a list of all **distinct** integers in* nums1 *which are **not** present in* nums2*.*\n",
    "- answer[1] *is a list of all **distinct** integers in* nums2 *which are **not** present in* nums1.\n",
    "\n",
    "**Note** that the integers in the lists may be returned in **any** order.\n",
    "\n",
    "**Example 1:**\n",
    "\n",
    "**Input:** nums1 = [1,2,3], nums2 = [2,4,6]\n",
    "\n",
    "**Output:** [[1,3],[4,6]]\n",
    "\n",
    "**Explanation:**\n",
    "\n",
    "For nums1, nums1[1] = 2 is present at index 0 of nums2, whereas nums1[0] = 1 and nums1[2] = 3 are not present in nums2. Therefore, answer[0] = [1,3].\n",
    "\n",
    "For nums2, nums2[0] = 2 is present at index 1 of nums1, whereas nums2[1] = 4 and nums2[2] = 6 are not present in nums2. Therefore, answer[1] = [4,6]."
   ]
  },
  {
   "cell_type": "code",
   "execution_count": 1,
   "id": "44cd4c9d-1a2f-4ed2-9b25-9c28740cb4ab",
   "metadata": {},
   "outputs": [
    {
     "name": "stdout",
     "output_type": "stream",
     "text": [
      "Zero indexed array is :  [[1, 3], [4, 6]]\n"
     ]
    }
   ],
   "source": [
    "def NotinArray(arr1,arr2):\n",
    "    Zero_index = [[],[]]\n",
    "    \n",
    "    for i in range(len(arr1)):\n",
    "        if arr1[i] not in arr2 and arr1[i] not in Zero_index[0]:\n",
    "            Zero_index[0].append(arr1[i])\n",
    "            \n",
    "    for j in range(len(arr2)):\n",
    "        if arr2[j] not in arr1 and arr2[j] not in Zero_index[1]:\n",
    "            Zero_index[1].append(arr2[j])\n",
    "            \n",
    "    return Zero_index\n",
    "\n",
    "#Driver code\n",
    "arr1 = [1,2,3]\n",
    "arr2 = [2,4,6]\n",
    "result = NotinArray(arr1,arr2)\n",
    "print(\"Zero indexed array is : \",result)"
   ]
  },
  {
   "cell_type": "raw",
   "id": "102f07f1-48a0-4876-9e50-6fed2f6faf92",
   "metadata": {},
   "source": [
    "💡 **Question 2**\n",
    "\n",
    "You have n coins and you want to build a staircase with these coins. The staircase consists of k rows where the ith row has exactly i coins. The last row of the staircase **may be** incomplete.\n",
    "\n",
    "Given the integer n, return *the number of **complete rows** of the staircase you will build*.\n",
    "\n",
    "**Example 1:**\n",
    "\n",
    "**Input:** n = 5\n",
    "\n",
    "**Output:** 2\n",
    "\n",
    "**Explanation:** Because the 3rd row is incomplete, we return 2."
   ]
  },
  {
   "cell_type": "code",
   "execution_count": 2,
   "id": "5d8b9a6d-d526-47c8-826c-90987b21ed5d",
   "metadata": {},
   "outputs": [
    {
     "name": "stdout",
     "output_type": "stream",
     "text": [
      "Number of complete rows:  2\n"
     ]
    }
   ],
   "source": [
    "def arrangeCoins(n):\n",
    "    complete_rows = 0\n",
    "    coins = 0\n",
    "    \n",
    "    while coins <= n:\n",
    "        complete_rows += 1\n",
    "        coins += complete_rows\n",
    "        \n",
    "    return complete_rows - 1 if coins > n else complete_rows\n",
    "\n",
    "# Driver code\n",
    "n = 5\n",
    "result = arrangeCoins(n)\n",
    "print(\"Number of complete rows: \", result)"
   ]
  },
  {
   "cell_type": "raw",
   "id": "b2541ac5-f34f-4c29-b7da-3ae3a4f38126",
   "metadata": {},
   "source": [
    "💡 **Question 3**\n",
    "\n",
    "Given an integer array nums sorted in **non-decreasing** order, return *an array of **the squares of each number** sorted in non-decreasing order*.\n",
    "\n",
    "**Example 1:**\n",
    "\n",
    "**Input:** nums = [-4,-1,0,3,10]\n",
    "\n",
    "**Output:** [0,1,9,16,100]\n",
    "\n",
    "**Explanation:** After squaring, the array becomes [16,1,0,9,100].\n",
    "\n",
    "After sorting, it becomes [0,1,9,16,100]."
   ]
  },
  {
   "cell_type": "code",
   "execution_count": 3,
   "id": "d3509496-377e-48f2-9149-66d40c9c1a8d",
   "metadata": {},
   "outputs": [
    {
     "name": "stdout",
     "output_type": "stream",
     "text": [
      "Sorted squares of numbers:  [0, 1, 9, 16, 100]\n"
     ]
    }
   ],
   "source": [
    "def sortedSquares(nums):\n",
    "    squared_nums = [num ** 2 for num in nums] \n",
    "    \n",
    "    squared_nums.sort() \n",
    "    \n",
    "    return squared_nums\n",
    "\n",
    "# Driver code\n",
    "nums = [-4, -1, 0, 3, 10]\n",
    "result = sortedSquares(nums)\n",
    "print(\"Sorted squares of numbers: \", result)"
   ]
  },
  {
   "cell_type": "raw",
   "id": "f752a0d9-c4f8-4b5e-b58a-e9803071d0bd",
   "metadata": {},
   "source": [
    "💡 **Question 8**\n",
    "\n",
    "An integer array original is transformed into a **doubled** array changed by appending **twice the value** of every element in original, and then randomly **shuffling** the resulting array.\n",
    "\n",
    "Given an array changed, return original *if* changed *is a **doubled** array. If* changed *is not a **doubled** array, return an empty array. The elements in* original *may be returned in **any** order*.\n",
    "\n",
    "**Example 1:**\n",
    "\n",
    "**Input:** changed = [1,3,4,2,6,8]\n",
    "\n",
    "**Output:** [1,3,4]\n",
    "\n",
    "**Explanation:** One possible original array could be [1,3,4]:\n",
    "\n",
    "- Twice the value of 1 is 1 * 2 = 2.\n",
    "- Twice the value of 3 is 3 * 2 = 6.\n",
    "- Twice the value of 4 is 4 * 2 = 8.\n",
    "\n",
    "Other original arrays could be [4,3,1] or [3,1,4]."
   ]
  },
  {
   "cell_type": "code",
   "execution_count": 1,
   "id": "85c7b9f1-8ea3-4f08-b6b1-4c36f94a4959",
   "metadata": {},
   "outputs": [
    {
     "name": "stdout",
     "output_type": "stream",
     "text": [
      "Doubled array is :  [1, 3, 4]\n"
     ]
    }
   ],
   "source": [
    "def findOriginalArray(changed):\n",
    "    n = len(changed)\n",
    "    if n % 2 != 0:\n",
    "        return []  \n",
    "    \n",
    "    changed.sort() \n",
    "    original = []\n",
    "    \n",
    "    for i in range(n):\n",
    "        if changed[i] == -1:\n",
    "            continue  \n",
    "        \n",
    "        double = changed[i] * 2\n",
    "        \n",
    "        for j in range(i+1, n):\n",
    "            if changed[j] == double:\n",
    "                original.append(changed[i])\n",
    "                changed[j] = -1  \n",
    "                break \n",
    "    \n",
    "    if len(original) != n // 2:\n",
    "        return []  \n",
    "    \n",
    "    return original\n",
    "\n",
    "# Driver code\n",
    "changed = [1, 3, 4, 2, 6, 8]\n",
    "original = findOriginalArray(changed)\n",
    "print(\"Doubled array is : \",original)"
   ]
  },
  {
   "cell_type": "raw",
   "id": "08e15789-5683-42e0-aa65-17f6a851f75e",
   "metadata": {},
   "source": [
    "**Question 7**\n",
    "\n",
    "Suppose an array of length n sorted in ascending order is **rotated** between 1 and n times. For example, the array nums = [0,1,2,4,5,6,7] might become:\n",
    "\n",
    "- [4,5,6,7,0,1,2] if it was rotated 4 times.\n",
    "- [0,1,2,4,5,6,7] if it was rotated 7 times.\n",
    "\n",
    "Notice that **rotating** an array [a[0], a[1], a[2], ..., a[n-1]] 1 time results in the array [a[n-1], a[0], a[1], a[2], ..., a[n-2]].\n",
    "\n",
    "Given the sorted rotated array nums of **unique** elements, return *the minimum element of this array*.\n",
    "\n",
    "You must write an algorithm that runs in O(log n) time.\n",
    "\n",
    "**Example 1:**\n",
    "\n",
    "**Input:** nums = [3,4,5,1,2]\n",
    "\n",
    "**Output:** 1\n",
    "\n",
    "**Explanation:**\n",
    "\n",
    "The original array was [1,2,3,4,5] rotated 3 times."
   ]
  },
  {
   "cell_type": "code",
   "execution_count": 2,
   "id": "54e2976c-03ab-48a9-a95c-b1f5ff6fc364",
   "metadata": {},
   "outputs": [
    {
     "name": "stdout",
     "output_type": "stream",
     "text": [
      "Minimum element is :  1\n"
     ]
    }
   ],
   "source": [
    "def findMin(nums):\n",
    "    left = 0\n",
    "    right = len(nums) - 1\n",
    "    \n",
    "    while left < right:\n",
    "        mid = left + (right - left) // 2\n",
    "        \n",
    "        if nums[mid] > nums[right]:\n",
    "            left = mid + 1\n",
    "        elif nums[mid] < nums[left]:\n",
    "            right = mid\n",
    "        else:\n",
    "            return nums[left]\n",
    "    \n",
    "    return nums[left]\n",
    "\n",
    "#Driver code:\n",
    "nums = [3, 4, 5, 1, 2]\n",
    "min_element = findMin(nums)\n",
    "print(\"Minimum element is : \",min_element)"
   ]
  },
  {
   "cell_type": "raw",
   "id": "d7e756c6-c093-4449-b76e-0c1a4379010c",
   "metadata": {},
   "source": [
    "💡 **Question 6**\n",
    "\n",
    "Given an integer array nums of length n where all the integers of nums are in the range [1, n] and each integer appears **once** or **twice**, return *an array of all the integers that appears **twice***.\n",
    "\n",
    "You must write an algorithm that runs in O(n) time and uses only constant extra space.\n",
    "\n",
    "**Example 1:**\n",
    "\n",
    "**Input:** nums = [4,3,2,7,8,2,3,1]\n",
    "\n",
    "**Output:**\n",
    "\n",
    "[2,3]"
   ]
  },
  {
   "cell_type": "code",
   "execution_count": 3,
   "id": "01c3a440-d1c2-4e8b-983e-8cf429fa5dbc",
   "metadata": {},
   "outputs": [
    {
     "name": "stdout",
     "output_type": "stream",
     "text": [
      "Repeated numbers are :  [3, 2]\n"
     ]
    }
   ],
   "source": [
    "def findDuplicates(nums):\n",
    "    count = {}\n",
    "    result = []\n",
    "    \n",
    "    for num in nums:\n",
    "        if num in count:\n",
    "            count[num] += 1\n",
    "        else:\n",
    "            count[num] = 1\n",
    "    \n",
    "    for num, freq in count.items():\n",
    "        if freq == 2:\n",
    "            result.append(num)\n",
    "    \n",
    "    return result\n",
    "\n",
    "#Driver code:\n",
    "nums = [4, 3, 2, 7, 8, 2, 3, 1]\n",
    "duplicates = findDuplicates(nums)\n",
    "print(\"Repeated numbers are : \",duplicates)"
   ]
  },
  {
   "cell_type": "raw",
   "id": "48e9fcad-f1d9-450d-a38a-8dc2f1613083",
   "metadata": {},
   "source": [
    "💡 **Question 5**\n",
    "\n",
    "Given two integer arrays arr1 and arr2, and the integer d, *return the distance value between the two arrays*.\n",
    "\n",
    "The distance value is defined as the number of elements arr1[i] such that there is not any element arr2[j] where |arr1[i]-arr2[j]| <= d.\n",
    "\n",
    "**Example 1:**\n",
    "\n",
    "**Input:** arr1 = [4,5,8], arr2 = [10,9,1,8], d = 2\n",
    "\n",
    "**Output:** 2\n",
    "\n",
    "**Explanation:**\n",
    "\n",
    "For arr1[0]=4 we have:\n",
    "\n",
    "|4-10|=6 > d=2\n",
    "\n",
    "|4-9|=5 > d=2\n",
    "\n",
    "|4-1|=3 > d=2\n",
    "\n",
    "|4-8|=4 > d=2\n",
    "\n",
    "For arr1[1]=5 we have:\n",
    "\n",
    "|5-10|=5 > d=2\n",
    "\n",
    "|5-9|=4 > d=2\n",
    "\n",
    "|5-1|=4 > d=2\n",
    "\n",
    "|5-8|=3 > d=2\n",
    "\n",
    "For arr1[2]=8 we have:\n",
    "\n",
    "**|8-10|=2 <= d=2**\n",
    "\n",
    "**|8-9|=1 <= d=2**\n",
    "\n",
    "|8-1|=7 > d=2\n",
    "\n",
    "**|8-8|=0 <= d=2**"
   ]
  },
  {
   "cell_type": "code",
   "execution_count": 4,
   "id": "35e6a080-edc0-41a5-926a-17c52cb09adf",
   "metadata": {},
   "outputs": [
    {
     "name": "stdout",
     "output_type": "stream",
     "text": [
      "Total values which are less than distance is : 2\n"
     ]
    }
   ],
   "source": [
    "def findDistanceValue(arr1, arr2, d):\n",
    "    distance = 0\n",
    "    \n",
    "    for num1 in arr1:\n",
    "        for num2 in arr2:\n",
    "            if abs(num1 - num2) <= d:\n",
    "                break\n",
    "        else:\n",
    "            distance += 1\n",
    "    \n",
    "    return distance\n",
    "\n",
    "#Driver code:\n",
    "arr1 = [4, 5, 8]\n",
    "arr2 = [10, 9, 1, 8]\n",
    "d = 2\n",
    "\n",
    "distance = findDistanceValue(arr1, arr2, d)\n",
    "print(\"Total values which are less than distance is :\",distance)"
   ]
  },
  {
   "cell_type": "raw",
   "id": "14f15065-a59f-47c5-a9bb-afcb79a0ea6b",
   "metadata": {},
   "source": [
    "💡 **Question 1**\n",
    "\n",
    "Convert 1D Array Into 2D Array\n",
    "\n",
    "You are given a **0-indexed** 1-dimensional (1D) integer array original, and two integers, m and n. You are tasked with creating a 2-dimensional (2D) array with  m rows and n columns using **all** the elements from original.\n",
    "\n",
    "The elements from indices 0 to n - 1 (**inclusive**) of original should form the first row of the constructed 2D array, the elements from indices n to 2 * n - 1 (**inclusive**) should form the second row of the constructed 2D array, and so on.\n",
    "\n",
    "Return *an* m x n *2D array constructed according to the above procedure, or an empty 2D array if it is impossible*.\n",
    "\n",
    "**Example 1:**\n",
    "**Input:** original = [1,2,3,4], m = 2, n = 2\n",
    "\n",
    "**Output:** [[1,2],[3,4]]\n",
    "\n",
    "**Explanation:** The constructed 2D array should contain 2 rows and 2 columns.\n",
    "\n",
    "The first group of n=2 elements in original, [1,2], becomes the first row in the constructed 2D array.\n",
    "\n",
    "The second group of n=2 elements in original, [3,4], becomes the second row in the constructed 2D array."
   ]
  },
  {
   "cell_type": "code",
   "execution_count": 5,
   "id": "2629fc3d-d73e-4679-9f54-083a224af4c6",
   "metadata": {},
   "outputs": [
    {
     "name": "stdout",
     "output_type": "stream",
     "text": [
      "[[1, 2], [3, 4]]\n"
     ]
    }
   ],
   "source": [
    "def construct2DArray(original, m, n):\n",
    "    if m * n != len(original):\n",
    "        return []\n",
    "    \n",
    "    result = [[0] * n for _ in range(m)]\n",
    "    index = 0\n",
    "    \n",
    "    for i in range(m):\n",
    "        for j in range(n):\n",
    "            result[i][j] = original[index]\n",
    "            index += 1\n",
    "    \n",
    "    return result\n",
    "#Driver code\n",
    "original = [1, 2, 3, 4]\n",
    "m = 2\n",
    "n = 2\n",
    "result = construct2DArray(original, m, n)\n",
    "print(result)"
   ]
  },
  {
   "cell_type": "code",
   "execution_count": null,
   "id": "d4c5db15-0ebe-4489-afbd-65bf2e297e18",
   "metadata": {},
   "outputs": [],
   "source": []
  }
 ],
 "metadata": {
  "kernelspec": {
   "display_name": "Python 3 (ipykernel)",
   "language": "python",
   "name": "python3"
  },
  "language_info": {
   "codemirror_mode": {
    "name": "ipython",
    "version": 3
   },
   "file_extension": ".py",
   "mimetype": "text/x-python",
   "name": "python",
   "nbconvert_exporter": "python",
   "pygments_lexer": "ipython3",
   "version": "3.10.6"
  }
 },
 "nbformat": 4,
 "nbformat_minor": 5
}
