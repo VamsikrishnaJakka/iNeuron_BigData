{
 "cells": [
  {
   "cell_type": "raw",
   "id": "2573d8ce-56af-4018-8571-3856f614de25",
   "metadata": {},
   "source": [
    "💡 **Question 2**\n",
    "\n",
    "Given two **0-indexed** integer arrays nums1 and nums2, return *a list* answer *of size* 2 *where:*\n",
    "\n",
    "- answer[0] *is a list of all **distinct** integers in* nums1 *which are **not** present in* nums2*.*\n",
    "- answer[1] *is a list of all **distinct** integers in* nums2 *which are **not** present in* nums1.\n",
    "\n",
    "**Note** that the integers in the lists may be returned in **any** order.\n",
    "\n",
    "**Example 1:**\n",
    "\n",
    "**Input:** nums1 = [1,2,3], nums2 = [2,4,6]\n",
    "\n",
    "**Output:** [[1,3],[4,6]]\n",
    "\n",
    "**Explanation:**\n",
    "\n",
    "For nums1, nums1[1] = 2 is present at index 0 of nums2, whereas nums1[0] = 1 and nums1[2] = 3 are not present in nums2. Therefore, answer[0] = [1,3].\n",
    "\n",
    "For nums2, nums2[0] = 2 is present at index 1 of nums1, whereas nums2[1] = 4 and nums2[2] = 6 are not present in nums2. Therefore, answer[1] = [4,6]."
   ]
  },
  {
   "cell_type": "code",
   "execution_count": 1,
   "id": "6c734781-1d53-4144-9a92-e58294966dd8",
   "metadata": {},
   "outputs": [
    {
     "name": "stdout",
     "output_type": "stream",
     "text": [
      "Zero indexed array is :  [[1, 3], [4, 6]]\n"
     ]
    }
   ],
   "source": [
    "def NotinArray(arr1,arr2):\n",
    "    Zero_index = [[],[]]\n",
    "    \n",
    "    for i in range(len(arr1)):\n",
    "        if arr1[i] not in arr2 and arr1[i] not in Zero_index[0]:\n",
    "            Zero_index[0].append(arr1[i])\n",
    "            \n",
    "    for j in range(len(arr2)):\n",
    "        if arr2[j] not in arr1 and arr2[j] not in Zero_index[1]:\n",
    "            Zero_index[1].append(arr2[j])\n",
    "            \n",
    "    return Zero_index\n",
    "\n",
    "#Driver code\n",
    "arr1 = [1,2,3]\n",
    "arr2 = [2,4,6]\n",
    "result = NotinArray(arr1,arr2)\n",
    "print(\"Zero indexed array is : \",result)"
   ]
  },
  {
   "cell_type": "raw",
   "id": "f00f743c-5462-438d-b859-55bbc8c381d7",
   "metadata": {},
   "source": [
    "💡 **Question 4**\n",
    "Given an integer array nums of 2n integers, group these integers into n pairs (a1, b1), (a2, b2), ..., (an, bn) such that the sum of min(ai, bi) for all i is **maximized**. Return *the maximized sum*.\n",
    "\n",
    "**Example 1:**\n",
    "\n",
    "Input: nums = [1,4,3,2]\n",
    "\n",
    "Output: 4\n",
    "\n",
    "**Explanation:** All possible pairings (ignoring the ordering of elements) are:\n",
    "\n",
    "1. (1, 4), (2, 3) -> min(1, 4) + min(2, 3) = 1 + 2 = 3\n",
    "\n",
    "2. (1, 3), (2, 4) -> min(1, 3) + min(2, 4) = 1 + 2 = 3\n",
    "\n",
    "3. (1, 2), (3, 4) -> min(1, 2) + min(3, 4) = 1 + 3 = 4\n",
    "\n",
    "So the maximum possible sum is 4."
   ]
  },
  {
   "cell_type": "code",
   "execution_count": 3,
   "id": "0ca5c8f5-1063-4743-85d1-7eb231b7d0b2",
   "metadata": {},
   "outputs": [
    {
     "name": "stdout",
     "output_type": "stream",
     "text": [
      "Maximum sum is:  4\n"
     ]
    }
   ],
   "source": [
    "def arrayPairSum(nums):\n",
    "    nums.sort()  # Sort the array in ascending order\n",
    "    n = len(nums)\n",
    "    max_sum = 0\n",
    "    \n",
    "    for i in range(0, n, 2):\n",
    "        max_sum += nums[i]  # Sum every alternate element\n",
    "    \n",
    "    return max_sum\n",
    "\n",
    "# Driver code\n",
    "nums = [1, 4, 3, 2]\n",
    "result = arrayPairSum(nums)\n",
    "print(\"Maximum sum is: \", result)"
   ]
  },
  {
   "cell_type": "raw",
   "id": "08650c59-74eb-44eb-ad0b-21ddc775ae32",
   "metadata": {},
   "source": [
    "💡 **Question 5**\n",
    "You have n coins and you want to build a staircase with these coins. The staircase consists of k rows where the ith row has exactly i coins. The last row of the staircase **may be** incomplete.\n",
    "\n",
    "Given the integer n, return *the number of **complete rows** of the staircase you will build*.\n",
    "\n",
    "**Example 1:**\n",
    "\n",
    "[]()\n",
    "\n",
    "![v2.jpg](https://s3-us-west-2.amazonaws.com/secure.notion-static.com/4bd91cfa-d2b1-47b3-8197-a72e8dcfff4b/v2.jpg)\n",
    "\n",
    "**Input:** n = 5\n",
    "\n",
    "**Output:** 2\n",
    "\n",
    "**Explanation:** Because the 3rd row is incomplete, we return 2."
   ]
  },
  {
   "cell_type": "code",
   "execution_count": 4,
   "id": "9fa7536d-dda2-43b4-84f2-3b62a81f2089",
   "metadata": {},
   "outputs": [
    {
     "name": "stdout",
     "output_type": "stream",
     "text": [
      "Number of complete rows:  2\n"
     ]
    }
   ],
   "source": [
    "def arrangeCoins(n):\n",
    "    complete_rows = 0\n",
    "    coins = 0\n",
    "    \n",
    "    while coins <= n:\n",
    "        complete_rows += 1\n",
    "        coins += complete_rows\n",
    "        \n",
    "    return complete_rows - 1 if coins > n else complete_rows\n",
    "\n",
    "# Driver code\n",
    "n = 5\n",
    "result = arrangeCoins(n)\n",
    "print(\"Number of complete rows: \", result)"
   ]
  },
  {
   "cell_type": "raw",
   "id": "79c6200e-3973-4c66-b942-39fdb4119470",
   "metadata": {},
   "source": [
    "💡 **Question 6**\n",
    "Given an integer array nums sorted in **non-decreasing** order, return *an array of **the squares of each number** sorted in non-decreasing order*.\n",
    "\n",
    "**Example 1:**\n",
    "\n",
    "Input: nums = [-4,-1,0,3,10]\n",
    "\n",
    "Output: [0,1,9,16,100]\n",
    "\n",
    "**Explanation:** After squaring, the array becomes [16,1,0,9,100].\n",
    "After sorting, it becomes [0,1,9,16,100]"
   ]
  },
  {
   "cell_type": "code",
   "execution_count": 5,
   "id": "25c22aae-909d-437b-85f1-00676aaee650",
   "metadata": {},
   "outputs": [
    {
     "name": "stdout",
     "output_type": "stream",
     "text": [
      "Sorted squares of numbers:  [0, 1, 9, 16, 100]\n"
     ]
    }
   ],
   "source": [
    "def sortedSquares(nums):\n",
    "    squared_nums = [num ** 2 for num in nums] \n",
    "    \n",
    "    squared_nums.sort() \n",
    "    \n",
    "    return squared_nums\n",
    "\n",
    "# Driver code\n",
    "nums = [-4, -1, 0, 3, 10]\n",
    "result = sortedSquares(nums)\n",
    "print(\"Sorted squares of numbers: \", result)"
   ]
  },
  {
   "cell_type": "raw",
   "id": "d652db33-cfa3-4d24-a08f-e33e141dae79",
   "metadata": {},
   "source": [
    "💡 **Question 1**\n",
    "Given three integer arrays arr1, arr2 and arr3 **sorted** in **strictly increasing** order, return a sorted array of **only** the integers that appeared in **all** three arrays.\n",
    "\n",
    "**Example 1:**\n",
    "\n",
    "Input: arr1 = [1,2,3,4,5], arr2 = [1,2,5,7,9], arr3 = [1,3,4,5,8]\n",
    "\n",
    "Output: [1,5]\n",
    "\n",
    "**Explanation:** Only 1 and 5 appeared in the three arrays."
   ]
  },
  {
   "cell_type": "code",
   "execution_count": 6,
   "id": "2f1bc56f-1116-4f7e-8438-d73d2f7e4917",
   "metadata": {},
   "outputs": [
    {
     "name": "stdout",
     "output_type": "stream",
     "text": [
      "Common elements in the given arrays are :  [1, 5]\n"
     ]
    }
   ],
   "source": [
    "def commonElements(arr1, arr2, arr3):\n",
    "    result = []\n",
    "\n",
    "    for i in range(len(arr1)):\n",
    "        for j in range(len(arr2)):\n",
    "            for k in range(len(arr3)):\n",
    "                if arr1[i] == arr2[j] == arr3[k]:\n",
    "                    result.append(arr1[i])\n",
    "\n",
    "    return result\n",
    "\n",
    "# Driver code\n",
    "arr1 = [1, 2, 3, 4, 5]\n",
    "arr2 = [1, 2, 5, 7, 9]\n",
    "arr3 = [1, 3, 4, 5, 8]\n",
    "result = commonElements(arr1, arr2, arr3)\n",
    "print(\"Common elements in the given arrays are : \", result)"
   ]
  },
  {
   "cell_type": "raw",
   "id": "08902370-0cf3-4197-b474-f31b88728f1f",
   "metadata": {},
   "source": [
    "💡 **Question 3**\n",
    "Given a 2D integer array matrix, return *the **transpose** of* matrix.\n",
    "\n",
    "The **transpose** of a matrix is the matrix flipped over its main diagonal, switching the matrix's row and column indices.\n",
    "\n",
    "**Example 1:**\n",
    "\n",
    "Input: matrix = [[1,2,3],[4,5,6],[7,8,9]]\n",
    "\n",
    "Output: [[1,4,7],[2,5,8],[3,6,9]]"
   ]
  },
  {
   "cell_type": "code",
   "execution_count": 7,
   "id": "b67799fd-1fd7-4f27-8867-d8727b3fd158",
   "metadata": {},
   "outputs": [
    {
     "name": "stdout",
     "output_type": "stream",
     "text": [
      "Transposed matrix:\n",
      "[1, 4, 7]\n",
      "[2, 5, 8]\n",
      "[3, 6, 9]\n"
     ]
    }
   ],
   "source": [
    "def transpose(matrix):\n",
    "    rows = len(matrix)\n",
    "    columns = len(matrix[0])\n",
    "    \n",
    "    transpose_matrix = [[0 for _ in range(rows)] for _ in range(columns)]\n",
    "    \n",
    "    for i in range(rows):\n",
    "        for j in range(columns):\n",
    "            transpose_matrix[j][i] = matrix[i][j]\n",
    "    \n",
    "    return transpose_matrix\n",
    "\n",
    "# Driver code\n",
    "matrix = [[1, 2, 3], [4, 5, 6], [7, 8, 9]]\n",
    "result = transpose(matrix)\n",
    "print(\"Transposed matrix:\")\n",
    "for row in result:\n",
    "    print(row)"
   ]
  },
  {
   "cell_type": "raw",
   "id": "44d048a7-88c8-4ef3-ad30-c74407c16bf2",
   "metadata": {},
   "source": [
    "💡 **Question 8**\n",
    "\n",
    "Given the array nums consisting of 2n elements in the form [x1,x2,...,xn,y1,y2,...,yn].\n",
    "\n",
    "*Return the array in the form* [x1,y1,x2,y2,...,xn,yn].\n",
    "\n",
    "**Example 1:**\n",
    "\n",
    "**Input:** nums = [2,5,1,3,4,7], n = 3\n",
    "\n",
    "**Output:** [2,3,5,4,1,7]\n",
    "\n",
    "**Explanation:** Since x1=2, x2=5, x3=1, y1=3, y2=4, y3=7 then the answer is [2,3,5,4,1,7]."
   ]
  },
  {
   "cell_type": "code",
   "execution_count": 8,
   "id": "945d1f4a-0d61-4ecd-b6b6-04ec24a2cc5c",
   "metadata": {},
   "outputs": [
    {
     "name": "stdout",
     "output_type": "stream",
     "text": [
      "[2, 3, 5, 4, 1, 7]\n"
     ]
    }
   ],
   "source": [
    "def shuffleArray(nums, n):\n",
    "    result = []\n",
    "    for i in range(n):\n",
    "        result.append(nums[i])   \n",
    "        result.append(nums[i+n])  \n",
    "    return result\n",
    "\n",
    "# Example usage\n",
    "nums = [2, 5, 1, 3, 4, 7]\n",
    "n = 3\n",
    "result = shuffleArray(nums, n)\n",
    "print(result)"
   ]
  },
  {
   "cell_type": "raw",
   "id": "42e115aa-3052-4c5d-ad92-d3275a2cf1f7",
   "metadata": {},
   "source": [
    "💡 **Question 7**\n",
    "You are given an m x n matrix M initialized with all 0's and an array of operations ops, where ops[i] = [ai, bi] means M[x][y] should be incremented by one for all 0 <= x < ai and 0 <= y < bi.\n",
    "\n",
    "Count and return *the number of maximum integers in the matrix after performing all the operations*\n",
    "\n",
    "**Example 1:**\n",
    "**Input:** m = 3, n = 3, ops = [[2,2],[3,3]]\n",
    "\n",
    "**Output:** 4\n",
    "\n",
    "**Explanation:** The maximum integer in M is 2, and there are four of it in M. So return 4."
   ]
  },
  {
   "cell_type": "code",
   "execution_count": 9,
   "id": "21dd0ed4-8d8f-4f9f-9552-06bb9f336f1e",
   "metadata": {},
   "outputs": [
    {
     "name": "stdout",
     "output_type": "stream",
     "text": [
      "4\n"
     ]
    }
   ],
   "source": [
    "def maxCount(m, n, ops):\n",
    "    min_row = m\n",
    "    min_col = n\n",
    "    \n",
    "    for operation in ops:\n",
    "        min_row = min(min_row, operation[0])\n",
    "        min_col = min(min_col, operation[1])\n",
    "    \n",
    "    count = min_row * min_col\n",
    "    \n",
    "    return count\n",
    "\n",
    "# Driver code\n",
    "m = 3\n",
    "n = 3\n",
    "ops = [[2, 2], [3, 3]]\n",
    "result = maxCount(m, n, ops)\n",
    "print(result)"
   ]
  },
  {
   "cell_type": "code",
   "execution_count": null,
   "id": "a07bd39e-4a75-451e-b8b2-6e30047b7c31",
   "metadata": {},
   "outputs": [],
   "source": []
  }
 ],
 "metadata": {
  "kernelspec": {
   "display_name": "Python 3 (ipykernel)",
   "language": "python",
   "name": "python3"
  },
  "language_info": {
   "codemirror_mode": {
    "name": "ipython",
    "version": 3
   },
   "file_extension": ".py",
   "mimetype": "text/x-python",
   "name": "python",
   "nbconvert_exporter": "python",
   "pygments_lexer": "ipython3",
   "version": "3.10.6"
  }
 },
 "nbformat": 4,
 "nbformat_minor": 5
}
