{
 "cells": [
  {
   "cell_type": "raw",
   "id": "44234117-e436-4868-8577-f97e5a94c22a",
   "metadata": {},
   "source": [
    "Question - 8:\n",
    "You are given an integer array nums and an integer k.\n",
    "\n",
    "In one operation, you can choose any index i where 0 <= i < nums.length and change nums[i] to nums[i] + x where x is an integer from the range [-k, k]. You can apply this operation at most once for each index i.\n",
    "\n",
    "The score of nums is the difference between the maximum and minimum elements in nums.\n",
    "\n",
    "Return the minimum score of nums after applying the mentioned operation at most once for each index in it.\n",
    "\n",
    "Example 1:\n",
    "Input: nums = [1], k = 0\n",
    "Output: 0\n",
    "\n",
    "Explanation: The score is max(nums) - min(nums) = 1 - 1 = 0."
   ]
  },
  {
   "cell_type": "code",
   "execution_count": 1,
   "id": "938c336f-c3e4-4a18-a89c-102f5afb38e0",
   "metadata": {},
   "outputs": [
    {
     "name": "stdout",
     "output_type": "stream",
     "text": [
      "Minimum score is :  1\n"
     ]
    }
   ],
   "source": [
    "def addk(arr, k):\n",
    "    min_val = min(arr)\n",
    "    max_val = max(arr)\n",
    "\n",
    "    if min_val + k >= max_val - k:\n",
    "        return min_val + k\n",
    "    else:\n",
    "        return max_val - k\n",
    "\n",
    "arr = [1]\n",
    "k = 0\n",
    "result = addk(arr, k)\n",
    "print(\"Minimum score is : \", result)"
   ]
  },
  {
   "cell_type": "raw",
   "id": "3aa55667-e4c6-4be9-a0ed-dfe96f744709",
   "metadata": {},
   "source": [
    "Question 7\n",
    "An array is monotonic if it is either monotone increasing or monotone decreasing.\n",
    "\n",
    "An array nums is monotone increasing if for all i <= j, nums[i] <= nums[j]. An array nums is\n",
    "monotone decreasing if for all i <= j, nums[i] >= nums[j].\n",
    "\n",
    "Given an integer array nums, return true if the given array is monotonic, or false otherwise.\n",
    "\n",
    "Example 1:\n",
    "Input: nums = [1,2,2,3]\n",
    "Output: true"
   ]
  },
  {
   "cell_type": "code",
   "execution_count": 2,
   "id": "b1ee6390-f8d0-4f3d-85f8-55e3393f0944",
   "metadata": {},
   "outputs": [
    {
     "name": "stdout",
     "output_type": "stream",
     "text": [
      "Is the array is either complete monotonic inc or dec? :  True\n"
     ]
    }
   ],
   "source": [
    "def isMonotonic(nums):\n",
    "    n = len(nums)\n",
    "    mon_inc = True\n",
    "    mon_dec = True\n",
    "    if n <= 2:\n",
    "        return True\n",
    "    \n",
    "    for i in range(1, n):\n",
    "        if nums[i] < nums[i-1]:\n",
    "            mon_inc = False\n",
    "        if nums[i] > nums[i-1]:\n",
    "            mon_dec = False\n",
    "    \n",
    "    return mon_inc or mon_dec\n",
    "\n",
    "# Example usage\n",
    "nums = [1, 2, 2, 3]\n",
    "result = isMonotonic(nums)\n",
    "print(\"Is the array is either complete monotonic inc or dec? : \", result)"
   ]
  },
  {
   "cell_type": "raw",
   "id": "51b8b753-8157-43fd-8248-740cfa5d4fb9",
   "metadata": {},
   "source": [
    "Question 6\n",
    "Given an array of integers nums which is sorted in ascending order, and an integer target,\n",
    "write a function to search target in nums. If target exists, then return its index. Otherwise,\n",
    "return -1.\n",
    "\n",
    "You must write an algorithm with O(log n) runtime complexity.\n",
    "\n",
    "Input: nums = [-1,0,3,5,9,12], target = 9\n",
    "Output: 4\n",
    "\n",
    "Explanation: 9 exists in nums and its index is 4"
   ]
  },
  {
   "cell_type": "code",
   "execution_count": 3,
   "id": "dd88ebdb-78bb-471e-af1e-a2d5776873fc",
   "metadata": {},
   "outputs": [
    {
     "name": "stdout",
     "output_type": "stream",
     "text": [
      "Index of the give target is:  4\n"
     ]
    }
   ],
   "source": [
    "def search(nums, target):\n",
    "    left = 0\n",
    "    right = len(nums) - 1\n",
    "\n",
    "    while left <= right:\n",
    "        mid = left + (right - left) // 2\n",
    "\n",
    "        if nums[mid] == target:\n",
    "            return mid\n",
    "        elif nums[mid] > target:\n",
    "            right = mid - 1\n",
    "        else:\n",
    "            left = mid + 1\n",
    "\n",
    "    return -1\n",
    "\n",
    "# Driver code\n",
    "nums = [-1, 0, 3, 5, 9, 12]\n",
    "target = 9\n",
    "result = search(nums, target)\n",
    "print(\"Index of the give target is: \", result)"
   ]
  },
  {
   "cell_type": "raw",
   "id": "d0f7930d-fb4f-4abc-bf77-8136936336a7",
   "metadata": {},
   "source": [
    "Question 5\n",
    "Given an integer array nums, find three numbers whose product is maximum and return the maximum product.\n",
    "\n",
    "Example 1:\n",
    "Input: nums = [1,2,3]\n",
    "Output: 6"
   ]
  },
  {
   "cell_type": "code",
   "execution_count": 1,
   "id": "0b6a9821-b884-49c0-9cf5-bf7ab70962ab",
   "metadata": {},
   "outputs": [
    {
     "name": "stdout",
     "output_type": "stream",
     "text": [
      "Maximum product of three numbers: 6\n"
     ]
    }
   ],
   "source": [
    "def maximumProduct(nums):\n",
    "    nums.sort()\n",
    "    n = len(nums)\n",
    "    prod = float('-inf')\n",
    "    \n",
    "    for i in range(n-2):\n",
    "        curr_product = nums[i] * nums[i+1] * nums[i+2]\n",
    "        prod = max(prod, curr_product)\n",
    "    \n",
    "    return prod\n",
    "\n",
    "# Driver code\n",
    "nums = [1, 2, 3]\n",
    "result = maximumProduct(nums)\n",
    "print(\"Maximum product of three numbers:\", result)"
   ]
  },
  {
   "cell_type": "raw",
   "id": "6bd7efbe-e74e-4069-9f3e-7feef5392e6f",
   "metadata": {},
   "source": [
    "Question 4\n",
    "You have a long flowerbed in which some of the plots are planted, and some are not.\n",
    "However, flowers cannot be planted in adjacent plots.\n",
    "Given an integer array flowerbed containing 0's and 1's, where 0 means empty and 1 means not empty, and an integer n, return true if n new flowers can be planted in the flowerbed without violating the no-adjacent-flowers rule and false otherwise.\n",
    "\n",
    "Example 1:\n",
    "Input: flowerbed = [1,0,0,0,1], n = 1\n",
    "Output: true"
   ]
  },
  {
   "cell_type": "code",
   "execution_count": 4,
   "id": "0247e9be-eb53-475c-b518-ff814447e811",
   "metadata": {},
   "outputs": [
    {
     "name": "stdout",
     "output_type": "stream",
     "text": [
      "Can plant 1 flowers? :  True\n"
     ]
    }
   ],
   "source": [
    "def PlaceFlowers(arr, n):\n",
    "    count = 0\n",
    "    i = 0\n",
    "    while i < len(arr):\n",
    "        if arr[i] == 0 and (i == 0 or arr[i-1] == 0) and (i == len(arr)-1 or arr[i+1] == 0):\n",
    "            arr[i] = 1\n",
    "            count += 1\n",
    "        if count >= n:\n",
    "            return True\n",
    "        i += 1\n",
    "    return False if n > count else True\n",
    "\n",
    "# Example usage\n",
    "arr = [1, 0, 0, 0, 1]\n",
    "n = 1\n",
    "result = PlaceFlowers(arr,n)\n",
    "print(\"Can plant\", n, \"flowers? : \", result)"
   ]
  },
  {
   "cell_type": "raw",
   "id": "bbe6604b-4c1f-4309-8b37-282bd042012f",
   "metadata": {},
   "source": [
    "Question 3\n",
    "We define a harmonious array as an array where the difference between its maximum value\n",
    "and its minimum value is exactly 1.\n",
    "\n",
    "Given an integer array nums, return the length of its longest harmonious subsequence\n",
    "among all its possible subsequences.\n",
    "\n",
    "A subsequence of an array is a sequence that can be derived from the array by deleting some or no elements without changing the order of the remaining elements.\n",
    "\n",
    "Example 1:\n",
    "Input: nums = [1,3,2,2,5,2,3,7]\n",
    "Output: 5\n",
    "\n",
    "Explanation: The longest harmonious subsequence is [3,2,2,2,3]."
   ]
  },
  {
   "cell_type": "code",
   "execution_count": 5,
   "id": "dc84f869-0b75-4464-ac75-0b11679e2e7c",
   "metadata": {},
   "outputs": [
    {
     "name": "stdout",
     "output_type": "stream",
     "text": [
      "Length of the longest harmonious subsequence is :  3\n"
     ]
    }
   ],
   "source": [
    "def findsequence(nums):\n",
    "    max_length = 0\n",
    "    n = len(nums)\n",
    "    for i in range(n):\n",
    "        for j in range(i, n):\n",
    "            max_val = max(nums[i:j+1])\n",
    "            min_val = min(nums[i:j+1])\n",
    "            if max_val - min_val == 1:\n",
    "                max_length = max(max_length, j - i + 1)\n",
    "    return max_length\n",
    "\n",
    "# Example usage\n",
    "nums = [1, 3, 2, 2, 5, 2, 3, 7]\n",
    "result = findsequence(nums)\n",
    "print(\"Length of the longest harmonious subsequence is : \", result)"
   ]
  },
  {
   "cell_type": "raw",
   "id": "49521ef2-8b6a-4cfa-a73f-7970a013d164",
   "metadata": {},
   "source": [
    "Question 2\n",
    "Alice has n candies, where the ith candy is of type candyType[i]. Alice noticed that she started to gain weight, so she visited a doctor. \n",
    "\n",
    "The doctor advised Alice to only eat n / 2 of the candies she has (n is always even). Alice likes her candies very much, and she wants to eat the maximum number of different types of candies while still following the doctor's advice. \n",
    "\n",
    "Given the integer array candyType of length n, return the maximum number of different types of candies she can eat if she only eats n / 2 of them.\n",
    "\n",
    "Example 1:\n",
    "Input: candyType = [1,1,2,2,3,3]\n",
    "Output: 3\n",
    "\n",
    "Explanation: Alice can only eat 6 / 2 = 3 candies. Since there are only 3 types, she can eat one of each type."
   ]
  },
  {
   "cell_type": "code",
   "execution_count": 7,
   "id": "9284666b-b2ad-4359-91d9-d350477f1184",
   "metadata": {},
   "outputs": [
    {
     "name": "stdout",
     "output_type": "stream",
     "text": [
      "Maximum candies Alice can eat is :  3\n"
     ]
    }
   ],
   "source": [
    "def maxCandies(candyType):\n",
    "    n = len(candyType)\n",
    "    max_candies = n // 2\n",
    "    max_unique = 0\n",
    "    \n",
    "    for i in range(n):\n",
    "        for j in range(i+1, n):\n",
    "            count = 0\n",
    "            unique_types = set()\n",
    "            \n",
    "            for k in range(i, j+1):\n",
    "                unique_types.add(candyType[k])\n",
    "            \n",
    "            count = len(unique_types)\n",
    "            \n",
    "            if count > max_unique:\n",
    "                max_unique = count\n",
    "            \n",
    "            if max_unique == max_candies:\n",
    "                break\n",
    "    \n",
    "    return max_unique\n",
    "\n",
    "#Driver code:\n",
    "candyType = [1,1,2,2,3,3]\n",
    "result = maxCandies(candyType)\n",
    "print(\"Maximum candies Alice can eat is : \",result)"
   ]
  },
  {
   "cell_type": "raw",
   "id": "812e0256-2f43-4103-bd68-064b3920d7cd",
   "metadata": {},
   "source": [
    "💡 **Question 1**\n",
    "Given an integer array nums of 2n integers, group these integers into n pairs (a1, b1), (a2, b2),..., (an, bn) such that the sum of min(ai, bi) for all i is maximized. Return the maximized sum.\n",
    "\n",
    "**Example 1:**\n",
    "Input: nums = [1,4,3,2]\n",
    "Output: 4\n",
    "\n",
    "**Explanation:** All possible pairings (ignoring the ordering of elements) are:\n",
    "\n",
    "1. (1, 4), (2, 3) -> min(1, 4) + min(2, 3) = 1 + 2 = 3\n",
    "2. (1, 3), (2, 4) -> min(1, 3) + min(2, 4) = 1 + 2 = 3\n",
    "3. (1, 2), (3, 4) -> min(1, 2) + min(3, 4) = 1 + 3 = 4\n",
    "So the maximum possible sum is 4"
   ]
  },
  {
   "cell_type": "code",
   "execution_count": 8,
   "id": "b788b237-0e9b-434a-97ac-14c4a148d9a2",
   "metadata": {},
   "outputs": [
    {
     "name": "stdout",
     "output_type": "stream",
     "text": [
      "Maximum sum is :  3\n"
     ]
    }
   ],
   "source": [
    "def arrayPairSum(nums):\n",
    "    n = len(nums)\n",
    "    max_sum = float('-inf')\n",
    "    \n",
    "    # Generate all pairings\n",
    "    for i in range(n):\n",
    "        for j in range(i+1, n):\n",
    "            curr_sum = min(nums[i], nums[j])\n",
    "            \n",
    "            # Update max_sum if the current sum is higher\n",
    "            if curr_sum > max_sum:\n",
    "                max_sum = curr_sum\n",
    "    \n",
    "    return max_sum\n",
    "\n",
    "#Driver code\n",
    "nums = [1,4,3,2]\n",
    "result = arrayPairSum(nums)\n",
    "print(\"Maximum sum is : \",result)"
   ]
  },
  {
   "cell_type": "code",
   "execution_count": null,
   "id": "d0fe98bd-2959-4b38-820b-f9465a141fd5",
   "metadata": {},
   "outputs": [],
   "source": []
  }
 ],
 "metadata": {
  "kernelspec": {
   "display_name": "Python 3 (ipykernel)",
   "language": "python",
   "name": "python3"
  },
  "language_info": {
   "codemirror_mode": {
    "name": "ipython",
    "version": 3
   },
   "file_extension": ".py",
   "mimetype": "text/x-python",
   "name": "python",
   "nbconvert_exporter": "python",
   "pygments_lexer": "ipython3",
   "version": "3.10.6"
  }
 },
 "nbformat": 4,
 "nbformat_minor": 5
}
