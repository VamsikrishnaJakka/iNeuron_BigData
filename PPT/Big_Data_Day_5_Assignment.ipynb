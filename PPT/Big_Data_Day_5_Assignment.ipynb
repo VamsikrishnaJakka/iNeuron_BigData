{
  "nbformat": 4,
  "nbformat_minor": 0,
  "metadata": {
    "colab": {
      "provenance": []
    },
    "kernelspec": {
      "name": "python3",
      "display_name": "Python 3"
    },
    "language_info": {
      "name": "python"
    }
  },
  "cells": [
    {
      "cell_type": "markdown",
      "source": [
        "1. Setting up a Kafka Producer:\n",
        "   a) Write a Python program to create a Kafka producer.\n",
        "   b) Configure the producer to connect to a Kafka cluster.\n",
        "   c) Implement logic to send messages to a Kafka topic.\n"
      ],
      "metadata": {
        "id": "F4Vx8ySnJJ4j"
      }
    },
    {
      "cell_type": "code",
      "execution_count": null,
      "metadata": {
        "id": "lLFKugBTJF6e"
      },
      "outputs": [],
      "source": [
        "pip install confluent-kafka\n",
        "from confluent_kafka import Producer\n",
        "\n",
        "# Configure the Kafka broker(s)\n",
        "bootstrap_servers = 'localhost:9092'  # Update with your Kafka broker addresses\n",
        "\n",
        "# Create Kafka producer configuration\n",
        "producer_config = {\n",
        "    'bootstrap.servers': bootstrap_servers,\n",
        "    'client.id': 'my-kafka-producer'  # Provide a unique client ID\n",
        "}\n",
        "\n",
        "# Create the Kafka producer instance\n",
        "producer = Producer(producer_config)\n",
        "\n",
        "# Define the Kafka topic to which messages will be sent\n",
        "topic = 'my-topic'  # Update with your Kafka topic name\n",
        "\n",
        "# Define the message to be sent\n",
        "message = 'Hello, Kafka!'\n",
        "\n",
        "# Produce and send the message to the Kafka topic\n",
        "producer.produce(topic, value=message)\n",
        "\n",
        "# Flush the producer to ensure the message is sent\n",
        "producer.flush()\n",
        "\n",
        "# Close the Kafka producer\n",
        "producer.close()"
      ]
    },
    {
      "cell_type": "markdown",
      "source": [
        "2. Setting up a Kafka Consumer:\n",
        "   a) Write a Python program to create a Kafka consumer.\n",
        "   b) Configure the consumer to connect to a Kafka cluster.\n",
        "   c) Implement logic to consume messages from a Kafka topic.\n"
      ],
      "metadata": {
        "id": "6aCRzhpSJy2y"
      }
    },
    {
      "cell_type": "code",
      "source": [
        "from confluent_kafka import Consumer\n",
        "\n",
        "# Configure the Kafka broker(s)\n",
        "bootstrap_servers = 'localhost:9092'  # Update with your Kafka broker addresses\n",
        "\n",
        "# Create Kafka consumer configuration\n",
        "consumer_config = {\n",
        "    'bootstrap.servers': bootstrap_servers,\n",
        "    'group.id': 'my-consumer-group',  # Provide a unique consumer group ID\n",
        "    'auto.offset.reset': 'earliest'  # Start consuming from the beginning of the topic\n",
        "}\n",
        "\n",
        "# Create the Kafka consumer instance\n",
        "consumer = Consumer(consumer_config)\n",
        "\n",
        "# Subscribe to the Kafka topic\n",
        "topic = 'my-topic'  # Update with your Kafka topic name\n",
        "consumer.subscribe([topic])\n",
        "\n",
        "# Start consuming messages from the Kafka topic\n",
        "while True:\n",
        "    msg = consumer.poll(1.0)  # Wait for 1 second for new messages\n",
        "\n",
        "    if msg is None:\n",
        "        continue\n",
        "\n",
        "    if msg.error():\n",
        "        print(f\"Consumer error: {msg.error()}\")\n",
        "        continue\n",
        "\n",
        "    # Process the consumed message\n",
        "    message = msg.value().decode('utf-8')\n",
        "    print(f\"Received message: {message}\")\n",
        "\n",
        "# Close the Kafka consumer\n",
        "consumer.close()\n"
      ],
      "metadata": {
        "id": "Il_votMiJsFF"
      },
      "execution_count": null,
      "outputs": []
    },
    {
      "cell_type": "markdown",
      "source": [
        "3. Creating and Managing Kafka Topics:\n",
        "   a) Write a Python program to create a new Kafka topic.\n",
        "   b) Implement functionality to list existing topics.\n",
        "   c) Develop logic to delete an existing Kafka topic.\n"
      ],
      "metadata": {
        "id": "6MNjzm5JJ8W4"
      }
    },
    {
      "cell_type": "code",
      "source": [
        "from confluent_kafka.admin import AdminClient, NewTopic\n",
        "\n",
        "# Configure the Kafka broker(s)\n",
        "bootstrap_servers = 'localhost:9092'  # Update with your Kafka broker addresses\n",
        "\n",
        "# Create Kafka admin client configuration\n",
        "admin_config = {\n",
        "    'bootstrap.servers': bootstrap_servers\n",
        "}\n",
        "\n",
        "# Create the Kafka admin client instance\n",
        "admin_client = AdminClient(admin_config)\n",
        "\n",
        "def create_topic(topic_name, num_partitions, replication_factor):\n",
        "    # Create a NewTopic object with the desired configuration\n",
        "    new_topic = NewTopic(topic_name, num_partitions, replication_factor)\n",
        "\n",
        "    # Create the topic using the admin client\n",
        "    admin_client.create_topics([new_topic])\n",
        "\n",
        "    print(f\"Topic '{topic_name}' created successfully.\")\n",
        "\n",
        "def list_topics():\n",
        "    # Retrieve the list of existing topics using the admin client\n",
        "    topic_metadata = admin_client.list_topics().topics\n",
        "\n",
        "    print(\"Existing topics:\")\n",
        "    for topic_name, topic_info in topic_metadata.items():\n",
        "        print(f\"- {topic_name} (partitions: {len(topic_info.partitions)})\")\n",
        "\n",
        "def delete_topic(topic_name):\n",
        "    # Delete the specified topic using the admin client\n",
        "    admin_client.delete_topics([topic_name])\n",
        "\n",
        "    print(f\"Topic '{topic_name}' deleted successfully.\")\n",
        "\n",
        "# Usage examples\n",
        "create_topic(\"my-topic\", num_partitions=3, replication_factor=1)\n",
        "list_topics()\n",
        "delete_topic(\"my-topic\")\n"
      ],
      "metadata": {
        "id": "9DZBm2dyJ3Ha"
      },
      "execution_count": null,
      "outputs": []
    },
    {
      "cell_type": "markdown",
      "source": [
        "4. Producing and Consuming Messages:\n",
        "   a) Write a Python program to produce messages to a Kafka topic.\n",
        "   b) Implement logic to consume messages from the same Kafka topic.\n",
        "   c) Test the end-to-end flow of message production and consumption.\n"
      ],
      "metadata": {
        "id": "0lrbLQNPKDoI"
      }
    },
    {
      "cell_type": "code",
      "source": [
        "from confluent_kafka import Producer, Consumer\n",
        "\n",
        "# Configure the Kafka broker(s)\n",
        "bootstrap_servers = 'localhost:9092'  # Update with your Kafka broker addresses\n",
        "\n",
        "# Create Kafka producer configuration\n",
        "producer_config = {\n",
        "    'bootstrap.servers': bootstrap_servers,\n",
        "    'client.id': 'my-kafka-producer'  # Provide a unique client ID\n",
        "}\n",
        "\n",
        "# Create Kafka consumer configuration\n",
        "consumer_config = {\n",
        "    'bootstrap.servers': bootstrap_servers,\n",
        "    'group.id': 'my-consumer-group',  # Provide a unique consumer group ID\n",
        "    'auto.offset.reset': 'earliest'  # Start consuming from the beginning of the topic\n",
        "}\n",
        "\n",
        "# Create the Kafka producer and consumer instances\n",
        "producer = Producer(producer_config)\n",
        "consumer = Consumer(consumer_config)\n",
        "\n",
        "# Define the Kafka topic to produce and consume messages\n",
        "topic = 'my-topic'  # Update with your Kafka topic name\n",
        "\n",
        "# Define the messages to be sent\n",
        "messages = [\n",
        "    'Message 1',\n",
        "    'Message 2',\n",
        "    'Message 3'\n",
        "]\n",
        "\n",
        "# Produce messages to the Kafka topic\n",
        "for message in messages:\n",
        "    producer.produce(topic, value=message)\n",
        "\n",
        "# Flush the producer to ensure all messages are sent\n",
        "producer.flush()\n",
        "\n",
        "# Subscribe to the Kafka topic to consume messages\n",
        "consumer.subscribe([topic])\n",
        "\n",
        "# Start consuming messages from the Kafka topic\n",
        "while True:\n",
        "    msg = consumer.poll(1.0)  # Wait for 1 second for new messages\n",
        "\n",
        "    if msg is None:\n",
        "        continue\n",
        "\n",
        "    if msg.error():\n",
        "        print(f\"Consumer error: {msg.error()}\")\n",
        "        continue\n",
        "\n",
        "    # Process the consumed message\n",
        "    message = msg.value().decode('utf-8')\n",
        "    print(f\"Received message: {message}\")\n",
        "\n",
        "    # Commit the offset to mark the message as consumed\n",
        "    consumer.commit()\n",
        "\n",
        "    # Break the loop if all messages have been consumed\n",
        "    if len(messages) == consumer.committed_messages():\n",
        "        break\n",
        "\n",
        "# Close the Kafka producer and consumer\n",
        "producer.close()\n",
        "consumer.close()\n"
      ],
      "metadata": {
        "id": "Wzvw3wZrKBNS"
      },
      "execution_count": null,
      "outputs": []
    },
    {
      "cell_type": "markdown",
      "source": [
        "5. Working with Kafka Consumer Groups:\n",
        "   a) Write a Python program to create a Kafka consumer within a consumer group.\n",
        "   b) Implement logic to handle messages consumed by different consumers within the same group.\n",
        "   c) Observe the behavior of consumer group rebalancing when adding or removing consumers.\n"
      ],
      "metadata": {
        "id": "1LnnIs90KHiV"
      }
    },
    {
      "cell_type": "code",
      "source": [
        "from confluent_kafka import Consumer, KafkaException\n",
        "\n",
        "# Configure the Kafka broker(s)\n",
        "bootstrap_servers = 'localhost:9092'  # Update with your Kafka broker addresses\n",
        "\n",
        "# Create Kafka consumer configuration\n",
        "consumer_config = {\n",
        "    'bootstrap.servers': bootstrap_servers,\n",
        "    'group.id': 'my-consumer-group',  # Provide a unique consumer group ID\n",
        "    'auto.offset.reset': 'earliest'  # Start consuming from the beginning of the topic\n",
        "}\n",
        "\n",
        "# Create the Kafka consumer instance\n",
        "consumer = Consumer(consumer_config)\n",
        "\n",
        "# Define the Kafka topic to consume messages from\n",
        "topic = 'my-topic'  # Update with your Kafka topic name\n",
        "\n",
        "# Subscribe to the Kafka topic\n",
        "consumer.subscribe([topic])\n",
        "\n",
        "# Start consuming messages from the Kafka topic\n",
        "try:\n",
        "    while True:\n",
        "        msg = consumer.poll(1.0)  # Wait for 1 second for new messages\n",
        "\n",
        "        if msg is None:\n",
        "            continue\n",
        "\n",
        "        if msg.error():\n",
        "            if msg.error().code() == KafkaException._PARTITION_EOF:\n",
        "                # Reached the end of a partition, ignore\n",
        "                continue\n",
        "\n",
        "            print(f\"Consumer error: {msg.error()}\")\n",
        "            break\n",
        "\n",
        "        # Process the consumed message\n",
        "        message = msg.value().decode('utf-8')\n",
        "        print(f\"Received message: {message}\")\n",
        "\n",
        "except KeyboardInterrupt:\n",
        "    pass\n",
        "\n",
        "finally:\n",
        "    # Close the Kafka consumer\n",
        "    consumer.close()"
      ],
      "metadata": {
        "id": "SWQEd7o1KJjO"
      },
      "execution_count": null,
      "outputs": []
    },
    {
      "cell_type": "code",
      "source": [],
      "metadata": {
        "id": "Dkt2MM4PKUVf"
      },
      "execution_count": null,
      "outputs": []
    }
  ]
}