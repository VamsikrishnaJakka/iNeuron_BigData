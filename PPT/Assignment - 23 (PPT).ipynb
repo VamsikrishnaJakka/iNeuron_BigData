{
  "nbformat": 4,
  "nbformat_minor": 0,
  "metadata": {
    "colab": {
      "provenance": []
    },
    "kernelspec": {
      "name": "python3",
      "display_name": "Python 3"
    },
    "language_info": {
      "name": "python"
    }
  },
  "cells": [
    {
      "cell_type": "markdown",
      "source": [
        "<aside>\n",
        "💡 Question-1:\n",
        "\n",
        "Given preorder of a binary tree, calculate its **[depth(or height)](https://www.geeksforgeeks.org/write-a-c-program-to-find-the-maximum-depth-or-height-of-a-tree/)** [starting from depth 0]. The preorder is given as a string with two possible characters.\n",
        "\n",
        "1. ‘l’ denotes the leaf\n",
        "2. ‘n’ denotes internal node\n",
        "\n",
        "The given tree can be seen as a full binary tree where every node has 0 or two children. The two children of a node can ‘n’ or ‘l’ or mix of both.\n",
        "\n",
        "**Examples :**\n",
        "\n",
        "Input  : nlnll\n",
        "Output : 2\n",
        "\n",
        "</aside>"
      ],
      "metadata": {
        "id": "BeV9zOb7n3H2"
      }
    },
    {
      "cell_type": "code",
      "execution_count": 1,
      "metadata": {
        "colab": {
          "base_uri": "https://localhost:8080/"
        },
        "id": "JlnYSuPjnvWG",
        "outputId": "81508975-6f9c-4a9d-a186-edefc5af309c"
      },
      "outputs": [
        {
          "output_type": "stream",
          "name": "stdout",
          "text": [
            "Depth of the binary tree: 1\n"
          ]
        }
      ],
      "source": [
        "def calculate_depth(preorder):\n",
        "    stack = []\n",
        "    depth = 0\n",
        "\n",
        "    for char in preorder:\n",
        "        if char == 'n':\n",
        "            stack.append(char)\n",
        "        elif char == 'l':\n",
        "            while stack and stack[-1] == 'l':\n",
        "                stack.pop()\n",
        "            if stack:\n",
        "                stack.pop()\n",
        "            stack.append('l')\n",
        "            depth = max(depth, len(stack) - 1)\n",
        "\n",
        "    return depth\n",
        "\n",
        "\n",
        "# Driver code\n",
        "preorder = 'nlnll'\n",
        "result = calculate_depth(preorder)\n",
        "print(\"Depth of the binary tree:\", result)\n"
      ]
    },
    {
      "cell_type": "markdown",
      "source": [
        "<aside>\n",
        "💡 Question-2:\n",
        "\n",
        "Given a Binary tree, the task is to print the **left view** of the Binary Tree. The left view of a Binary Tree is a set of leftmost nodes for every level.\n",
        "\n",
        "**Examples:**\n",
        "\n",
        "***Input:***\n",
        "\n",
        "            4\n",
        "\n",
        "          /   \\\n",
        "\n",
        "        5     2\n",
        "\n",
        "             /   \\\n",
        "\n",
        "            3     1\n",
        "\n",
        "           /  \\\n",
        "\n",
        "          6    7\n",
        "\n",
        "***Output:** 4 5 3 6*\n",
        "\n",
        "</aside>"
      ],
      "metadata": {
        "id": "5TE_0sfOoHUz"
      }
    },
    {
      "cell_type": "code",
      "source": [
        "class Node:\n",
        "    def __init__(self, value):\n",
        "        self.data = value\n",
        "        self.left = None\n",
        "        self.right = None\n",
        "\n",
        "\n",
        "def left_view(root):\n",
        "    if root is None:\n",
        "        return\n",
        "\n",
        "    queue = [root]\n",
        "\n",
        "    while queue:\n",
        "        size = len(queue)\n",
        "\n",
        "        for i in range(size):\n",
        "            node = queue.pop(0)\n",
        "\n",
        "            # Print the leftmost node at each level\n",
        "            if i == 0:\n",
        "                print(node.data, end=' ')\n",
        "\n",
        "            # Add the left and right child of the current node to the queue\n",
        "            if node.left:\n",
        "                queue.append(node.left)\n",
        "            if node.right:\n",
        "                queue.append(node.right)\n",
        "\n",
        "\n",
        "# Driver code\n",
        "root = Node(4)\n",
        "root.left = Node(5)\n",
        "root.right = Node(2)\n",
        "root.right.left = Node(3)\n",
        "root.right.right = Node(1)\n",
        "root.right.left.left = Node(6)\n",
        "root.right.left.right = Node(7)\n",
        "\n",
        "print(\"Left view of the binary tree:\")\n",
        "left_view(root)\n"
      ],
      "metadata": {
        "colab": {
          "base_uri": "https://localhost:8080/"
        },
        "id": "49MEpG4Yn_zW",
        "outputId": "26afd2e4-f9d5-4e06-fb03-9b6eb416fc46"
      },
      "execution_count": 2,
      "outputs": [
        {
          "output_type": "stream",
          "name": "stdout",
          "text": [
            "Left view of the binary tree:\n",
            "4 5 3 6 "
          ]
        }
      ]
    },
    {
      "cell_type": "markdown",
      "source": [
        "<aside>\n",
        "💡 Question-3:\n",
        "\n",
        "Given a Binary Tree, print the Right view of it.\n",
        "\n",
        "The right view of a Binary Tree is a set of nodes visible when the tree is visited from the Right side.\n",
        "\n",
        "**Examples:**\n",
        "\n",
        "**Input:**\n",
        "\n",
        "         1\n",
        "\n",
        "      /     \\\n",
        "\n",
        "   2         3\n",
        "\n",
        "/   \\       /  \\\n",
        "\n",
        "4     5   6    7\n",
        "\n",
        "             \\\n",
        "\n",
        "               8\n",
        "\n",
        "**Output**:\n",
        "\n",
        "Right view of the tree is 1 3 7 8\n",
        "\n",
        "**Input:**\n",
        "\n",
        "         1\n",
        "\n",
        "       /\n",
        "\n",
        "    8\n",
        "\n",
        "  /\n",
        "\n",
        "7\n",
        "\n",
        "**Output**:\n",
        "\n",
        "Right view of the tree is 1 8 7\n",
        "\n",
        "</aside>"
      ],
      "metadata": {
        "id": "lNNP6dWUos7M"
      }
    },
    {
      "cell_type": "code",
      "source": [
        "class Node:\n",
        "    def __init__(self, value):\n",
        "        self.data = value\n",
        "        self.left = None\n",
        "        self.right = None\n",
        "\n",
        "\n",
        "def right_view(root):\n",
        "    if root is None:\n",
        "        return\n",
        "\n",
        "    queue = [root]\n",
        "\n",
        "    while queue:\n",
        "        size = len(queue)\n",
        "\n",
        "        for i in range(size):\n",
        "            node = queue.pop(0)\n",
        "\n",
        "            # Print the rightmost node at each level\n",
        "            if i == size - 1:\n",
        "                print(node.data, end=' ')\n",
        "\n",
        "            # Add the left and right child of the current node to the queue\n",
        "            if node.left:\n",
        "                queue.append(node.left)\n",
        "            if node.right:\n",
        "                queue.append(node.right)\n",
        "\n",
        "\n",
        "# Driver code\n",
        "root = Node(1)\n",
        "root.left = Node(2)\n",
        "root.right = Node(3)\n",
        "root.left.left = Node(4)\n",
        "root.left.right = Node(5)\n",
        "root.right.left = Node(6)\n",
        "root.right.right = Node(7)\n",
        "root.right.right.right = Node(8)\n",
        "\n",
        "print(\"Right view of the binary tree:\")\n",
        "right_view(root)\n"
      ],
      "metadata": {
        "colab": {
          "base_uri": "https://localhost:8080/"
        },
        "id": "940YvmCkokzR",
        "outputId": "8d081195-b998-415e-ac87-ed61641338ef"
      },
      "execution_count": 3,
      "outputs": [
        {
          "output_type": "stream",
          "name": "stdout",
          "text": [
            "Right view of the binary tree:\n",
            "1 3 7 8 "
          ]
        }
      ]
    },
    {
      "cell_type": "markdown",
      "source": [
        "<aside>\n",
        "💡 Question-4:\n",
        "\n",
        "Given a Binary Tree, The task is to print the **bottom view** from left to right. A node **x** is there in output if x is the bottommost node at its horizontal distance. The horizontal distance of the left child of a node x is equal to a horizontal distance of x minus 1, and that of a right child is the horizontal distance of x plus 1.\n",
        "\n",
        "**Examples:**\n",
        "\n",
        "**Input:**\n",
        "\n",
        "             20\n",
        "\n",
        "           /     \\\n",
        "\n",
        "        8         22\n",
        "\n",
        "    /      \\         \\\n",
        "\n",
        "5         3        25\n",
        "\n",
        "        /    \\\n",
        "\n",
        "   10       14\n",
        "\n",
        "**Output:** 5, 10, 3, 14, 25.\n",
        "\n",
        "**Input:**\n",
        "\n",
        "             20\n",
        "\n",
        "           /     \\\n",
        "\n",
        "        8         22\n",
        "\n",
        "    /      \\      /   \\\n",
        "\n",
        " 5         3    4     25\n",
        "\n",
        "         /    \\\n",
        "\n",
        "     10       14\n",
        "\n",
        "**Output:**\n",
        "\n",
        "5 10 4 14 25.\n",
        "\n",
        "**Explanation:**\n",
        "\n",
        "If there are multiple bottom-most nodes for a horizontal distance from the root, then print the later one in the level traversal.\n",
        "\n",
        "**3 and 4** are both the bottom-most nodes at a horizontal distance of 0, we need to print 4.\n",
        "\n",
        "</aside>"
      ],
      "metadata": {
        "id": "baIiq6Mgo8KO"
      }
    },
    {
      "cell_type": "code",
      "source": [
        "class Node:\n",
        "    def __init__(self, value):\n",
        "        self.data = value\n",
        "        self.left = None\n",
        "        self.right = None\n",
        "        self.horizontal_distance = 0\n",
        "\n",
        "\n",
        "def bottom_view(root):\n",
        "    if root is None:\n",
        "        return\n",
        "\n",
        "    # Dictionary to store the horizontal distance and bottom-most node\n",
        "    hd_dict = {}\n",
        "\n",
        "    # Queue for level order traversal\n",
        "    queue = [(root, 0)]\n",
        "\n",
        "    while queue:\n",
        "        node, hd = queue.pop(0)\n",
        "\n",
        "        # Update the horizontal distance of the current node\n",
        "        node.horizontal_distance = hd\n",
        "\n",
        "        # Update the bottom-most node for the current horizontal distance\n",
        "        hd_dict[hd] = node.data\n",
        "\n",
        "        # Enqueue the left and right child of the current node\n",
        "        if node.left:\n",
        "            queue.append((node.left, hd - 1))\n",
        "        if node.right:\n",
        "            queue.append((node.right, hd + 1))\n",
        "\n",
        "    # Print the bottom view nodes in the correct order of horizontal distance\n",
        "    for hd in sorted(hd_dict.keys()):\n",
        "        print(hd_dict[hd], end=' ')\n",
        "\n",
        "\n",
        "# Driver code\n",
        "root = Node(20)\n",
        "root.left = Node(8)\n",
        "root.right = Node(22)\n",
        "root.left.left = Node(5)\n",
        "root.left.right = Node(3)\n",
        "root.right.right = Node(25)\n",
        "root.left.right.left = Node(10)\n",
        "root.left.right.right = Node(14)\n",
        "\n",
        "print(\"Bottom view of the binary tree:\")\n",
        "bottom_view(root)\n"
      ],
      "metadata": {
        "colab": {
          "base_uri": "https://localhost:8080/"
        },
        "id": "hodD5mWVozeT",
        "outputId": "5d7d5e9c-6cc4-4b2f-8057-0bfbc98de5ea"
      },
      "execution_count": 4,
      "outputs": [
        {
          "output_type": "stream",
          "name": "stdout",
          "text": [
            "Bottom view of the binary tree:\n",
            "5 10 3 14 25 "
          ]
        }
      ]
    },
    {
      "cell_type": "code",
      "source": [],
      "metadata": {
        "id": "-7RRQqjppHog"
      },
      "execution_count": null,
      "outputs": []
    }
  ]
}