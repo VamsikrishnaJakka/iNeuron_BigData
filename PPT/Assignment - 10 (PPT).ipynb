{
 "cells": [
  {
   "cell_type": "raw",
   "id": "9bfce2a9-4063-415b-b305-8a44cea8c154",
   "metadata": {},
   "source": [
    "💡 **Question 8**\n",
    "\n",
    "Given a string, count total number of consonants in it. A consonant is an English alphabet character that is not vowel (a, e, i, o and u). Examples of constants are b, c, d, f, and g.\n",
    "\n",
    "**Examples :**\n",
    "\n",
    "Input : abc de\n",
    "Output : 3\n",
    "There are three consonants b, c and d.\n",
    "\n",
    "Input : geeksforgeeks portal\n",
    "Output : 12"
   ]
  },
  {
   "cell_type": "code",
   "execution_count": 1,
   "id": "d09ddeb3-6949-40b4-a782-4438bdd68bd6",
   "metadata": {},
   "outputs": [
    {
     "name": "stdout",
     "output_type": "stream",
     "text": [
      "3\n"
     ]
    }
   ],
   "source": [
    "def countConsonants(string):\n",
    "    consonants = set(\"bcdfghjklmnpqrstvwxyz\")\n",
    "    count = 0\n",
    "    string = string.lower()\n",
    "\n",
    "    for ch in string:\n",
    "        if ch.isalpha() and ch in consonants:\n",
    "            count += 1\n",
    "\n",
    "    return count\n",
    "\n",
    "\n",
    "# Driver code\n",
    "string1 = \"abc de\"\n",
    "\n",
    "print(countConsonants(string1))"
   ]
  },
  {
   "cell_type": "raw",
   "id": "dbc212c6-2a76-4cb0-a7b7-7eec410229dd",
   "metadata": {},
   "source": [
    "💡 **Question 7**\n",
    "\n",
    "Given a string **str**, the task is to print all the permutations of **str**. A **permutation** is an arrangement of all or part of a set of objects, with regard to the order of the arrangement. For instance, the words ‘bat’ and ‘tab’ represents two distinct permutation (or arrangements) of a similar three letter word.\n",
    "\n",
    "**Examples:**\n",
    "\n",
    "> Input: str = “cd”\n",
    "> \n",
    "> \n",
    "> **Output:** cd dc\n",
    "> \n",
    "> **Input:** str = “abb”\n",
    "> \n",
    "> **Output:** abb abb bab bba bab bba"
   ]
  },
  {
   "cell_type": "code",
   "execution_count": 2,
   "id": "21190486-d87a-4b08-92f1-ebcccb002853",
   "metadata": {},
   "outputs": [
    {
     "name": "stdout",
     "output_type": "stream",
     "text": [
      "cd dc\n"
     ]
    }
   ],
   "source": [
    "def permute(str, start, result):\n",
    "    if start == len(str):\n",
    "        result.append(''.join(str))\n",
    "    else:\n",
    "        for i in range(start, len(str)):\n",
    "            str[start], str[i] = str[i], str[start]\n",
    "            \n",
    "            permute(str, start + 1, result)\n",
    "            \n",
    "            str[start], str[i] = str[i], str[start]\n",
    "\n",
    "# Driver code\n",
    "string = \"cd\"\n",
    "result = []\n",
    "permute(list(string), 0, result)\n",
    "print(*result) "
   ]
  },
  {
   "cell_type": "raw",
   "id": "4ab49b1a-6a80-48c4-b21b-5be1875b4604",
   "metadata": {},
   "source": [
    "💡 **Question 6**\n",
    "\n",
    "The [tower of Hanoi](https://en.wikipedia.org/wiki/Tower_of_Hanoi) is a famous puzzle where we have three rods and **N** disks. The objective of the puzzle is to move the entire stack to another rod. You are given the number of discs **N**. Initially, these discs are in the rod 1. You need to print all the steps of discs movement so that all the discs reach the 3rd rod. Also, you need to find the total moves.**Note:** The discs are arranged such that the **top disc is numbered 1** and the **bottom-most disc is numbered N**. Also, all the discs have **different sizes** and a bigger disc **cannot** be put on the top of a smaller disc. Refer the provided link to get a better clarity about the puzzle.\n",
    "\n",
    "**Example 1:**\n",
    "Input:\n",
    "N = 2\n",
    "Output:\n",
    "move disk 1 from rod 1 to rod 2\n",
    "move disk 2 from rod 1 to rod 3\n",
    "move disk 1 from rod 2 to rod 3\n",
    "3\n",
    "Explanation:For N=2 , steps will be\n",
    "as follows in the example and total\n",
    "3 steps will be taken.\n",
    "\n",
    "Example - 2:\n",
    "Input:\n",
    "N = 3\n",
    "Output:\n",
    "move disk 1 from rod 1 to rod 3\n",
    "move disk 2 from rod 1 to rod 2\n",
    "move disk 1 from rod 3 to rod 2\n",
    "move disk 3 from rod 1 to rod 3\n",
    "move disk 1 from rod 2 to rod 1\n",
    "move disk 2 from rod 2 to rod 3\n",
    "move disk 1 from rod 1 to rod 3\n",
    "7\n",
    "Explanation:For N=3 , steps will be\n",
    "as follows in the example and total\n",
    "7 steps will be taken."
   ]
  },
  {
   "cell_type": "code",
   "execution_count": 3,
   "id": "a9fc6ea6-3289-42cd-9907-a907ab5292a8",
   "metadata": {},
   "outputs": [
    {
     "name": "stdout",
     "output_type": "stream",
     "text": [
      "move disk 1 from rod 1 to rod 2\n",
      "move disk 2 from rod 1 to rod 3\n",
      "move disk 1 from rod 2 to rod 3\n",
      "3\n",
      "move disk 1 from rod 1 to rod 3\n",
      "move disk 2 from rod 1 to rod 2\n",
      "move disk 1 from rod 3 to rod 2\n",
      "move disk 3 from rod 1 to rod 3\n",
      "move disk 1 from rod 2 to rod 1\n",
      "move disk 2 from rod 2 to rod 3\n",
      "move disk 1 from rod 1 to rod 3\n",
      "7\n"
     ]
    }
   ],
   "source": [
    "def towerOfHanoi(n, source, destination, auxiliary):\n",
    "    if n == 1:\n",
    "        print(\"move disk\", n, \"from rod\", source, \"to rod\", destination)\n",
    "        return\n",
    "\n",
    "    towerOfHanoi(n-1, source, auxiliary, destination)\n",
    "    print(\"move disk\", n, \"from rod\", source, \"to rod\", destination)\n",
    "    towerOfHanoi(n-1, auxiliary, destination, source)\n",
    "\n",
    "# Test the code\n",
    "N = 2\n",
    "towerOfHanoi(N, 1, 3, 2)\n",
    "totalMoves = (2 ** N) - 1\n",
    "print(totalMoves)\n",
    "\n",
    "N = 3\n",
    "towerOfHanoi(N, 1, 3, 2)\n",
    "totalMoves = (2 ** N) - 1\n",
    "print(totalMoves)\n"
   ]
  },
  {
   "cell_type": "raw",
   "id": "b788b5e4-3281-4638-aad7-95cfea6247f4",
   "metadata": {},
   "source": [
    "💡 **Question 5**\n",
    "\n",
    "We are given a string S, we need to find count of all contiguous substrings starting and ending with same character.\n",
    "\n",
    "**Examples :**\n",
    "Input  : S = \"abcab\"\n",
    "Output : 7\n",
    "There are 15 substrings of \"abcab\"\n",
    "a, ab, abc, abca, abcab, b, bc, bca\n",
    "bcab, c, ca, cab, a, ab, b\n",
    "Out of the above substrings, there\n",
    "are 7 substrings : a, abca, b, bcab,\n",
    "c, a and b.\n",
    "\n",
    "Input  : S = \"aba\"\n",
    "Output : 4\n",
    "The substrings are a, b, a and aba"
   ]
  },
  {
   "cell_type": "code",
   "execution_count": 4,
   "id": "68c37b07-759d-4f4b-a9fd-1f0143742992",
   "metadata": {},
   "outputs": [
    {
     "name": "stdout",
     "output_type": "stream",
     "text": [
      "7\n"
     ]
    }
   ],
   "source": [
    "def countSubstrings(S):\n",
    "    count = 0\n",
    "    for i in range(len(S)):\n",
    "        for j in range(i, len(S)):\n",
    "            if S[i] == S[j]:\n",
    "                count += 1\n",
    "    return count\n",
    "\n",
    "# Driver code\n",
    "S = \"abcab\"\n",
    "print(countSubstrings(S))"
   ]
  },
  {
   "cell_type": "raw",
   "id": "b46bae40-c275-4df0-a2a6-615f8e47066f",
   "metadata": {},
   "source": [
    "💡 **Question 4**\n",
    "\n",
    "Given a string calculate length of the string using recursion.\n",
    "\n",
    "**Examples:**\n",
    "\n",
    "Input : str = \"abcd\"\n",
    "Output :4\n",
    "\n",
    "Input : str = \"GEEKSFORGEEKS\"\n",
    "Output :13"
   ]
  },
  {
   "cell_type": "code",
   "execution_count": 5,
   "id": "d3d8d793-e455-4ccb-bc22-2436cc10bbf8",
   "metadata": {},
   "outputs": [
    {
     "name": "stdout",
     "output_type": "stream",
     "text": [
      "4\n"
     ]
    }
   ],
   "source": [
    "def calculateLength(str):\n",
    "    if str == \"\":\n",
    "        return 0\n",
    "    else:\n",
    "        return 1 + calculateLength(str[1:])\n",
    "\n",
    "# Driver code\n",
    "str1 = \"abcd\"\n",
    "print(calculateLength(str1))"
   ]
  },
  {
   "cell_type": "raw",
   "id": "44ad356a-9410-4909-814a-30b91dc861f3",
   "metadata": {},
   "source": [
    "💡 **Question 3**\n",
    "\n",
    "****Given a set represented as a string, write a recursive code to print all subsets of it. The subsets can be printed in any order.\n",
    "\n",
    "**Example 1:**\n",
    "\n",
    "Input :  set = “abc”\n",
    "\n",
    "Output : { “”, “a”, “b”, “c”, “ab”, “ac”, “bc”, “abc”}\n",
    "\n",
    "**Example 2:**\n",
    "\n",
    "Input : set = “abcd”\n",
    "\n",
    "Output : { “”, “a” ,”ab” ,”abc” ,”abcd”, “abd” ,”ac” ,”acd”, “ad” ,”b”, “bc” ,”bcd” ,”bd” ,”c” ,”cd” ,”d” }"
   ]
  },
  {
   "cell_type": "code",
   "execution_count": 6,
   "id": "ccafc8e3-e0cd-42f2-a679-9f7523aa0f34",
   "metadata": {},
   "outputs": [
    {
     "name": "stdout",
     "output_type": "stream",
     "text": [
      "abc\n",
      "ab\n",
      "ac\n",
      "a\n",
      "bc\n",
      "b\n",
      "c\n",
      "\n"
     ]
    }
   ],
   "source": [
    "def printSubsets(set, index, subset):\n",
    "    if index == len(set):\n",
    "        print(subset)\n",
    "        return\n",
    "    \n",
    "    printSubsets(set, index + 1, subset + set[index])\n",
    "    printSubsets(set, index + 1, subset)\n",
    "\n",
    "# Driver code\n",
    "set1 = \"abc\"\n",
    "printSubsets(set1, 0, \"\")  "
   ]
  },
  {
   "cell_type": "raw",
   "id": "5ee324b2-18b9-4f98-a424-0fa11fb54713",
   "metadata": {},
   "source": [
    "💡 **Question 2**\n",
    "\n",
    "You have a list `arr` of all integers in the range `[1, n]` sorted in a strictly increasing order. Apply the following algorithm on `arr`:\n",
    "\n",
    "- Starting from left to right, remove the first number and every other number afterward until you reach the end of the list.\n",
    "- Repeat the previous step again, but this time from right to left, remove the rightmost number and every other number from the remaining numbers.\n",
    "- Keep repeating the steps again, alternating left to right and right to left, until a single number remains.\n",
    "\n",
    "Given the integer `n`, return *the last number that remains in* `arr`.\n",
    "\n",
    "**Example 1:**\n",
    "\n",
    "Input: n = 9\n",
    "Output: 6\n",
    "Explanation:\n",
    "arr = [1, 2,3, 4,5, 6,7, 8,9]\n",
    "arr = [2,4, 6,8]\n",
    "arr = [2, 6]\n",
    "arr = [6]"
   ]
  },
  {
   "cell_type": "code",
   "execution_count": 7,
   "id": "6c264221-dced-49e8-96a9-e8e34626ddae",
   "metadata": {},
   "outputs": [
    {
     "name": "stdout",
     "output_type": "stream",
     "text": [
      "6\n"
     ]
    }
   ],
   "source": [
    "def lastRemaining(n):\n",
    "    if n == 1:\n",
    "        return 1\n",
    "    else:\n",
    "        return 2 * (n // 2 + 1 - lastRemaining(n // 2))\n",
    "\n",
    "# Driver code\n",
    "n = 9\n",
    "result = lastRemaining(n)\n",
    "print(result)"
   ]
  },
  {
   "cell_type": "raw",
   "id": "4a40ea9e-a618-4e20-9cde-870d5a3727c3",
   "metadata": {},
   "source": [
    "<aside>\n",
    "💡 **Question 1**\n",
    "\n",
    "Given an integer `n`, return *`true` if it is a power of three. Otherwise, return `false`*.\n",
    "\n",
    "An integer `n` is a power of three, if there exists an integer `x` such that `n == 3x`.\n",
    "\n",
    "**Example 1:**\n",
    "\n",
    "Input: n = 27\n",
    "Output: true\n",
    "Explanation: 27 = 33\n",
    "\n",
    "**Example 2:**\n",
    "Input: n = 0\n",
    "Output: false\n",
    "Explanation: There is no x where 3x = 0.\n",
    "\n",
    "**Example 3:**\n",
    "Input: n = -1\n",
    "Output: false\n",
    "Explanation: There is no x where 3x = (-1)."
   ]
  },
  {
   "cell_type": "code",
   "execution_count": 8,
   "id": "1afee96b-f1a6-4f87-8b43-137d31674506",
   "metadata": {},
   "outputs": [
    {
     "name": "stdout",
     "output_type": "stream",
     "text": [
      "True\n"
     ]
    }
   ],
   "source": [
    "def isPowerOfThree(n):\n",
    "    if n <= 0:\n",
    "        return False\n",
    "    while n % 3 == 0:\n",
    "        n //= 3\n",
    "    return n == 1\n",
    "\n",
    "# Driver code\n",
    "n = 27\n",
    "result = isPowerOfThree(n)\n",
    "print(result)"
   ]
  },
  {
   "cell_type": "code",
   "execution_count": null,
   "id": "07dc108f-8f60-4041-a668-188521cc3265",
   "metadata": {},
   "outputs": [],
   "source": []
  }
 ],
 "metadata": {
  "kernelspec": {
   "display_name": "Python 3 (ipykernel)",
   "language": "python",
   "name": "python3"
  },
  "language_info": {
   "codemirror_mode": {
    "name": "ipython",
    "version": 3
   },
   "file_extension": ".py",
   "mimetype": "text/x-python",
   "name": "python",
   "nbconvert_exporter": "python",
   "pygments_lexer": "ipython3",
   "version": "3.10.6"
  }
 },
 "nbformat": 4,
 "nbformat_minor": 5
}
