{
 "cells": [
  {
   "cell_type": "raw",
   "id": "1aee0d08-10ac-4169-a53a-8a8e7957be86",
   "metadata": {},
   "source": [
    "💡 **Question 1**\n",
    "\n",
    "Given an integer `n`, return *`true` if it is a power of two. Otherwise, return `false`*.\n",
    "\n",
    "An integer `n` is a power of two, if there exists an integer `x` such that `n == 2x`.\n",
    "\n",
    "**Example 1:**\n",
    "Input: n = 1 \n",
    "\n",
    "Output: true\n",
    "\n",
    "**Example 2:**\n",
    "Input: n = 16 \n",
    "\n",
    "Output: true\n",
    "\n",
    "**Example 3:**\n",
    "Input: n = 3 \n",
    "\n",
    "Output: false"
   ]
  },
  {
   "cell_type": "code",
   "execution_count": 1,
   "id": "87773d4c-0889-4673-90c6-a13ec6212e6b",
   "metadata": {},
   "outputs": [
    {
     "name": "stdout",
     "output_type": "stream",
     "text": [
      "True\n"
     ]
    }
   ],
   "source": [
    "def isPowerOfTwo(n):\n",
    "    if n <= 0:\n",
    "        return False\n",
    "\n",
    "    while n > 1:\n",
    "        if n % 2 != 0:\n",
    "            return False\n",
    "        n //= 2\n",
    "\n",
    "    return True\n",
    "\n",
    "# Driver code\n",
    "n1 = 1\n",
    "print(isPowerOfTwo(n1))"
   ]
  },
  {
   "cell_type": "raw",
   "id": "806600f0-9e7c-4e41-b42c-e4158bce2902",
   "metadata": {},
   "source": [
    "💡 **Question 2**\n",
    "\n",
    "Given a number n, find the sum of the first natural numbers.\n",
    "\n",
    "**Example 1:**\n",
    "\n",
    "Input: n = 3 \n",
    "\n",
    "Output: 6\n",
    "\n",
    "**Example 2:**\n",
    "\n",
    "Input  : 5 \n",
    "\n",
    "Output : 15"
   ]
  },
  {
   "cell_type": "code",
   "execution_count": 2,
   "id": "0fdd2013-19c6-4817-b9dc-0b4ebe0b3aef",
   "metadata": {},
   "outputs": [
    {
     "name": "stdout",
     "output_type": "stream",
     "text": [
      "6\n"
     ]
    }
   ],
   "source": [
    "def sumOfNaturalNumbers(n):\n",
    "    sum = (n * (n + 1)) // 2\n",
    "    return sum\n",
    "\n",
    "#Driver code\n",
    "n1 = 3\n",
    "\n",
    "print(sumOfNaturalNumbers(n1))  # Output: 6"
   ]
  },
  {
   "cell_type": "raw",
   "id": "756fb221-0cb9-4be8-9def-6ff9f5f5a3a3",
   "metadata": {},
   "source": [
    "💡 **Question 3**\n",
    "\n",
    "****Given a positive integer, N. Find the factorial of N. \n",
    "\n",
    "**Example 1:**\n",
    "\n",
    "Input: N = 5 \n",
    "\n",
    "Output: 120\n",
    "\n",
    "**Example 2:**\n",
    "\n",
    "Input: N = 4\n",
    "\n",
    "Output: 24"
   ]
  },
  {
   "cell_type": "code",
   "execution_count": 3,
   "id": "f7fe2505-bd61-4ff3-97f8-5b124f884f84",
   "metadata": {},
   "outputs": [
    {
     "name": "stdout",
     "output_type": "stream",
     "text": [
      "120\n"
     ]
    }
   ],
   "source": [
    "def factorial(N):\n",
    "    result = 1\n",
    "    for i in range(1, N+1):\n",
    "        result *= i\n",
    "    return result\n",
    "\n",
    "# Driver code\n",
    "N1 = 5\n",
    "print(factorial(N1))"
   ]
  },
  {
   "cell_type": "raw",
   "id": "58be1a9b-fe79-40b9-900f-022aaa2c0ab8",
   "metadata": {},
   "source": [
    "💡 **Question 4**\n",
    "\n",
    "Given a number N and a power P, the task is to find the exponent of this number raised to the given power, i.e. N^P.\n",
    "\n",
    "**Example 1 :** \n",
    "\n",
    "Input: N = 5, P = 2\n",
    "\n",
    "Output: 25\n",
    "\n",
    "**Example 2 :**\n",
    "Input: N = 2, P = 5\n",
    "\n",
    "Output: 32"
   ]
  },
  {
   "cell_type": "code",
   "execution_count": 4,
   "id": "ba4c3f83-9d2f-4851-85be-b835c69bcb59",
   "metadata": {},
   "outputs": [
    {
     "name": "stdout",
     "output_type": "stream",
     "text": [
      "25\n"
     ]
    }
   ],
   "source": [
    "def power(N, P):\n",
    "    result = N ** P\n",
    "    return result\n",
    "\n",
    "# Driver code\n",
    "N1 = 5\n",
    "P1 = 2\n",
    "print(power(N1, P1))"
   ]
  },
  {
   "cell_type": "raw",
   "id": "8a8cd33d-6aee-4b52-87d3-aa3495d7cae4",
   "metadata": {},
   "source": [
    "💡 **Question 5**\n",
    "\n",
    "Given an array of integers **arr**, the task is to find maximum element of that array using recursion.\n",
    "\n",
    "**Example 1:**\n",
    "\n",
    "Input: arr = {1, 4, 3, -5, -4, 8, 6};\n",
    "Output: 8\n",
    "\n",
    "**Example 2:**\n",
    "\n",
    "Input: arr = {1, 4, 45, 6, 10, -8};\n",
    "Output: 45"
   ]
  },
  {
   "cell_type": "code",
   "execution_count": 5,
   "id": "882dc3f9-6db8-4a9d-a2fb-7e81d7bf217a",
   "metadata": {},
   "outputs": [
    {
     "name": "stdout",
     "output_type": "stream",
     "text": [
      "8\n"
     ]
    }
   ],
   "source": [
    "def find_max(arr, index):\n",
    "    if index == len(arr) - 1:\n",
    "        return arr[index]\n",
    "    else:\n",
    "        return max(arr[index], find_max(arr, index + 1))\n",
    "\n",
    "# TDriver code\n",
    "arr1 = [1, 4, 3, -5, -4, 8, 6]\n",
    "\n",
    "print(find_max(arr1, 0))\n"
   ]
  },
  {
   "cell_type": "raw",
   "id": "2692d57a-952f-49f5-9b82-6a431b8db827",
   "metadata": {},
   "source": [
    "💡 **Question 6**\n",
    "\n",
    "Given first term (a), common difference (d) and a integer N of the Arithmetic Progression series, the task is to find Nth term of the series.\n",
    "\n",
    "**Example 1:**\n",
    "\n",
    "Input : a = 2 d = 1 N = 5\n",
    "Output : 6\n",
    "The 5th term of the series is : 6\n",
    "\n",
    "**Example 2:**\n",
    "\n",
    "Input : a = 5 d = 2 N = 10\n",
    "Output : 23\n",
    "The 10th term of the series is : 23"
   ]
  },
  {
   "cell_type": "code",
   "execution_count": 6,
   "id": "90c7356b-969e-4bd1-bbf9-3e62761478c2",
   "metadata": {},
   "outputs": [
    {
     "name": "stdout",
     "output_type": "stream",
     "text": [
      "6\n"
     ]
    }
   ],
   "source": [
    "def find_nth_term(a, d, N):\n",
    "    return a + (N - 1) * d\n",
    "\n",
    "# TDriver code\n",
    "a1, d1, N1 = 2, 1, 5\n",
    "\n",
    "print(find_nth_term(a1, d1, N1))  # Output: 6"
   ]
  },
  {
   "cell_type": "raw",
   "id": "06d53510-eda3-4159-bd91-9a9784e1eb90",
   "metadata": {},
   "source": [
    "💡 **Question 7**\n",
    "\n",
    "Given a string S, the task is to write a program to print all permutations of a given string.\n",
    "\n",
    "**Example 1:**\n",
    "\n",
    "***Input:***\n",
    "\n",
    "*S = “ABC”*\n",
    "\n",
    "***Output:***\n",
    "\n",
    "*“ABC”, “ACB”, “BAC”, “BCA”, “CBA”, “CAB”*\n",
    "\n",
    "**Example 2:**\n",
    "\n",
    "***Input:***\n",
    "\n",
    "*S = “XY”*\n",
    "\n",
    "***Output:***\n",
    "\n",
    "*“XY”, “YX”*"
   ]
  },
  {
   "cell_type": "code",
   "execution_count": 7,
   "id": "8ef3a068-c151-4cd9-b3e5-b439cb12fb85",
   "metadata": {},
   "outputs": [
    {
     "name": "stdout",
     "output_type": "stream",
     "text": [
      "ABC\n",
      "ACB\n",
      "BAC\n",
      "BCA\n",
      "CBA\n",
      "CAB\n"
     ]
    }
   ],
   "source": [
    "def permute(s, start, n):\n",
    "    if start == n:\n",
    "        print(\"\".join(s))\n",
    "        return\n",
    "\n",
    "    for i in range(start, n):\n",
    "        s[start], s[i] = s[i], s[start]  # Swap characters\n",
    "        permute(s, start + 1, n)  # Recursive call\n",
    "        s[start], s[i] = s[i], s[start]  # Swap characters back (backtrack)\n",
    "\n",
    "\n",
    "def printPermutations(S):\n",
    "    n = len(S)\n",
    "    s = list(S)  # Convert string to a list of characters\n",
    "    permute(s, 0, n)\n",
    "\n",
    "\n",
    "# Test the code with the given examples\n",
    "S1 = \"ABC\"\n",
    "\n",
    "printPermutations(S1)  # Output: ABC ACB BAC BCA CBA CAB"
   ]
  },
  {
   "cell_type": "raw",
   "id": "787722b7-0af7-47b5-ba5a-bce04865725c",
   "metadata": {},
   "source": [
    "💡 **Question 8**\n",
    "\n",
    "Given an array, find a product of all array elements.\n",
    "\n",
    "**Example 1:**\n",
    "\n",
    "Input  : arr[] = {1, 2, 3, 4, 5}\n",
    "Output : 120\n",
    "**Example 2:**\n",
    "\n",
    "Input  : arr[] = {1, 6, 3}\n",
    "Output : 18"
   ]
  },
  {
   "cell_type": "code",
   "execution_count": 8,
   "id": "ea77ea5a-5f2d-4ab1-adef-0563658faae0",
   "metadata": {},
   "outputs": [
    {
     "name": "stdout",
     "output_type": "stream",
     "text": [
      "120\n"
     ]
    }
   ],
   "source": [
    "def findProduct(arr):\n",
    "    product = 1\n",
    "    for num in arr:\n",
    "        product *= num\n",
    "    return product\n",
    "\n",
    "\n",
    "# Driver code\n",
    "arr1 = [1, 2, 3, 4, 5]\n",
    "\n",
    "print(findProduct(arr1))"
   ]
  },
  {
   "cell_type": "code",
   "execution_count": null,
   "id": "49ead25f-e78a-4db8-9115-f5dec6629d1d",
   "metadata": {},
   "outputs": [],
   "source": []
  }
 ],
 "metadata": {
  "kernelspec": {
   "display_name": "Python 3 (ipykernel)",
   "language": "python",
   "name": "python3"
  },
  "language_info": {
   "codemirror_mode": {
    "name": "ipython",
    "version": 3
   },
   "file_extension": ".py",
   "mimetype": "text/x-python",
   "name": "python",
   "nbconvert_exporter": "python",
   "pygments_lexer": "ipython3",
   "version": "3.10.6"
  }
 },
 "nbformat": 4,
 "nbformat_minor": 5
}
