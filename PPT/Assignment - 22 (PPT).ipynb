{
  "nbformat": 4,
  "nbformat_minor": 0,
  "metadata": {
    "colab": {
      "provenance": []
    },
    "kernelspec": {
      "name": "python3",
      "display_name": "Python 3"
    },
    "language_info": {
      "name": "python"
    }
  },
  "cells": [
    {
      "cell_type": "markdown",
      "source": [
        "<aside>\n",
        "💡 Question-1:\n",
        "\n",
        "Given a Binary Tree (Bt), convert it to a Doubly Linked List(DLL). The left and right pointers in nodes are to be used as previous and next pointers respectively in converted DLL. The order of nodes in DLL must be the same as in Inorder for the given Binary Tree. The first node of Inorder traversal (leftmost node in BT) must be the head node of the DLL.\n",
        "\n",
        "</aside>"
      ],
      "metadata": {
        "id": "lmQ-hiYKpkaf"
      }
    },
    {
      "cell_type": "code",
      "execution_count": 1,
      "metadata": {
        "colab": {
          "base_uri": "https://localhost:8080/"
        },
        "id": "CMXmEt-ipjkH",
        "outputId": "2433389e-4e3b-457b-d84e-52b7609acae4"
      },
      "outputs": [
        {
          "output_type": "stream",
          "name": "stdout",
          "text": [
            "Doubly Linked List:\n",
            "1 2 3 4 5 \n"
          ]
        }
      ],
      "source": [
        "class Node:\n",
        "    def __init__(self, value):\n",
        "        self.data = value\n",
        "        self.left = None\n",
        "        self.right = None\n",
        "\n",
        "\n",
        "def binary_tree_to_dll(root):\n",
        "    if root is None:\n",
        "        return None\n",
        "\n",
        "    # Convert the left subtree\n",
        "    left_head = binary_tree_to_dll(root.left)\n",
        "\n",
        "    # Find the predecessor (rightmost node) in the left subtree\n",
        "    predecessor = left_head\n",
        "    if predecessor is not None:\n",
        "        while predecessor.right is not None:\n",
        "            predecessor = predecessor.right\n",
        "\n",
        "    # Set the predecessor's right pointer to the current node\n",
        "    if predecessor is not None:\n",
        "        predecessor.right = root\n",
        "        root.left = predecessor\n",
        "\n",
        "    # Convert the right subtree\n",
        "    right_head = binary_tree_to_dll(root.right)\n",
        "\n",
        "    # Set the current node's right pointer to the successor in the right subtree\n",
        "    if right_head is not None:\n",
        "        right_head.left = root\n",
        "        root.right = right_head\n",
        "\n",
        "    # Return the head of the doubly linked list\n",
        "    return left_head if left_head is not None else root\n",
        "\n",
        "\n",
        "# Function to print the doubly linked list\n",
        "def print_dll(head):\n",
        "    current = head\n",
        "    while current is not None:\n",
        "        print(current.data, end=\" \")\n",
        "        current = current.right\n",
        "    print()\n",
        "\n",
        "\n",
        "# Driver code\n",
        "root = Node(4)\n",
        "root.left = Node(2)\n",
        "root.right = Node(5)\n",
        "root.left.left = Node(1)\n",
        "root.left.right = Node(3)\n",
        "\n",
        "print(\"Doubly Linked List:\")\n",
        "head = binary_tree_to_dll(root)\n",
        "print_dll(head)\n"
      ]
    },
    {
      "cell_type": "markdown",
      "source": [
        "<aside>\n",
        "💡 Question-2\n",
        "\n",
        "A Given a binary tree, the task is to flip the binary tree towards the right direction that is clockwise. See the below examples to see the transformation.\n",
        "\n",
        "In the flip operation, the leftmost node becomes the root of the flipped tree and its parent becomes its right child and the right sibling becomes its left child and the same should be done for all left most nodes recursively.\n",
        "\n",
        "</aside>"
      ],
      "metadata": {
        "id": "FxucPDJhqDzB"
      }
    },
    {
      "cell_type": "code",
      "source": [
        "class Node:\n",
        "    def __init__(self, value):\n",
        "        self.data = value\n",
        "        self.left = None\n",
        "        self.right = None\n",
        "\n",
        "\n",
        "def flip_binary_tree(root):\n",
        "    # Base case: if the root is None or a leaf node, return the root\n",
        "    if root is None or (root.left is None and root.right is None):\n",
        "        return root\n",
        "\n",
        "    # Recursively flip the left and right subtrees\n",
        "    flipped_left = flip_binary_tree(root.left)\n",
        "    flipped_right = flip_binary_tree(root.right)\n",
        "\n",
        "    # Rotate the tree by setting the left child as the new root\n",
        "    root.left = None\n",
        "    root.right = None\n",
        "    flipped_left.left = flipped_right\n",
        "    flipped_left.right = root\n",
        "\n",
        "    # Return the flipped tree\n",
        "    return flipped_left\n",
        "\n",
        "\n",
        "# Function to print the binary tree\n",
        "def print_binary_tree(root):\n",
        "    if root is None:\n",
        "        return\n",
        "    print(root.data, end=\" \")\n",
        "    print_binary_tree(root.left)\n",
        "    print_binary_tree(root.right)\n",
        "\n",
        "\n",
        "# Driver code\n",
        "root = Node(1)\n",
        "root.left = Node(2)\n",
        "root.right = Node(3)\n",
        "root.left.left = Node(4)\n",
        "root.left.right = Node(5)\n",
        "\n",
        "print(\"Original Binary Tree:\")\n",
        "print_binary_tree(root)\n",
        "\n",
        "flipped_root = flip_binary_tree(root)\n",
        "\n",
        "print(\"\\nFlipped Binary Tree:\")\n",
        "print_binary_tree(flipped_root)\n"
      ],
      "metadata": {
        "colab": {
          "base_uri": "https://localhost:8080/"
        },
        "id": "mJhgy71yp5-Y",
        "outputId": "13c82bdc-8d6a-4103-a51b-30e4978504eb"
      },
      "execution_count": 2,
      "outputs": [
        {
          "output_type": "stream",
          "name": "stdout",
          "text": [
            "Original Binary Tree:\n",
            "1 2 4 5 3 \n",
            "Flipped Binary Tree:\n",
            "4 3 1 "
          ]
        }
      ]
    },
    {
      "cell_type": "markdown",
      "source": [
        "<aside>\n",
        "💡 Question-3:\n",
        "\n",
        "Given a binary tree, print all its root-to-leaf paths without using recursion. For example, consider the following Binary Tree.\n",
        "\n",
        "Input:\n",
        "\n",
        "        6\n",
        "     /    \\\n",
        "    3      5\n",
        "  /   \\     \\\n",
        " 2     5     4\n",
        "     /   \\\n",
        "    7     4\n",
        "\n",
        "Output:\n",
        "\n",
        "There are 4 leaves, hence 4 root to leaf paths -\n",
        "  6->3->2\n",
        "  6->3->5->7\n",
        "  6->3->5->4\n",
        "  6->5>4\n",
        "\n",
        "</aside>"
      ],
      "metadata": {
        "id": "naj1h4q8qZBP"
      }
    },
    {
      "cell_type": "code",
      "source": [
        "class Node:\n",
        "    def __init__(self, value):\n",
        "        self.data = value\n",
        "        self.left = None\n",
        "        self.right = None\n",
        "\n",
        "\n",
        "def print_paths(root):\n",
        "    if root is None:\n",
        "        return\n",
        "\n",
        "    # Stack to store the nodes and their paths\n",
        "    stack = [(root, str(root.data))]\n",
        "\n",
        "    while stack:\n",
        "        node, path = stack.pop()\n",
        "\n",
        "        # If the current node is a leaf node, print the path\n",
        "        if node.left is None and node.right is None:\n",
        "            print(path)\n",
        "\n",
        "        # Push the left child and its path to the stack\n",
        "        if node.left:\n",
        "            stack.append((node.left, path + \"->\" + str(node.left.data)))\n",
        "\n",
        "        # Push the right child and its path to the stack\n",
        "        if node.right:\n",
        "            stack.append((node.right, path + \"->\" + str(node.right.data)))\n",
        "\n",
        "\n",
        "# Driver code\n",
        "root = Node(6)\n",
        "root.left = Node(3)\n",
        "root.right = Node(5)\n",
        "root.left.left = Node(2)\n",
        "root.left.right = Node(5)\n",
        "root.right.right = Node(4)\n",
        "root.left.right.left = Node(7)\n",
        "root.left.right.right = Node(4)\n",
        "\n",
        "print(\"Root-to-Leaf Paths:\")\n",
        "print_paths(root)\n"
      ],
      "metadata": {
        "colab": {
          "base_uri": "https://localhost:8080/"
        },
        "id": "jNPclPp2qQu-",
        "outputId": "e4061645-3ef5-4467-8162-1478ef462899"
      },
      "execution_count": 3,
      "outputs": [
        {
          "output_type": "stream",
          "name": "stdout",
          "text": [
            "Root-to-Leaf Paths:\n",
            "6->5->4\n",
            "6->3->5->4\n",
            "6->3->5->7\n",
            "6->3->2\n"
          ]
        }
      ]
    },
    {
      "cell_type": "markdown",
      "source": [
        "<aside>\n",
        "💡 Question-4:\n",
        "\n",
        "Given Preorder, Inorder and Postorder traversals of some tree. Write a program to check if they all are of the same tree.\n",
        "\n",
        "**Examples:**\n",
        "\n",
        "Input :\n",
        "\n",
        "        Inorder -> 4 2 5 1 3\n",
        "        Preorder -> 1 2 4 5 3\n",
        "        Postorder -> 4 5 2 3 1\n",
        "Output :\n",
        "\n",
        "Yes\n",
        "Explanation :\n",
        "\n",
        "All of the above three traversals are of\n",
        "the same tree\n",
        "\n",
        "                           1\n",
        "                         /   \\\n",
        "                        2     3\n",
        "                      /   \\\n",
        "                     4     5\n",
        "\n",
        "Input :\n",
        "\n",
        "        Inorder -> 4 2 5 1 3\n",
        "        Preorder -> 1 5 4 2 3\n",
        "        Postorder -> 4 1 2 3 5\n",
        "Output :\n",
        "\n",
        "No\n",
        "\n",
        "</aside>"
      ],
      "metadata": {
        "id": "zEgRlWZZqo8D"
      }
    },
    {
      "cell_type": "code",
      "source": [
        "def check_same_tree(inorder, preorder, postorder):\n",
        "    if not inorder or not preorder or not postorder:\n",
        "        return True\n",
        "\n",
        "    if len(inorder) != len(preorder) or len(inorder) != len(postorder):\n",
        "        return False\n",
        "\n",
        "    if inorder[0] != preorder[0] or inorder[-1] != postorder[-1]:\n",
        "        return False\n",
        "\n",
        "    root = preorder[0]\n",
        "    root_index = inorder.index(root)\n",
        "\n",
        "    left_inorder = inorder[:root_index]\n",
        "    left_preorder = preorder[1:root_index + 1]\n",
        "    left_postorder = postorder[:root_index]\n",
        "\n",
        "    right_inorder = inorder[root_index + 1:]\n",
        "    right_preorder = preorder[root_index + 1:]\n",
        "    right_postorder = postorder[root_index:-1]\n",
        "\n",
        "    return check_same_tree(left_inorder, left_preorder, left_postorder) and \\\n",
        "           check_same_tree(right_inorder, right_preorder, right_postorder)\n",
        "\n",
        "\n",
        "# Driver code\n",
        "inorder = [4, 2, 5, 1, 3]\n",
        "preorder = [1, 2, 4, 5, 3]\n",
        "postorder = [4, 5, 2, 3, 1]\n",
        "\n",
        "print(\"Are the traversals of the same tree?\", check_same_tree(inorder, preorder, postorder))\n"
      ],
      "metadata": {
        "colab": {
          "base_uri": "https://localhost:8080/"
        },
        "id": "JvnsGQnnqgCJ",
        "outputId": "26ca10dc-db48-4b58-9b07-2df77ce6ebcf"
      },
      "execution_count": 4,
      "outputs": [
        {
          "output_type": "stream",
          "name": "stdout",
          "text": [
            "Are the traversals of the same tree? False\n"
          ]
        }
      ]
    },
    {
      "cell_type": "code",
      "source": [],
      "metadata": {
        "id": "kXToi6Txq23y"
      },
      "execution_count": null,
      "outputs": []
    }
  ]
}