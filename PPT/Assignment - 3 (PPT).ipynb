{
 "cells": [
  {
   "cell_type": "raw",
   "id": "97616ff2-53de-4fbf-8a04-48622f9c4fff",
   "metadata": {},
   "source": [
    "Question 4\n",
    "Given a sorted array of distinct integers and a target value, return the index if the\n",
    "target is found. If not, return the index where it would be if it were inserted in\n",
    "order.\n",
    "\n",
    "You must write an algorithm with O(log n) runtime complexity.\n",
    "\n",
    "Example 1:\n",
    "Input: nums = [1,3,5,6], target = 5\n",
    "Output: 2"
   ]
  },
  {
   "cell_type": "code",
   "execution_count": 1,
   "id": "d9f7e7b8-e094-4ac2-b3c7-60cf65fbf64d",
   "metadata": {},
   "outputs": [
    {
     "name": "stdout",
     "output_type": "stream",
     "text": [
      "2\n"
     ]
    }
   ],
   "source": [
    "def sorted_array(arr, n, i, j):\n",
    "    while i <= j:\n",
    "        mid = (i + j) // 2\n",
    "        if arr[mid] == n:\n",
    "            return mid\n",
    "        elif arr[mid] < n:\n",
    "            return sorted_array(arr, n, mid + 1, j)\n",
    "        else:\n",
    "            return sorted_array(arr, n, i, mid - 1)\n",
    "\n",
    "# Driver code\n",
    "arr = [1, 3, 5, 6]\n",
    "n = 5\n",
    "i = 0\n",
    "j = len(arr) - 1\n",
    "result = sorted_array(arr, n, i, j)\n",
    "print(result)"
   ]
  },
  {
   "cell_type": "raw",
   "id": "a1f24ef9-11f0-42b0-8351-325b8c028c9e",
   "metadata": {},
   "source": [
    "💡 **Question 5**\n",
    "You are given a large integer represented as an integer array digits, where each\n",
    "digits[i] is the ith digit of the integer. The digits are ordered from most significant\n",
    "to least significant in left-to-right order. The large integer does not contain any\n",
    "leading 0's.\n",
    "\n",
    "Increment the large integer by one and return the resulting array of digits.\n",
    "\n",
    "**Example 1:**\n",
    "Input: digits = [1,2,3]\n",
    "Output: [1,2,4]\n",
    "\n",
    "**Explanation:** The array represents the integer 123.\n",
    "Incrementing by one gives 123 + 1 = 124.\n",
    "Thus, the result should be [1,2,4]."
   ]
  },
  {
   "cell_type": "code",
   "execution_count": 2,
   "id": "8985571d-89d2-4811-90ff-a0565b03f4e6",
   "metadata": {},
   "outputs": [
    {
     "name": "stdout",
     "output_type": "stream",
     "text": [
      "[1, 2, 4]\n"
     ]
    }
   ],
   "source": [
    "def plusOne(digits):\n",
    "    n = len(digits)\n",
    "    carry = 1  \n",
    "    \n",
    "    for i in range(n - 1, -1, -1):\n",
    "        sum_val = digits[i] + carry  \n",
    "        digits[i] = sum_val % 10  \n",
    "        carry = sum_val // 10  \n",
    "    \n",
    "    if carry > 0:\n",
    "        digits.insert(0, carry)\n",
    "    \n",
    "    return digits\n",
    "\n",
    "#driver code\n",
    "digits = [1, 2, 3]\n",
    "result = plusOne(digits)\n",
    "print(result)"
   ]
  },
  {
   "cell_type": "raw",
   "id": "a2895f6a-4816-4ca4-bfb3-821e6dda916c",
   "metadata": {},
   "source": [
    "Question 6\n",
    "Given a non-empty array of integers nums, every element appears twice except\n",
    "for one. Find that single one.\n",
    "\n",
    "You must implement a solution with a linear runtime complexity and use only\n",
    "constant extra space.\n",
    "\n",
    "Example 1:\n",
    "Input: nums = [2,2,1]\n",
    "Output: 1"
   ]
  },
  {
   "cell_type": "code",
   "execution_count": 3,
   "id": "d8be1ba0-3c5f-4126-b0bc-e4835bcfe8cf",
   "metadata": {},
   "outputs": [
    {
     "data": {
      "text/plain": [
       "1"
      ]
     },
     "execution_count": 3,
     "metadata": {},
     "output_type": "execute_result"
    }
   ],
   "source": [
    "def single_repeat(arr):\n",
    "    s = {}\n",
    "    for i in arr:\n",
    "        if i in s :\n",
    "            s[i] +=1\n",
    "        else:\n",
    "            s[i] = 1\n",
    "    for i,v in s.items():\n",
    "        if v == 1:\n",
    "            return i\n",
    "        \n",
    "arrayer=[2,2,1]\n",
    "single_repeat(arrayer)"
   ]
  },
  {
   "cell_type": "raw",
   "id": "dc626254-7600-4930-b4cd-07cfb4606f56",
   "metadata": {},
   "source": [
    "Question 8\n",
    "Given an array of meeting time intervals where intervals[i] = [starti, endi],\n",
    "determine if a person could attend all meetings.\n",
    "\n",
    "Example 1:\n",
    "Input: intervals = [[0,30],[5,10],[15,20]]\n",
    "Output: false"
   ]
  },
  {
   "cell_type": "code",
   "execution_count": 4,
   "id": "a3d5f4c6-0e38-45b0-9f1f-e2c444f4ee90",
   "metadata": {},
   "outputs": [
    {
     "name": "stdout",
     "output_type": "stream",
     "text": [
      "Can attend all meetings? :  False\n"
     ]
    }
   ],
   "source": [
    "def Meetings_overlap(intervals):\n",
    "    \n",
    "    intervals.sort(key=lambda x: x[0])\n",
    "    \n",
    "    for i in range(1, len(intervals)):\n",
    "        if intervals[i][0] < intervals[i-1][1]:\n",
    "            return False\n",
    "    return True\n",
    "\n",
    "#Driver code\n",
    "intervals = [[0,30],[5,10],[15,20]]\n",
    "result = Meetings_overlap(intervals)\n",
    "print('Can attend all meetings? : ', result)"
   ]
  },
  {
   "cell_type": "raw",
   "id": "c4bb32c6-2087-4904-9713-73e2932e596d",
   "metadata": {},
   "source": [
    "Question 1\n",
    "Given an integer array nums of length n and an integer target, find three integers\n",
    "in nums such that the sum is closest to the target.\n",
    "Return the sum of the three integers.\n",
    "\n",
    "You may assume that each input would have exactly one solution.\n",
    "\n",
    "Example 1:\n",
    "Input: nums = [-1,2,1,-4], target = 1\n",
    "Output: 2\n",
    "\n",
    "Explanation: The sum that is closest to the target is 2. (-1 + 2 + 1 = 2)."
   ]
  },
  {
   "cell_type": "code",
   "execution_count": 1,
   "id": "cfa830e2-d82a-497d-9ff2-d999f1c922de",
   "metadata": {},
   "outputs": [
    {
     "name": "stdout",
     "output_type": "stream",
     "text": [
      "The closest triplet sum is: 2\n"
     ]
    }
   ],
   "source": [
    "def triplet(arr, target):\n",
    "    arr.sort()\n",
    "    closest_sum = float('inf')   \n",
    "    for i in range(len(arr) - 2):\n",
    "        left = i + 1  \n",
    "        right = len(arr) - 1\n",
    "        while left < right:\n",
    "            curr_sum = arr[i] + arr[left] + arr[right]\n",
    "            if curr_sum == target:\n",
    "                return curr_sum\n",
    "            if abs(curr_sum - target) < abs(closest_sum - target):\n",
    "                closest_sum = curr_sum\n",
    "            if curr_sum < target:\n",
    "                left += 1\n",
    "            else:\n",
    "                right -= 1\n",
    "    return closest_sum\n",
    "\n",
    "# Driver code:\n",
    "arr = [-1, 2, 1, -4]\n",
    "target = 1\n",
    "result = triplet(arr, target)\n",
    "print(\"The closest triplet sum is:\", result)"
   ]
  },
  {
   "cell_type": "raw",
   "id": "c34f811e-9602-475d-8e62-0309ae0d60a9",
   "metadata": {},
   "source": [
    "Question 2\n",
    "Given an array nums of n integers, return an array of all the unique quadruplets\n",
    "[nums[a], nums[b], nums[c], nums[d]] such that:\n",
    "           ● 0 <= a, b, c, d < n\n",
    "           ● a, b, c, and d are distinct.\n",
    "           ● nums[a] + nums[b] + nums[c] + nums[d] == target\n",
    "\n",
    "You may return the answer in any order.\n",
    "\n",
    "Example 1:\n",
    "Input: nums = [1,0,-1,0,-2,2], target = 0\n",
    "Output: [[-2,-1,1,2],[-2,0,0,2],[-1,0,0,1]]"
   ]
  },
  {
   "cell_type": "code",
   "execution_count": 2,
   "id": "196bf3fc-5a26-40a4-8702-38d4abc89b40",
   "metadata": {},
   "outputs": [
    {
     "name": "stdout",
     "output_type": "stream",
     "text": [
      "Unique quadruplets that sum up to the target: [[1, 0, -1, 0], [1, -1, -2, 2], [0, 0, -2, 2]]\n"
     ]
    }
   ],
   "source": [
    "def fourVar(arr, target):\n",
    "    n = len(arr)\n",
    "    result = []\n",
    "    \n",
    "    for a in range(n - 3):\n",
    "        for b in range(a + 1, n - 2):\n",
    "            for c in range(b + 1, n - 1):\n",
    "                for d in range(c + 1, n):\n",
    "                    if (arr[a] + arr[b] + arr[c] + arr[d] == target):\n",
    "                        quad = [arr[a], arr[b], arr[c], arr[d]]\n",
    "                        result.append(quad)\n",
    "\n",
    "    return result\n",
    "\n",
    "# Driver code:\n",
    "arr = [1, 0, -1, 0, -2, 2]\n",
    "target = 0\n",
    "result = fourVar(arr, target)\n",
    "print(\"Unique quadruplets that sum up to the target:\", result)"
   ]
  },
  {
   "cell_type": "raw",
   "id": "9383c53b-aa15-47af-ba9d-a0d663ce52bf",
   "metadata": {},
   "source": [
    "Question 7\n",
    "You are given an inclusive range [lower, upper] and a sorted unique integer array\n",
    "nums, where all elements are within the inclusive range.\n",
    "\n",
    "A number x is considered missing if x is in the range [lower, upper] and x is not in\n",
    "nums.\n",
    "\n",
    "Return the shortest sorted list of ranges that exactly covers all the missing\n",
    "numbers. That is, no element of nums is included in any of the ranges, and each\n",
    "missing number is covered by one of the ranges.\n",
    "\n",
    "Example 1:\n",
    "Input: nums = [0,1,3,50,75], lower = 0, upper = 99\n",
    "Output: [[2,2],[4,49],[51,74],[76,99]]\n",
    "\n",
    "Explanation: The ranges are:\n",
    "[2,2]\n",
    "[4,49]\n",
    "[51,74]\n",
    "[76,99]"
   ]
  },
  {
   "cell_type": "code",
   "execution_count": 3,
   "id": "172cb59c-e598-4351-a4c0-32ca58298818",
   "metadata": {},
   "outputs": [
    {
     "name": "stdout",
     "output_type": "stream",
     "text": [
      "Missing elements ranges are :  [[2], [4, 49], [51, 74], [76, 99]]\n"
     ]
    }
   ],
   "source": [
    "def MissingRanges(nums, lower, upper):\n",
    "    result = []\n",
    "    low, high = lower, lower + 1\n",
    "    \n",
    "    for i in nums:\n",
    "        if i > low:  \n",
    "            if i - 1 == low:\n",
    "                result.append([low])\n",
    "            else:\n",
    "                result.append([low, i - 1])\n",
    "        \n",
    "        low = i + 1\n",
    "    \n",
    "    if low <= upper: \n",
    "        if low == upper:\n",
    "            result.append([low])\n",
    "        else:\n",
    "            result.append([low, upper])\n",
    "    \n",
    "    return result\n",
    "\n",
    "# Driver code:\n",
    "nums = [0, 1, 3, 50, 75]\n",
    "lower = 0\n",
    "upper = 99\n",
    "result = MissingRanges(nums, lower, upper)\n",
    "print(\"Missing elements ranges are : \", result)"
   ]
  },
  {
   "cell_type": "raw",
   "id": "1fb0fd29-06e0-44ca-b94f-8ec6353a785c",
   "metadata": {},
   "source": [
    "💡 **Question 3**\n",
    "A permutation of an array of integers is an arrangement of its members into a\n",
    "sequence or linear order.\n",
    "\n",
    "For example, for arr = [1,2,3], the following are all the permutations of arr:\n",
    "[1,2,3], [1,3,2], [2, 1, 3], [2, 3, 1], [3,1,2], [3,2,1].\n",
    "\n",
    "The next permutation of an array of integers is the next lexicographically greater\n",
    "permutation of its integer. More formally, if all the permutations of the array are\n",
    "sorted in one container according to their lexicographical order, then the next\n",
    "permutation of that array is the permutation that follows it in the sorted container.\n",
    "\n",
    "If such an arrangement is not possible, the array must be rearranged as the\n",
    "lowest possible order (i.e., sorted in ascending order).\n",
    "\n",
    "● For example, the next permutation of arr = [1,2,3] is [1,3,2].\n",
    "● Similarly, the next permutation of arr = [2,3,1] is [3,1,2].\n",
    "● While the next permutation of arr = [3,2,1] is [1,2,3] because [3,2,1] does not\n",
    "have a lexicographical larger rearrangement.\n",
    "\n",
    "Given an array of integers nums, find the next permutation of nums.\n",
    "The replacement must be in place and use only constant extra memory.\n",
    "\n",
    "**Example 1:**\n",
    "Input: nums = [1,2,3]\n",
    "Output: [1,3,2]"
   ]
  },
  {
   "cell_type": "code",
   "execution_count": 4,
   "id": "db502562-2a60-414b-b954-8ac7cfc55d83",
   "metadata": {},
   "outputs": [
    {
     "name": "stdout",
     "output_type": "stream",
     "text": [
      "Next permutationof given array iis :  [1, 3, 2]\n"
     ]
    }
   ],
   "source": [
    "def nextPermutation(nums):\n",
    "\n",
    "    i = len(nums) - 2\n",
    "    while i >= 0 and nums[i] >= nums[i+1]:\n",
    "        i -= 1\n",
    "\n",
    "    if i >= 0:\n",
    "        j = len(nums) - 1\n",
    "        while j > i and nums[j] <= nums[i]:\n",
    "            j -= 1\n",
    "    \n",
    "        nums[i], nums[j] = nums[j], nums[i]\n",
    "\n",
    "    \n",
    "    left, right = i+1, len(nums)-1\n",
    "    while left < right:\n",
    "        nums[left], nums[right] = nums[right], nums[left]\n",
    "        left += 1\n",
    "        right -= 1\n",
    "\n",
    "    return nums\n",
    "\n",
    "\n",
    "# Driver code\n",
    "nums = [1, 2, 3]\n",
    "result = nextPermutation(nums)\n",
    "print(\"Next permutationof given array iis : \", result)"
   ]
  },
  {
   "cell_type": "code",
   "execution_count": null,
   "id": "1c83ded4-e8f5-48ba-968d-008d1d54115c",
   "metadata": {},
   "outputs": [],
   "source": []
  }
 ],
 "metadata": {
  "kernelspec": {
   "display_name": "Python 3 (ipykernel)",
   "language": "python",
   "name": "python3"
  },
  "language_info": {
   "codemirror_mode": {
    "name": "ipython",
    "version": 3
   },
   "file_extension": ".py",
   "mimetype": "text/x-python",
   "name": "python",
   "nbconvert_exporter": "python",
   "pygments_lexer": "ipython3",
   "version": "3.10.6"
  }
 },
 "nbformat": 4,
 "nbformat_minor": 5
}
