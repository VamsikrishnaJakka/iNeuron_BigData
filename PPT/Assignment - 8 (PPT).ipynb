{
 "cells": [
  {
   "cell_type": "raw",
   "id": "182b929d-0f56-431e-b026-58432cde817d",
   "metadata": {},
   "source": [
    "💡 **Question 1**\n",
    "\n",
    "Given two strings s1 and s2, return *the lowest **ASCII** sum of deleted characters to make two strings equal*.\n",
    "\n",
    "**Example 1:**\n",
    "\n",
    "**Input:** s1 = \"sea\", s2 = \"eat\"\n",
    "\n",
    "**Output:** 231\n",
    "\n",
    "**Explanation:** Deleting \"s\" from \"sea\" adds the ASCII value of \"s\" (115) to the sum.\n",
    "\n",
    "Deleting \"t\" from \"eat\" adds 116 to the sum.\n",
    "\n",
    "At the end, both strings are equal, and 115 + 116 = 231 is the minimum sum possible to achieve this."
   ]
  },
  {
   "cell_type": "code",
   "execution_count": 1,
   "id": "83a1fdc5-7f68-47cf-800f-e85312a8cedc",
   "metadata": {},
   "outputs": [
    {
     "name": "stdout",
     "output_type": "stream",
     "text": [
      "231\n"
     ]
    }
   ],
   "source": [
    "def minimumDeleteSum(s1, s2):\n",
    "    m, n = len(s1), len(s2)\n",
    "    dp = [[0] * (n+1) for _ in range(m+1)]\n",
    "\n",
    "    for i in range(1, m+1):\n",
    "        dp[i][0] = dp[i-1][0] + ord(s1[i-1])\n",
    "\n",
    "    for j in range(1, n+1):\n",
    "        dp[0][j] = dp[0][j-1] + ord(s2[j-1])\n",
    "\n",
    "    for i in range(1, m+1):\n",
    "        for j in range(1, n+1):\n",
    "            if s1[i-1] == s2[j-1]:\n",
    "                dp[i][j] = dp[i-1][j-1]\n",
    "            else:\n",
    "                dp[i][j] = min(dp[i-1][j] + ord(s1[i-1]), dp[i][j-1] + ord(s2[j-1]))\n",
    "\n",
    "    return dp[m][n]\n",
    "\n",
    "#Driver code\n",
    "s1 = \"sea\"\n",
    "s2 = \"eat\"\n",
    "result = minimumDeleteSum(s1, s2)\n",
    "print(result)"
   ]
  },
  {
   "cell_type": "raw",
   "id": "99861764-b194-48ad-a799-d05a40cb8733",
   "metadata": {},
   "source": [
    "💡 **Question 2**\n",
    "\n",
    "Given a string s containing only three types of characters: '(', ')' and '*', return true *if* s *is **valid***.\n",
    "\n",
    "The following rules define a **valid** string:\n",
    "\n",
    "- Any left parenthesis '(' must have a corresponding right parenthesis ')'.\n",
    "- Any right parenthesis ')' must have a corresponding left parenthesis '('.\n",
    "- Left parenthesis '(' must go before the corresponding right parenthesis ')'.\n",
    "- '*' could be treated as a single right parenthesis ')' or a single left parenthesis '(' or an empty string \"\".\n",
    "\n",
    "**Example 1:**\n",
    "\n",
    "**Input:** s = \"()\"\n",
    "\n",
    "**Output:**\n",
    "\n",
    "true"
   ]
  },
  {
   "cell_type": "code",
   "execution_count": 2,
   "id": "b2414983-1280-4b5d-adf7-30223e297fa9",
   "metadata": {},
   "outputs": [
    {
     "name": "stdout",
     "output_type": "stream",
     "text": [
      "True\n"
     ]
    }
   ],
   "source": [
    "def isValid(s):\n",
    "    stack = []\n",
    "    star_stack = []\n",
    "\n",
    "    for char in s:\n",
    "        if char == '(':\n",
    "            stack.append(char)\n",
    "        elif char == ')':\n",
    "            if stack:\n",
    "                stack.pop()\n",
    "            elif star_stack:\n",
    "                star_stack.pop()\n",
    "            else:\n",
    "                return False\n",
    "        elif char == '*':\n",
    "            star_stack.append(char)\n",
    "\n",
    "    while stack and star_stack:\n",
    "        if stack[-1] > star_stack[-1]:\n",
    "            return False\n",
    "        stack.pop()\n",
    "        star_stack.pop()\n",
    "\n",
    "    return len(stack) == 0\n",
    "\n",
    "#Driver code\n",
    "s = \"()\"\n",
    "result = isValid(s)\n",
    "print(result)"
   ]
  },
  {
   "cell_type": "raw",
   "id": "73c0d8e3-dd7d-48af-9b9e-77108e302587",
   "metadata": {},
   "source": [
    "💡 **Question 3**\n",
    "\n",
    "Given two strings word1 and word2, return *the minimum number of **steps** required to make* word1 *and* word2 *the same*.\n",
    "\n",
    "In one **step**, you can delete exactly one character in either string.\n",
    "\n",
    "**Example 1:**\n",
    "\n",
    "**Input:** word1 = \"sea\", word2 = \"eat\"\n",
    "\n",
    "**Output:** 2\n",
    "\n",
    "**Explanation:** You need one step to make \"sea\" to \"ea\" and another step to make \"eat\" to \"ea\"."
   ]
  },
  {
   "cell_type": "code",
   "execution_count": 3,
   "id": "72c00bc9-5ab3-4ce7-9f47-d821ea747d12",
   "metadata": {},
   "outputs": [
    {
     "name": "stdout",
     "output_type": "stream",
     "text": [
      "2\n"
     ]
    }
   ],
   "source": [
    "def minSteps(word1, word2):\n",
    "    m, n = len(word1), len(word2)\n",
    "    \n",
    "    dp = [[0] * (n + 1) for _ in range(m + 1)]\n",
    "\n",
    "    for i in range(1, m + 1):\n",
    "        for j in range(1, n + 1):\n",
    "            if word1[i - 1] == word2[j - 1]:\n",
    "                dp[i][j] = dp[i - 1][j - 1] + 1\n",
    "            else:\n",
    "                dp[i][j] = max(dp[i - 1][j], dp[i][j - 1])\n",
    "\n",
    "    return m + n - 2 * dp[m][n]\n",
    "\n",
    "#Driver code\n",
    "word1 = \"sea\"\n",
    "word2 = \"eat\"\n",
    "result = minSteps(word1, word2)\n",
    "print(result)"
   ]
  },
  {
   "cell_type": "raw",
   "id": "ddf1bf66-7e5e-4447-9a48-5cd5e047c503",
   "metadata": {},
   "source": [
    "💡 **Question 4**\n",
    "\n",
    "You need to construct a binary tree from a string consisting of parenthesis and integers.\n",
    "\n",
    "The whole input represents a binary tree. It contains an integer followed by zero, one or two pairs of parenthesis. The integer represents the root's value and a pair of parenthesis contains a child binary tree with the same structure.\n",
    "You always start to construct the **left** child node of the parent first if it exists.\n",
    "\n",
    "**Input:** s = \"4(2(3)(1))(6(5))\"\n",
    "\n",
    "**Output:** [4,2,6,3,1,5]"
   ]
  },
  {
   "cell_type": "code",
   "execution_count": 4,
   "id": "49ec21b4-6061-44a3-9999-aa40e3016dcf",
   "metadata": {},
   "outputs": [
    {
     "name": "stdout",
     "output_type": "stream",
     "text": [
      "[3, 2, 5, 6, 4]\n"
     ]
    }
   ],
   "source": [
    "class TreeNode:\n",
    "    def __init__(self, val=0, left=None, right=None):\n",
    "        self.val = val\n",
    "        self.left = left\n",
    "        self.right = right\n",
    "\n",
    "def str2tree(s):\n",
    "    if not s:\n",
    "        return None\n",
    "\n",
    "    stack = []\n",
    "    i = 0\n",
    "\n",
    "    while i < len(s):\n",
    "        # Find the value of the current node\n",
    "        if s[i] == '(' or s[i] == ')':\n",
    "            i += 1\n",
    "            continue\n",
    "\n",
    "        j = i\n",
    "        while j < len(s) and s[j] != '(' and s[j] != ')':\n",
    "            j += 1\n",
    "\n",
    "        val = int(s[i:j])\n",
    "        node = TreeNode(val)\n",
    "\n",
    "        if stack:\n",
    "            parent = stack[-1]\n",
    "            if not parent.left:\n",
    "                parent.left = node\n",
    "            else:\n",
    "                parent.right = node\n",
    "\n",
    "        stack.append(node)\n",
    "        i = j\n",
    "\n",
    "        # Find the matching closing parenthesis\n",
    "        if i < len(s) and s[i] == ')':\n",
    "            stack.pop()\n",
    "\n",
    "        i += 1\n",
    "\n",
    "    return stack[0]\n",
    "\n",
    "def inorder_traversal(root):\n",
    "    if root is None:\n",
    "        return []\n",
    "\n",
    "    result = []\n",
    "    stack = []\n",
    "    current = root\n",
    "\n",
    "    while current or stack:\n",
    "        while current:\n",
    "            stack.append(current)\n",
    "            current = current.left\n",
    "\n",
    "        current = stack.pop()\n",
    "        result.append(current.val)\n",
    "        current = current.right\n",
    "\n",
    "    return result\n",
    "\n",
    "# Driver code\n",
    "s = \"4(2(3)(1))(6(5))\"\n",
    "tree = str2tree(s)\n",
    "result = inorder_traversal(tree)\n",
    "print(result) "
   ]
  },
  {
   "cell_type": "raw",
   "id": "7c264817-8b84-4684-86ea-8327276c628c",
   "metadata": {},
   "source": [
    "💡 **Question 5**\n",
    "\n",
    "Given an array of characters chars, compress it using the following algorithm:\n",
    "\n",
    "Begin with an empty string s. For each group of **consecutive repeating characters** in chars:\n",
    "\n",
    "- If the group's length is 1, append the character to s.\n",
    "- Otherwise, append the character followed by the group's length.\n",
    "\n",
    "The compressed string s **should not be returned separately**, but instead, be stored **in the input character array chars**. Note that group lengths that are 10 or longer will be split into multiple characters in chars.\n",
    "\n",
    "After you are done **modifying the input array,** return *the new length of the array*.\n",
    "\n",
    "You must write an algorithm that uses only constant extra space.\n",
    "\n",
    "**Example 1:**\n",
    "\n",
    "**Input:** chars = [\"a\",\"a\",\"b\",\"b\",\"c\",\"c\",\"c\"]\n",
    "\n",
    "**Output:** Return 6, and the first 6 characters of the input array should be: [\"a\",\"2\",\"b\",\"2\",\"c\",\"3\"]\n",
    "\n",
    "**Explanation:**\n",
    "\n",
    "The groups are \"aa\", \"bb\", and \"ccc\". This compresses to \"a2b2c3\"."
   ]
  },
  {
   "cell_type": "code",
   "execution_count": 5,
   "id": "feeb221e-4bc3-4cd2-9360-0bf0596a6e37",
   "metadata": {},
   "outputs": [
    {
     "name": "stdout",
     "output_type": "stream",
     "text": [
      "6\n",
      "['a', '2', 'b', '2', 'c', '3']\n"
     ]
    }
   ],
   "source": [
    "def compress(chars):\n",
    "    if not chars:\n",
    "        return 0\n",
    "\n",
    "    count = 1\n",
    "    i = 1\n",
    "    j = 0\n",
    "\n",
    "    while i < len(chars):\n",
    "        if chars[i] == chars[i - 1]:\n",
    "            count += 1\n",
    "        else:\n",
    "            chars[j] = chars[i - 1]\n",
    "            j += 1\n",
    "\n",
    "            if count > 1:\n",
    "                count_str = str(count)\n",
    "                for k in range(len(count_str)):\n",
    "                    chars[j] = count_str[k]\n",
    "                    j += 1\n",
    "\n",
    "            count = 1\n",
    "\n",
    "        i += 1\n",
    "\n",
    "    chars[j] = chars[i - 1]\n",
    "    j += 1\n",
    "\n",
    "    if count > 1:\n",
    "        count_str = str(count)\n",
    "        for k in range(len(count_str)):\n",
    "            chars[j] = count_str[k]\n",
    "            j += 1\n",
    "\n",
    "    return j\n",
    "\n",
    "# Driver code\n",
    "chars = [\"a\", \"a\", \"b\", \"b\", \"c\", \"c\", \"c\"]\n",
    "new_length = compress(chars)\n",
    "print(new_length)  \n",
    "print(chars[:new_length])  "
   ]
  },
  {
   "cell_type": "raw",
   "id": "603f0233-25e4-4bb6-a893-28b51a8ec14d",
   "metadata": {},
   "source": [
    "💡 **Question 6**\n",
    "\n",
    "Given two strings s and p, return *an array of all the start indices of* p*'s anagrams in* s. You may return the answer in **any order**.\n",
    "\n",
    "An **Anagram** is a word or phrase formed by rearranging the letters of a different word or phrase, typically using all the original letters exactly once.\n",
    "\n",
    "**Example 1:**\n",
    "\n",
    "**Input:** s = \"cbaebabacd\", p = \"abc\"\n",
    "\n",
    "**Output:** [0,6]\n",
    "\n",
    "**Explanation:**\n",
    "\n",
    "The substring with start index = 0 is \"cba\", which is an anagram of \"abc\".\n",
    "\n",
    "The substring with start index = 6 is \"bac\", which is an anagram of \"abc\"."
   ]
  },
  {
   "cell_type": "code",
   "execution_count": 1,
   "id": "a954a634-71c9-4965-ad11-3b6b6ee76aa4",
   "metadata": {},
   "outputs": [
    {
     "name": "stdout",
     "output_type": "stream",
     "text": [
      "[0, 6]\n"
     ]
    }
   ],
   "source": [
    "def findAnagrams(s, p):\n",
    "    result = []\n",
    "    p_count = [0] * 26\n",
    "    for char in p:\n",
    "        p_count[ord(char) - ord('a')] += 1\n",
    "\n",
    "    for i in range(len(s) - len(p) + 1):\n",
    "        s_count = [0] * 26\n",
    "        for j in range(i, i + len(p)):\n",
    "            s_count[ord(s[j]) - ord('a')] += 1\n",
    "\n",
    "        if s_count == p_count:\n",
    "            result.append(i)\n",
    "\n",
    "    return result\n",
    "\n",
    "# Driver code\n",
    "s = \"cbaebabacd\"\n",
    "p = \"abc\"\n",
    "indices = findAnagrams(s, p)\n",
    "print(indices) "
   ]
  },
  {
   "cell_type": "raw",
   "id": "362c75eb-0728-466b-aa97-14d99061eb53",
   "metadata": {},
   "source": [
    "💡 **Question 7**\n",
    "\n",
    "Given an encoded string, return its decoded string.\n",
    "\n",
    "The encoding rule is: k[encoded_string], where the encoded_string inside the square brackets is being repeated exactly k times. Note that k is guaranteed to be a positive integer.\n",
    "\n",
    "You may assume that the input string is always valid; there are no extra white spaces, square brackets are well-formed, etc. Furthermore, you may assume that the original data does not contain any digits and that digits are only for those repeat numbers, k. For example, there will not be input like 3a or 2[4].\n",
    "\n",
    "The test cases are generated so that the length of the output will never exceed 105.\n",
    "\n",
    "**Example 1:**\n",
    "\n",
    "**Input:** s = \"3[a]2[bc]\"\n",
    "\n",
    "**Output:** \"aaabcbc\""
   ]
  },
  {
   "cell_type": "code",
   "execution_count": 2,
   "id": "63134c11-a00e-4e19-bcc8-95fd8f25d58d",
   "metadata": {},
   "outputs": [
    {
     "name": "stdout",
     "output_type": "stream",
     "text": [
      "aaabcbc\n"
     ]
    }
   ],
   "source": [
    "def decodeString(s):\n",
    "    stack = []\n",
    "    curr_str = \"\"\n",
    "    curr_num = 0\n",
    "\n",
    "    for char in s:\n",
    "        if char.isdigit():\n",
    "            curr_num = curr_num * 10 + int(char)\n",
    "        elif char == \"[\":\n",
    "            stack.append((curr_str, curr_num))\n",
    "            curr_str = \"\"\n",
    "            curr_num = 0\n",
    "        elif char == \"]\":\n",
    "            prev_str, num = stack.pop()\n",
    "            curr_str = prev_str + curr_str * num\n",
    "        else:\n",
    "            curr_str += char\n",
    "\n",
    "    return curr_str\n",
    "\n",
    "# Test code\n",
    "s = \"3[a]2[bc]\"\n",
    "decoded_str = decodeString(s)\n",
    "print(decoded_str)"
   ]
  },
  {
   "cell_type": "raw",
   "id": "89354af3-d41d-4d57-af20-40bbc09d3abc",
   "metadata": {},
   "source": [
    "💡 **Question 8**\n",
    "\n",
    "Given two strings s and goal, return true *if you can swap two letters in* s *so the result is equal to* goal*, otherwise, return* false*.*\n",
    "\n",
    "Swapping letters is defined as taking two indices i and j (0-indexed) such that i != j and swapping the characters at s[i] and s[j].\n",
    "\n",
    "- For example, swapping at indices 0 and 2 in \"abcd\" results in \"cbad\".\n",
    "\n",
    "**Example 1:**\n",
    "\n",
    "**Input:** s = \"ab\", goal = \"ba\"\n",
    "\n",
    "**Output:** true\n",
    "\n",
    "**Explanation:** You can swap s[0] = 'a' and s[1] = 'b' to get \"ba\", which is equal to goal."
   ]
  },
  {
   "cell_type": "code",
   "execution_count": 3,
   "id": "69c4daa9-145e-4724-86cd-e63158776b6f",
   "metadata": {},
   "outputs": [
    {
     "name": "stdout",
     "output_type": "stream",
     "text": [
      "True\n"
     ]
    }
   ],
   "source": [
    "def buddyStrings(s, goal):\n",
    "    if len(s) != len(goal):\n",
    "        return False\n",
    "\n",
    "    if s == goal:\n",
    "        seen = set()\n",
    "        for char in s:\n",
    "            if char in seen:\n",
    "                return True\n",
    "            seen.add(char)\n",
    "        return False\n",
    "\n",
    "    pairs = []\n",
    "    for i in range(len(s)):\n",
    "        if s[i] != goal[i]:\n",
    "            pairs.append((s[i], goal[i]))\n",
    "\n",
    "    if len(pairs) != 2:\n",
    "        return False\n",
    "\n",
    "    return pairs[0] == pairs[1][::-1]\n",
    "\n",
    "# Test code\n",
    "s = \"ab\"\n",
    "goal = \"ba\"\n",
    "result = buddyStrings(s, goal)\n",
    "print(result)  "
   ]
  },
  {
   "cell_type": "code",
   "execution_count": null,
   "id": "89265c4d-2f6c-4416-91bb-23984ec175f9",
   "metadata": {},
   "outputs": [],
   "source": []
  }
 ],
 "metadata": {
  "kernelspec": {
   "display_name": "Python 3 (ipykernel)",
   "language": "python",
   "name": "python3"
  },
  "language_info": {
   "codemirror_mode": {
    "name": "ipython",
    "version": 3
   },
   "file_extension": ".py",
   "mimetype": "text/x-python",
   "name": "python",
   "nbconvert_exporter": "python",
   "pygments_lexer": "ipython3",
   "version": "3.10.6"
  }
 },
 "nbformat": 4,
 "nbformat_minor": 5
}
