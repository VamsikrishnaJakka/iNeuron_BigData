{
  "nbformat": 4,
  "nbformat_minor": 0,
  "metadata": {
    "colab": {
      "provenance": []
    },
    "kernelspec": {
      "name": "python3",
      "display_name": "Python 3"
    },
    "language_info": {
      "name": "python"
    }
  },
  "cells": [
    {
      "cell_type": "markdown",
      "source": [
        "1.  Write a Python program that uses the HiveQL language to create a table named \"Employees\" with columns for \"id,\" \"name,\" and \"salary.\""
      ],
      "metadata": {
        "id": "2cAEz4a9Gr1d"
      }
    },
    {
      "cell_type": "code",
      "execution_count": null,
      "metadata": {
        "id": "Ga2elw6cGBqh"
      },
      "outputs": [],
      "source": [
        "from pyhive import hive\n",
        "\n",
        "# Establish a connection to Hive\n",
        "connection = hive.Connection(host='localhost', port=10000, username='your_username')\n",
        "\n",
        "# Create a cursor to execute HiveQL statements\n",
        "cursor = connection.cursor()\n",
        "\n",
        "# Define the HiveQL statement to create the table\n",
        "create_table_query = \"\"\"\n",
        "CREATE TABLE Employees (\n",
        "    id INT,\n",
        "    name STRING,\n",
        "    salary DECIMAL(10, 2)\n",
        ")\n",
        "\"\"\"\n",
        "\n",
        "try:\n",
        "    # Execute the create table query\n",
        "    cursor.execute(create_table_query)\n",
        "    print(\"Table 'Employees' created successfully!\")\n",
        "except Exception as e:\n",
        "    print(\"Error creating table:\", e)\n",
        "\n",
        "# Close the cursor and connection\n",
        "cursor.close()\n",
        "connection.close()\n"
      ]
    },
    {
      "cell_type": "markdown",
      "source": [
        "2.  Create a Python program that retrieves records from a Hive table named \"Customers\" where the age is greater than 30."
      ],
      "metadata": {
        "id": "b31f3f41HCwu"
      }
    },
    {
      "cell_type": "code",
      "source": [
        "from pyhive import hive\n",
        "\n",
        "# Establish a connection to Hive\n",
        "connection = hive.Connection(host='localhost', port=10000, username='your_username')\n",
        "\n",
        "# Create a cursor to execute HiveQL statements\n",
        "cursor = connection.cursor()\n",
        "\n",
        "# Define the HiveQL statement to create the table\n",
        "create_table_query = \"\"\"\n",
        "CREATE TABLE Employees (\n",
        "    id INT,\n",
        "    name STRING,\n",
        "    salary DECIMAL(10, 2)\n",
        ")\n",
        "\"\"\"\n",
        "\n",
        "try:\n",
        "    # Execute the create table query\n",
        "    cursor.execute(create_table_query)\n",
        "    print(\"Table 'Employees' created successfully!\")\n",
        "except Exception as e:\n",
        "    print(\"Error creating table:\", e)\n",
        "\n",
        "# Close the cursor and connection\n",
        "cursor.close()\n",
        "connection.close()\n"
      ],
      "metadata": {
        "id": "NnH7EHB7G29Y"
      },
      "execution_count": null,
      "outputs": []
    },
    {
      "cell_type": "markdown",
      "source": [
        "3.  Write a Python script that sorts records in descending order based on the \"timestamp\" column in a Hive table named \"Logs.\""
      ],
      "metadata": {
        "id": "qWjLiCr9HO4Q"
      }
    },
    {
      "cell_type": "code",
      "source": [
        "from pyhive import hive\n",
        "\n",
        "# Establish a connection to Hive\n",
        "connection = hive.Connection(host='localhost', port=10000, username='your_username')\n",
        "\n",
        "# Create a cursor to execute HiveQL statements\n",
        "cursor = connection.cursor()\n",
        "\n",
        "# Define the HiveQL query to sort records in descending order based on the \"timestamp\" column\n",
        "query = \"\"\"\n",
        "SELECT *\n",
        "FROM Logs\n",
        "ORDER BY timestamp DESC\n",
        "\"\"\"\n",
        "\n",
        "try:\n",
        "    # Execute the query\n",
        "    cursor.execute(query)\n",
        "\n",
        "    # Fetch all the results\n",
        "    results = cursor.fetchall()\n",
        "\n",
        "    # Print the sorted records\n",
        "    for row in results:\n",
        "        print(row)\n",
        "except Exception as e:\n",
        "    print(\"Error executing query:\", e)\n",
        "\n",
        "# Close the cursor and connection\n",
        "cursor.close()\n",
        "connection.close()\n"
      ],
      "metadata": {
        "id": "tW_fa_fnHLlv"
      },
      "execution_count": null,
      "outputs": []
    },
    {
      "cell_type": "markdown",
      "source": [
        "4.  Write a Python program that connects to a Hive server using PyHive library and retrieves all records from a table named \"Products\"."
      ],
      "metadata": {
        "id": "GydT07EmHfFa"
      }
    },
    {
      "cell_type": "code",
      "source": [
        "from pyhive import hive\n",
        "\n",
        "# Establish a connection to Hive\n",
        "connection = hive.Connection(host='localhost', port=10000, username='your_username')\n",
        "\n",
        "# Create a cursor to execute HiveQL statements\n",
        "cursor = connection.cursor()\n",
        "\n",
        "# Define the HiveQL query to retrieve all records from the \"Products\" table\n",
        "query = \"\"\"\n",
        "SELECT *\n",
        "FROM Products\n",
        "\"\"\"\n",
        "\n",
        "try:\n",
        "    # Execute the query\n",
        "    cursor.execute(query)\n",
        "\n",
        "    # Fetch all the results\n",
        "    results = cursor.fetchall()\n",
        "\n",
        "    # Print the retrieved records\n",
        "    for row in results:\n",
        "        print(row)\n",
        "except Exception as e:\n",
        "    print(\"Error executing query:\", e)\n",
        "\n",
        "# Close the cursor and connection\n",
        "cursor.close()\n",
        "connection.close()\n"
      ],
      "metadata": {
        "id": "Tyi9u7BoHbY-"
      },
      "execution_count": null,
      "outputs": []
    },
    {
      "cell_type": "markdown",
      "source": [
        "5.  Write a Python script that calculates the average salary of employees from a Hive table named \"Employees\"."
      ],
      "metadata": {
        "id": "oAjXa0FEHpYo"
      }
    },
    {
      "cell_type": "code",
      "source": [
        "from pyhive import hive\n",
        "\n",
        "# Establish a connection to Hive\n",
        "connection = hive.Connection(host='localhost', port=10000, username='your_username')\n",
        "\n",
        "# Create a cursor to execute HiveQL statements\n",
        "cursor = connection.cursor()\n",
        "\n",
        "# Define the HiveQL query to calculate the average salary\n",
        "query = \"\"\"\n",
        "SELECT AVG(salary) AS average_salary\n",
        "FROM Employees\n",
        "\"\"\"\n",
        "\n",
        "try:\n",
        "    # Execute the query\n",
        "    cursor.execute(query)\n",
        "\n",
        "    # Fetch the result\n",
        "    result = cursor.fetchone()\n",
        "\n",
        "    # Print the average salary\n",
        "    average_salary = result[0]\n",
        "    print(\"Average Salary:\", average_salary)\n",
        "except Exception as e:\n",
        "    print(\"Error executing query:\", e)\n",
        "\n",
        "# Close the cursor and connection\n",
        "cursor.close()\n",
        "connection.close()\n"
      ],
      "metadata": {
        "id": "qyyt7TWFHkHC"
      },
      "execution_count": null,
      "outputs": []
    },
    {
      "cell_type": "markdown",
      "source": [
        "6.  Implement a Python program that uses Hive partitioning to create a partitioned table named \"Sales_Data\" based on the \"year\" and \"month\" columns."
      ],
      "metadata": {
        "id": "cXNT3Uv3HyRi"
      }
    },
    {
      "cell_type": "code",
      "source": [
        "from pyhive import hive\n",
        "\n",
        "# Establish a connection to Hive\n",
        "connection = hive.Connection(host='localhost', port=10000, username='your_username')\n",
        "\n",
        "# Create a cursor to execute HiveQL statements\n",
        "cursor = connection.cursor()\n",
        "\n",
        "# Define the HiveQL statement to create the partitioned table\n",
        "create_table_query = \"\"\"\n",
        "CREATE TABLE Sales_Data (\n",
        "    id INT,\n",
        "    sales_amount DECIMAL(10, 2),\n",
        "    product_name STRING\n",
        ")\n",
        "PARTITIONED BY (year INT, month INT)\n",
        "\"\"\"\n",
        "\n",
        "try:\n",
        "    # Execute the create table query\n",
        "    cursor.execute(create_table_query)\n",
        "    print(\"Partitioned table 'Sales_Data' created successfully!\")\n",
        "except Exception as e:\n",
        "    print(\"Error creating table:\", e)\n",
        "\n",
        "# Close the cursor and connection\n",
        "cursor.close()\n",
        "connection.close()\n"
      ],
      "metadata": {
        "id": "ViSEkA4fHty7"
      },
      "execution_count": null,
      "outputs": []
    },
    {
      "cell_type": "markdown",
      "source": [
        "7.  Develop a Python script that adds a new column named \"email\" of type string to an existing Hive table named \"Employees.\""
      ],
      "metadata": {
        "id": "TB1_kl-7H4fi"
      }
    },
    {
      "cell_type": "code",
      "source": [
        "from pyhive import hive\n",
        "\n",
        "# Establish a connection to Hive\n",
        "connection = hive.Connection(host='localhost', port=10000, username='your_username')\n",
        "\n",
        "# Create a cursor to execute HiveQL statements\n",
        "cursor = connection.cursor()\n",
        "\n",
        "# Define the HiveQL statement to add a new column to the existing table\n",
        "alter_table_query = \"\"\"\n",
        "ALTER TABLE Employees\n",
        "ADD COLUMNS (email STRING)\n",
        "\"\"\"\n",
        "\n",
        "try:\n",
        "    # Execute the alter table query\n",
        "    cursor.execute(alter_table_query)\n",
        "    print(\"Column 'email' added successfully!\")\n",
        "except Exception as e:\n",
        "    print(\"Error adding column:\", e)\n",
        "\n",
        "# Close the cursor and connection\n",
        "cursor.close()\n",
        "connection.close()\n"
      ],
      "metadata": {
        "id": "IxI-a6eJH2cy"
      },
      "execution_count": null,
      "outputs": []
    },
    {
      "cell_type": "markdown",
      "source": [
        "8.  Create a Python program that performs an inner join between two Hive tables, \"Orders\" and \"Customers,\" based on a common column."
      ],
      "metadata": {
        "id": "5I5HostuIBON"
      }
    },
    {
      "cell_type": "code",
      "source": [
        "from pyhive import hive\n",
        "\n",
        "# Establish a connection to Hive\n",
        "connection = hive.Connection(host='localhost', port=10000, username='your_username')\n",
        "\n",
        "# Create a cursor to execute HiveQL statements\n",
        "cursor = connection.cursor()\n",
        "\n",
        "# Define the HiveQL query to perform the inner join\n",
        "query = \"\"\"\n",
        "SELECT o.*, c.*\n",
        "FROM Orders o\n",
        "JOIN Customers c ON o.customer_id = c.customer_id\n",
        "\"\"\"\n",
        "\n",
        "try:\n",
        "    # Execute the query\n",
        "    cursor.execute(query)\n",
        "\n",
        "    # Fetch all the results\n",
        "    results = cursor.fetchall()\n",
        "\n",
        "    # Print the joined records\n",
        "    for row in results:\n",
        "        print(row)\n",
        "except Exception as e:\n",
        "    print(\"Error executing query:\", e)\n",
        "\n",
        "# Close the cursor and connection\n",
        "cursor.close()\n",
        "connection.close()\n"
      ],
      "metadata": {
        "id": "fMUwLoOmH_Cw"
      },
      "execution_count": null,
      "outputs": []
    },
    {
      "cell_type": "markdown",
      "source": [
        "9.  Implement a Python program that uses the Hive SerDe library to process JSON data stored in a Hive table named \"User_Activity_Logs.\""
      ],
      "metadata": {
        "id": "UzFUUlY4IMUl"
      }
    },
    {
      "cell_type": "code",
      "source": [
        "from pyhive import hive\n",
        "\n",
        "# Establish a connection to Hive\n",
        "connection = hive.Connection(host='localhost', port=10000, username='your_username')\n",
        "\n",
        "# Create a cursor to execute HiveQL statements\n",
        "cursor = connection.cursor()\n",
        "\n",
        "# Define the HiveQL query to retrieve and process JSON data using Hive SerDe\n",
        "query = \"\"\"\n",
        "SELECT *\n",
        "FROM User_Activity_Logs\n",
        "\"\"\"\n",
        "\n",
        "try:\n",
        "    # Execute the query\n",
        "    cursor.execute(query)\n",
        "\n",
        "    # Fetch all the results\n",
        "    results = cursor.fetchall()\n",
        "\n",
        "    # Process the JSON data\n",
        "    for row in results:\n",
        "        # Assuming JSON data is stored in a column named \"json_data\"\n",
        "        json_data = row['json_data']\n",
        "\n",
        "        # Perform JSON processing on the data\n",
        "        # Example: Extract values from JSON or perform other operations\n",
        "\n",
        "        print(json_data)  # Print the processed JSON data or perform other actions\n",
        "except Exception as e:\n",
        "    print(\"Error executing query:\", e)\n",
        "\n",
        "# Close the cursor and connection\n",
        "cursor.close()\n",
        "connection.close()\n"
      ],
      "metadata": {
        "id": "qmMt70HnIJvu"
      },
      "execution_count": null,
      "outputs": []
    },
    {
      "cell_type": "code",
      "source": [],
      "metadata": {
        "id": "Ux8EdPZJIWVM"
      },
      "execution_count": null,
      "outputs": []
    }
  ]
}