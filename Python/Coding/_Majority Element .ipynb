{
 "cells": [
  {
   "cell_type": "code",
   "execution_count": 14,
   "id": "16740fc2-e3a6-4113-8d98-662275675bcd",
   "metadata": {},
   "outputs": [
    {
     "name": "stdout",
     "output_type": "stream",
     "text": [
      "Majority element in given array is :  4\n"
     ]
    }
   ],
   "source": [
    "def majority(arr):\n",
    "    m = len(arr)//2\n",
    "    for i in range(0,len(arr)):\n",
    "        count = 0\n",
    "        \n",
    "        for j in range(0, len(arr)):\n",
    "            if arr[i] == arr[j]:\n",
    "                count+=1    \n",
    "        if (count > m):\n",
    "            return arr[i]\n",
    "               \n",
    "    return -1\n",
    "# driver code\n",
    "arr = [3, 3, 4, 2, 4, 4, 2, 4,4]\n",
    "result = majority(arr)\n",
    "print(\"Majority element in given array is : \",result)"
   ]
  },
  {
   "cell_type": "code",
   "execution_count": null,
   "id": "a43db632-5b95-470e-b02c-36e5d8da6891",
   "metadata": {},
   "outputs": [],
   "source": []
  }
 ],
 "metadata": {
  "kernelspec": {
   "display_name": "Python 3 (ipykernel)",
   "language": "python",
   "name": "python3"
  },
  "language_info": {
   "codemirror_mode": {
    "name": "ipython",
    "version": 3
   },
   "file_extension": ".py",
   "mimetype": "text/x-python",
   "name": "python",
   "nbconvert_exporter": "python",
   "pygments_lexer": "ipython3",
   "version": "3.10.6"
  }
 },
 "nbformat": 4,
 "nbformat_minor": 5
}
