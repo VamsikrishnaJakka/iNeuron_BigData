{
 "cells": [
  {
   "cell_type": "code",
   "execution_count": 35,
   "id": "391bad45-14f4-4f74-910d-8d9556f8c98a",
   "metadata": {},
   "outputs": [
    {
     "name": "stdout",
     "output_type": "stream",
     "text": [
      "Odd occurence element in an given array is :  [2, 3]\n"
     ]
    }
   ],
   "source": [
    "def getOddOccurrence(arr, n):\n",
    "    m = []\n",
    "    for i in range(0,n):\n",
    "        count = 0\n",
    "        for j in range(0, n):\n",
    "            if arr[i] == arr[j]:\n",
    "                count+=1     \n",
    "        if (count % 2 != 0) and (arr[i] not in m):\n",
    "            m.append(arr[i])\n",
    "    return m\n",
    "     \n",
    "# driver code\n",
    "arr = [2,1,1,1,2,1,2,3,2,2]\n",
    "n = len(arr)\n",
    "result = getOddOccurrence(arr, n)\n",
    "print(\"Odd occurence element in an given array is : \", result)\n"
   ]
  },
  {
   "cell_type": "code",
   "execution_count": null,
   "id": "cc2f6801-e801-4afd-b443-955ef5b1557c",
   "metadata": {},
   "outputs": [],
   "source": []
  }
 ],
 "metadata": {
  "kernelspec": {
   "display_name": "Python 3 (ipykernel)",
   "language": "python",
   "name": "python3"
  },
  "language_info": {
   "codemirror_mode": {
    "name": "ipython",
    "version": 3
   },
   "file_extension": ".py",
   "mimetype": "text/x-python",
   "name": "python",
   "nbconvert_exporter": "python",
   "pygments_lexer": "ipython3",
   "version": "3.10.6"
  }
 },
 "nbformat": 4,
 "nbformat_minor": 5
}
