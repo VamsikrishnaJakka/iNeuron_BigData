{
 "cells": [
  {
   "cell_type": "code",
   "execution_count": 40,
   "id": "999f78f0-c1cc-4133-9314-70a923f2b0ce",
   "metadata": {},
   "outputs": [
    {
     "name": "stdout",
     "output_type": "stream",
     "text": [
      "Merge sorted array is :  [1, 2, 2, 3, 5, 6]\n"
     ]
    }
   ],
   "source": [
    "def insertionSort(nums1):\n",
    "    for k in range(1,m):\n",
    "        key = nums1[k]\n",
    "        l = k - 1 \n",
    "        while l >= 0 and key < nums1[l]:\n",
    "            nums1[l + 1] = nums1[l]\n",
    "            l = l - 1\n",
    "        nums1[l + 1] = key \n",
    "    return nums1\n",
    "\n",
    "def mergesortedarray(nums1,nums2,m,n):\n",
    "    for i in range(0,m):\n",
    "        if nums1[i] == 0:\n",
    "            for j in range(0,n):\n",
    "                nums1[i] = nums2[j]\n",
    "                i = i + 1\n",
    "                j = j + 1\n",
    "            return insertionSort(nums1)\n",
    "        \n",
    "    \n",
    "\n",
    "#Driver Code\n",
    "nums1 = [1,2,3,0,0,0]\n",
    "m = len(nums1)\n",
    "nums2 = [2,5,6]\n",
    "n = len(nums2)\n",
    "result = mergesortedarray(nums1,nums2,m,n)\n",
    "print(\"Merge sorted array is : \",result)"
   ]
  },
  {
   "cell_type": "code",
   "execution_count": null,
   "id": "9ec95116-9788-4a12-910f-aef75d81c095",
   "metadata": {},
   "outputs": [],
   "source": []
  }
 ],
 "metadata": {
  "kernelspec": {
   "display_name": "Python 3 (ipykernel)",
   "language": "python",
   "name": "python3"
  },
  "language_info": {
   "codemirror_mode": {
    "name": "ipython",
    "version": 3
   },
   "file_extension": ".py",
   "mimetype": "text/x-python",
   "name": "python",
   "nbconvert_exporter": "python",
   "pygments_lexer": "ipython3",
   "version": "3.10.6"
  }
 },
 "nbformat": 4,
 "nbformat_minor": 5
}
