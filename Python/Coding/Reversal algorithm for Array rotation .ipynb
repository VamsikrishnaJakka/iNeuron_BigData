{
 "cells": [
  {
   "cell_type": "code",
   "execution_count": 81,
   "id": "8244f625-5882-40a6-b884-eae1cd9592d5",
   "metadata": {},
   "outputs": [
    {
     "name": "stdout",
     "output_type": "stream",
     "text": [
      "Array after rotating d elements is :  [3, 4, 5, 1, 2]\n"
     ]
    }
   ],
   "source": [
    "def rotate_left(arr, d):\n",
    "\n",
    "    for i in range(d):\n",
    "\n",
    "        temp = arr[0]\n",
    "\n",
    "        for j in range(len(arr) - 1):\n",
    "\n",
    "            arr[j] = arr[j + 1]\n",
    "\n",
    "        arr[len(arr) - 1] = temp\n",
    "\n",
    "    return arr\n",
    "\n",
    " \n",
    "\n",
    "arr = [1, 2, 3, 4, 5]\n",
    "\n",
    "d = 2\n",
    "\n",
    "result = rotate_left(arr, d)\n",
    "\n",
    "print(\"Array after rotating d elements is : \",result)"
   ]
  },
  {
   "cell_type": "code",
   "execution_count": null,
   "id": "986fdbb9-ff8b-41b7-9165-5a5c72f1aef3",
   "metadata": {},
   "outputs": [],
   "source": []
  }
 ],
 "metadata": {
  "kernelspec": {
   "display_name": "Python 3 (ipykernel)",
   "language": "python",
   "name": "python3"
  },
  "language_info": {
   "codemirror_mode": {
    "name": "ipython",
    "version": 3
   },
   "file_extension": ".py",
   "mimetype": "text/x-python",
   "name": "python",
   "nbconvert_exporter": "python",
   "pygments_lexer": "ipython3",
   "version": "3.10.6"
  }
 },
 "nbformat": 4,
 "nbformat_minor": 5
}
