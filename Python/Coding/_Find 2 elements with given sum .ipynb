{
 "cells": [
  {
   "cell_type": "code",
   "execution_count": 1,
   "id": "ee959485-6604-4e9d-a8d7-e4b1cf500e1d",
   "metadata": {},
   "outputs": [
    {
     "name": "stdout",
     "output_type": "stream",
     "text": [
      "(4, 5)\n"
     ]
    }
   ],
   "source": [
    "## Time complexity: O(n)\n",
    "## Two pointer approach\n",
    "def two_sum(arr, target_sum):\n",
    "    left = 0\n",
    "    right = len(arr) - 1\n",
    "    while left < right:\n",
    "        if (arr[left] + arr[right] == target_sum):\n",
    "            return left, right\n",
    "        elif (arr[left] + arr[right] < target_sum):\n",
    "            left += 1\n",
    "        else:\n",
    "            right -= 1\n",
    "    return -1,-1\n",
    "        \n",
    "## Driver code\n",
    "arr = [20, 40, 60, 80, 90, 120, 240]\n",
    "target_sum = 210\n",
    "result = two_sum(arr, target_sum)\n",
    "print(result)"
   ]
  },
  {
   "cell_type": "code",
   "execution_count": null,
   "id": "6342c189-0764-4cae-860e-383b51135000",
   "metadata": {},
   "outputs": [],
   "source": []
  }
 ],
 "metadata": {
  "kernelspec": {
   "display_name": "Python 3 (ipykernel)",
   "language": "python",
   "name": "python3"
  },
  "language_info": {
   "codemirror_mode": {
    "name": "ipython",
    "version": 3
   },
   "file_extension": ".py",
   "mimetype": "text/x-python",
   "name": "python",
   "nbconvert_exporter": "python",
   "pygments_lexer": "ipython3",
   "version": "3.10.6"
  }
 },
 "nbformat": 4,
 "nbformat_minor": 5
}
