{
  "cells": [
    {
      "cell_type": "markdown",
      "id": "84a41a9f",
      "metadata": {
        "id": "84a41a9f"
      },
      "source": [
        "# Programming Basic Assignment 6"
      ]
    },
    {
      "cell_type": "markdown",
      "id": "a4b40558",
      "metadata": {
        "id": "a4b40558"
      },
      "source": [
        "------------\n",
        "### 1. Write a Python Program to Display Fibonacci Sequence Using Recursion?"
      ]
    },
    {
      "cell_type": "code",
      "execution_count": 17,
      "id": "e1b8420c",
      "metadata": {
        "id": "e1b8420c",
        "outputId": "0f5a465d-7f0d-4130-a92a-df2fea62a2b4",
        "colab": {
          "base_uri": "https://localhost:8080/"
        }
      },
      "outputs": [
        {
          "output_type": "stream",
          "name": "stdout",
          "text": [
            "Enter the number of terms to display in the Fibonacci sequence: 10\n",
            "Fibonacci sequence:\n",
            "0, 1, 1, 2, 3, 5, 8, 13, 21, 34, "
          ]
        }
      ],
      "source": [
        "def fibonacci(n):\n",
        "    if n <= 0:\n",
        "        return 0\n",
        "    elif n == 1:\n",
        "        return 1\n",
        "    else:\n",
        "        return fibonacci(n - 1) + fibonacci(n - 2)\n",
        "\n",
        "n = int(input(\"Enter the number of terms to display in the Fibonacci sequence: \"))\n",
        "\n",
        "print(\"Fibonacci sequence:\")\n",
        "for i in range(n):\n",
        "    print(fibonacci(i), end=\", \")\n"
      ]
    },
    {
      "cell_type": "code",
      "source": [
        "def fib(n):\n",
        "  a = 0\n",
        "  b = 1\n",
        "  if n <= 1 :\n",
        "    return n\n",
        "  else:\n",
        "    return fib(n-1) + fib(n-2)\n",
        "\n",
        " \n",
        "n = 10\n",
        "fib(n)"
      ],
      "metadata": {
        "id": "iR0t1GGeshc1",
        "outputId": "60fffa6e-f262-4094-9a07-4311ddc185c2",
        "colab": {
          "base_uri": "https://localhost:8080/"
        }
      },
      "id": "iR0t1GGeshc1",
      "execution_count": 8,
      "outputs": [
        {
          "output_type": "execute_result",
          "data": {
            "text/plain": [
              "55"
            ]
          },
          "metadata": {},
          "execution_count": 8
        }
      ]
    },
    {
      "cell_type": "markdown",
      "id": "d7a57f60",
      "metadata": {
        "id": "d7a57f60"
      },
      "source": [
        "-------------------\n",
        "### 2. Write a Python Program to Find Factorial of Number Using Recursion?"
      ]
    },
    {
      "cell_type": "code",
      "execution_count": 15,
      "id": "2cdea8e5",
      "metadata": {
        "id": "2cdea8e5"
      },
      "outputs": [],
      "source": [
        "def fact(n):\n",
        "    if n == 0 or n == 1:\n",
        "        return 1\n",
        "    else:\n",
        "        return n*fact(n-1)"
      ]
    },
    {
      "cell_type": "code",
      "execution_count": 16,
      "id": "fc5ec589",
      "metadata": {
        "id": "fc5ec589",
        "outputId": "d369c3c0-22b2-4cf5-d10a-2f8972a4fc22",
        "colab": {
          "base_uri": "https://localhost:8080/"
        }
      },
      "outputs": [
        {
          "output_type": "execute_result",
          "data": {
            "text/plain": [
              "120"
            ]
          },
          "metadata": {},
          "execution_count": 16
        }
      ],
      "source": [
        "fact(5)"
      ]
    },
    {
      "cell_type": "markdown",
      "id": "0357b86f",
      "metadata": {
        "id": "0357b86f"
      },
      "source": [
        "-------------\n",
        "### 3. Write a Python Program to calculate your Body Mass Index?"
      ]
    },
    {
      "cell_type": "code",
      "execution_count": 14,
      "id": "ae7411ea",
      "metadata": {
        "id": "ae7411ea",
        "outputId": "e1b0f5b4-2c1e-4c7a-8412-a9ecc5dfbcd7",
        "colab": {
          "base_uri": "https://localhost:8080/"
        }
      },
      "outputs": [
        {
          "output_type": "stream",
          "name": "stdout",
          "text": [
            "Enter your weight in kilograms: 70\n",
            "Enter your height in meters: 1.6764\n",
            "Your Body Mass Index (BMI) is 24.908222451890268\n"
          ]
        }
      ],
      "source": [
        "def calculate_bmi(weight, height):\n",
        "    return weight / (height**2)\n",
        "\n",
        "weight = float(input(\"Enter your weight in kilograms: \"))\n",
        "height = float(input(\"Enter your height in meters: \"))\n",
        "\n",
        "bmi = calculate_bmi(weight, height)\n",
        "print(\"Your Body Mass Index (BMI) is\", bmi)\n"
      ]
    },
    {
      "cell_type": "code",
      "execution_count": null,
      "id": "b1ef7685",
      "metadata": {
        "id": "b1ef7685",
        "outputId": "facda351-5e0b-4df5-a314-ea9d7017aa9d"
      },
      "outputs": [
        {
          "data": {
            "text/plain": [
              "21.604938271604937"
            ]
          },
          "execution_count": 26,
          "metadata": {},
          "output_type": "execute_result"
        }
      ],
      "source": [
        "bmi(1.8, 70)"
      ]
    },
    {
      "cell_type": "markdown",
      "id": "96d344a4",
      "metadata": {
        "id": "96d344a4"
      },
      "source": [
        "--------------\n",
        "### 4. Write a Python Program to calculate the natural logarithm of any number?"
      ]
    },
    {
      "cell_type": "code",
      "execution_count": 13,
      "id": "967b521c",
      "metadata": {
        "id": "967b521c",
        "outputId": "a3fc7b96-da09-4eb3-d706-adc56e1a0619",
        "colab": {
          "base_uri": "https://localhost:8080/"
        }
      },
      "outputs": [
        {
          "output_type": "stream",
          "name": "stdout",
          "text": [
            "Enter a number: 41\n",
            "The natural logarithm of 41.0 is 3.713572066704308\n"
          ]
        }
      ],
      "source": [
        "import math\n",
        "\n",
        "def natural_logarithm(x):\n",
        "    return math.log(x)\n",
        "\n",
        "x = float(input(\"Enter a number: \"))\n",
        "print(\"The natural logarithm of\", x, \"is\", natural_logarithm(x))\n"
      ]
    },
    {
      "cell_type": "markdown",
      "id": "11c0d92c",
      "metadata": {
        "id": "11c0d92c"
      },
      "source": [
        "------------\n",
        "### 5. Write a Python Program for cube sum of first n natural numbers?\n"
      ]
    },
    {
      "cell_type": "code",
      "execution_count": 9,
      "id": "b85b9140",
      "metadata": {
        "id": "b85b9140",
        "outputId": "774499db-fb30-4ced-cd5e-d148078be0af",
        "colab": {
          "base_uri": "https://localhost:8080/"
        }
      },
      "outputs": [
        {
          "output_type": "stream",
          "name": "stdout",
          "text": [
            "Enter a number: 2\n",
            "Sum of cubes of the first 2 natural numbers is: 9\n"
          ]
        }
      ],
      "source": [
        "def cube_sum(n):\n",
        "    sum = 0\n",
        "    for i in range(1, n + 1):\n",
        "        sum += i**3\n",
        "    return sum\n",
        "\n",
        "n = int(input(\"Enter a number: \"))\n",
        "print(\"Sum of cubes of the first\", n, \"natural numbers is:\", cube_sum(n))"
      ]
    },
    {
      "cell_type": "code",
      "source": [],
      "metadata": {
        "id": "vBT1s59mu-n7"
      },
      "id": "vBT1s59mu-n7",
      "execution_count": null,
      "outputs": []
    }
  ],
  "metadata": {
    "kernelspec": {
      "display_name": "Python 3 (ipykernel)",
      "language": "python",
      "name": "python3"
    },
    "language_info": {
      "codemirror_mode": {
        "name": "ipython",
        "version": 3
      },
      "file_extension": ".py",
      "mimetype": "text/x-python",
      "name": "python",
      "nbconvert_exporter": "python",
      "pygments_lexer": "ipython3",
      "version": "3.9.7"
    },
    "colab": {
      "provenance": []
    }
  },
  "nbformat": 4,
  "nbformat_minor": 5
}