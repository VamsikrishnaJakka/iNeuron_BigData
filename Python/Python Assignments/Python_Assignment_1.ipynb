{
  "cells": [
    {
      "cell_type": "markdown",
      "id": "637b47a5",
      "metadata": {
        "id": "637b47a5"
      },
      "source": [
        "## Programming Assignment_1\n",
        "-------------"
      ]
    },
    {
      "cell_type": "markdown",
      "id": "0c647dbe",
      "metadata": {
        "id": "0c647dbe"
      },
      "source": [
        "### 1. Write a Python program to print \"Hello Python\"?\n",
        "##### Sol:"
      ]
    },
    {
      "cell_type": "code",
      "execution_count": null,
      "id": "732cbadd",
      "metadata": {
        "id": "732cbadd",
        "outputId": "06a555b8-8bd9-4242-83db-e232ab4fcf4c"
      },
      "outputs": [
        {
          "name": "stdout",
          "output_type": "stream",
          "text": [
            "Hello Python\n"
          ]
        }
      ],
      "source": [
        "print(\"Hello Python\")"
      ]
    },
    {
      "cell_type": "markdown",
      "id": "fc18a6cd",
      "metadata": {
        "id": "fc18a6cd"
      },
      "source": [
        "### 2. Write a Python program to do arithmetical operations addition and division.?\n",
        "##### Sol:"
      ]
    },
    {
      "cell_type": "code",
      "execution_count": null,
      "id": "d5e81491",
      "metadata": {
        "id": "d5e81491",
        "outputId": "e97d91c8-3766-456b-f163-c951bfdfd63a"
      },
      "outputs": [
        {
          "name": "stdout",
          "output_type": "stream",
          "text": [
            "12\n",
            "5.0\n"
          ]
        }
      ],
      "source": [
        "x = 10\n",
        "y = 2\n",
        "\n",
        "## Addition\n",
        "add = x + y\n",
        "## Division\n",
        "div = x/y\n",
        "\n",
        "print(add)\n",
        "print(div)"
      ]
    },
    {
      "cell_type": "markdown",
      "id": "af6e2429",
      "metadata": {
        "id": "af6e2429"
      },
      "source": [
        "### 3. Write a Python program to find the area of a triangle?\n",
        "##### Sol:"
      ]
    },
    {
      "cell_type": "code",
      "execution_count": null,
      "id": "d5d93846",
      "metadata": {
        "id": "d5d93846",
        "outputId": "ea412156-0c10-468d-9cd3-bd93a273cc9f"
      },
      "outputs": [
        {
          "name": "stdout",
          "output_type": "stream",
          "text": [
            "Area of triangle: 1250.0\n"
          ]
        }
      ],
      "source": [
        "h = 100\n",
        "b = 25\n",
        "\n",
        "a = (h*b)/2\n",
        "\n",
        "print(\"Area of triangle : \", a)"
      ]
    },
    {
      "cell_type": "markdown",
      "id": "b8140061",
      "metadata": {
        "id": "b8140061"
      },
      "source": [
        "### 4. Write a Python program to swap two variables?\n",
        "##### Sol:"
      ]
    },
    {
      "cell_type": "code",
      "execution_count": null,
      "id": "182608ba",
      "metadata": {
        "id": "182608ba",
        "outputId": "a4596be5-8ca6-4494-f26d-a877a5bf80db"
      },
      "outputs": [
        {
          "name": "stdout",
          "output_type": "stream",
          "text": [
            "Before swap:\n",
            "var1 = 123 and var2 = 111\n",
            "\n",
            "After swap:\n",
            "var1 = 111 and var2 = 123\n"
          ]
        }
      ],
      "source": [
        "var1 = 123\n",
        "var2 = 111\n",
        "\n",
        "print('Before swap:\\nvar1 = {} and var2 = {}'.format(var1, var2))\n",
        "\n",
        "#valuye of var1 is stored in tmp\n",
        "tmp = var1\n",
        "\n",
        "#valur of var2 is stored in var2\n",
        "var1 = var2\n",
        "\n",
        "#now value in tmp is given to var2\n",
        "var2 = tmp\n",
        "print('\\nAfter swap:\\nvar1 = {} and var2 = {}'.format(var1, var2))"
      ]
    },
    {
      "cell_type": "markdown",
      "id": "3f8054c1",
      "metadata": {
        "id": "3f8054c1"
      },
      "source": [
        "### 5. Write a Python program to generate a random number?\n",
        "##### Sol:"
      ]
    },
    {
      "cell_type": "code",
      "execution_count": null,
      "id": "f1e76df9",
      "metadata": {
        "id": "f1e76df9",
        "outputId": "abb6241c-6412-480d-8b89-bb65bfd240e5"
      },
      "outputs": [
        {
          "name": "stdout",
          "output_type": "stream",
          "text": [
            "0.1903223934166154\n",
            "745\n"
          ]
        }
      ],
      "source": [
        "import random\n",
        "\n",
        "#print the random number\n",
        "print(random.random())\n",
        "\n",
        "#prints the random number within the limit\n",
        "print(random.randint(1, 1000))"
      ]
    },
    {
      "cell_type": "code",
      "source": [],
      "metadata": {
        "id": "E9g27zFuttXa"
      },
      "id": "E9g27zFuttXa",
      "execution_count": null,
      "outputs": []
    }
  ],
  "metadata": {
    "kernelspec": {
      "display_name": "Python 3 (ipykernel)",
      "language": "python",
      "name": "python3"
    },
    "language_info": {
      "codemirror_mode": {
        "name": "ipython",
        "version": 3
      },
      "file_extension": ".py",
      "mimetype": "text/x-python",
      "name": "python",
      "nbconvert_exporter": "python",
      "pygments_lexer": "ipython3",
      "version": "3.9.7"
    },
    "colab": {
      "provenance": []
    }
  },
  "nbformat": 4,
  "nbformat_minor": 5
}