{
  "cells": [
    {
      "cell_type": "markdown",
      "id": "08c66ea5",
      "metadata": {
        "id": "08c66ea5"
      },
      "source": [
        "## Programming Assignment_2\n",
        "-------------"
      ]
    },
    {
      "cell_type": "markdown",
      "id": "4e50cf42",
      "metadata": {
        "id": "4e50cf42"
      },
      "source": [
        "### 1. Write a Python program to convert kilometers to miles?\n",
        "##### Sol."
      ]
    },
    {
      "cell_type": "code",
      "execution_count": 4,
      "id": "8d5eb295",
      "metadata": {
        "id": "8d5eb295",
        "outputId": "07249740-0ac0-42e3-f0a2-dfe6740c9afb",
        "colab": {
          "base_uri": "https://localhost:8080/"
        }
      },
      "outputs": [
        {
          "output_type": "stream",
          "name": "stdout",
          "text": [
            "For 10 kms equivalent distance in miles = 6.213727366498068\n"
          ]
        }
      ],
      "source": [
        "kilometeres = 10\n",
        "\n",
        "miles = kilometeres/1.60934\n",
        "\n",
        "print(\"For {} kms equivalent distance in miles = {}\".format(kilometeres, miles))"
      ]
    },
    {
      "cell_type": "markdown",
      "id": "0df4e6bf",
      "metadata": {
        "id": "0df4e6bf"
      },
      "source": [
        "### 2.Write a Python program to convert Celsius to Fahrenheit?\n",
        "##### Sol."
      ]
    },
    {
      "cell_type": "code",
      "execution_count": 5,
      "id": "b26052b8",
      "metadata": {
        "id": "b26052b8",
        "outputId": "f371ed53-9ea3-47a6-86bd-580546e6f8a3",
        "colab": {
          "base_uri": "https://localhost:8080/"
        }
      },
      "outputs": [
        {
          "output_type": "stream",
          "name": "stdout",
          "text": [
            "For Celsius = 135 equivalent Fahrenheit = 275.0\n"
          ]
        }
      ],
      "source": [
        "Celsius = 135\n",
        "\n",
        "### 2.Write a Python program to convert Celsius to Fahrenheit?\n",
        "Fahrenheit= (9*Celsius/5)+32\n",
        "\n",
        "print(\"For Celsius = {} equivalent Fahrenheit = {}\".format(Celsius, Fahrenheit))"
      ]
    },
    {
      "cell_type": "markdown",
      "id": "46129b8e",
      "metadata": {
        "id": "46129b8e"
      },
      "source": [
        "### 3. Write a Python program to display calendar?\n",
        "##### Sol."
      ]
    },
    {
      "cell_type": "code",
      "execution_count": 8,
      "id": "57b648c9",
      "metadata": {
        "id": "57b648c9"
      },
      "outputs": [],
      "source": [
        "import calendar"
      ]
    },
    {
      "cell_type": "code",
      "execution_count": 9,
      "id": "195356fe",
      "metadata": {
        "id": "195356fe",
        "outputId": "1b8abe2b-b0ba-4fd0-ea1a-0b9369ebc60f",
        "colab": {
          "base_uri": "https://localhost:8080/"
        }
      },
      "outputs": [
        {
          "output_type": "stream",
          "name": "stdout",
          "text": [
            "   December 2021\n",
            "Mo Tu We Th Fr Sa Su\n",
            "       1  2  3  4  5\n",
            " 6  7  8  9 10 11 12\n",
            "13 14 15 16 17 18 19\n",
            "20 21 22 23 24 25 26\n",
            "27 28 29 30 31\n",
            "\n"
          ]
        }
      ],
      "source": [
        "year = 2021\n",
        "month = 12\n",
        "\n",
        "print(calendar.month(year, month))"
      ]
    },
    {
      "cell_type": "code",
      "execution_count": 10,
      "id": "28f5a42c",
      "metadata": {
        "id": "28f5a42c",
        "outputId": "d3406093-aaf2-461e-95cf-fad470af897d",
        "colab": {
          "base_uri": "https://localhost:8080/"
        }
      },
      "outputs": [
        {
          "output_type": "stream",
          "name": "stdout",
          "text": [
            "                                  2023\n",
            "\n",
            "      January                   February                   March\n",
            "Mo Tu We Th Fr Sa Su      Mo Tu We Th Fr Sa Su      Mo Tu We Th Fr Sa Su\n",
            "                   1             1  2  3  4  5             1  2  3  4  5\n",
            " 2  3  4  5  6  7  8       6  7  8  9 10 11 12       6  7  8  9 10 11 12\n",
            " 9 10 11 12 13 14 15      13 14 15 16 17 18 19      13 14 15 16 17 18 19\n",
            "16 17 18 19 20 21 22      20 21 22 23 24 25 26      20 21 22 23 24 25 26\n",
            "23 24 25 26 27 28 29      27 28                     27 28 29 30 31\n",
            "30 31\n",
            "\n",
            "       April                      May                       June\n",
            "Mo Tu We Th Fr Sa Su      Mo Tu We Th Fr Sa Su      Mo Tu We Th Fr Sa Su\n",
            "                1  2       1  2  3  4  5  6  7                1  2  3  4\n",
            " 3  4  5  6  7  8  9       8  9 10 11 12 13 14       5  6  7  8  9 10 11\n",
            "10 11 12 13 14 15 16      15 16 17 18 19 20 21      12 13 14 15 16 17 18\n",
            "17 18 19 20 21 22 23      22 23 24 25 26 27 28      19 20 21 22 23 24 25\n",
            "24 25 26 27 28 29 30      29 30 31                  26 27 28 29 30\n",
            "\n",
            "        July                     August                  September\n",
            "Mo Tu We Th Fr Sa Su      Mo Tu We Th Fr Sa Su      Mo Tu We Th Fr Sa Su\n",
            "                1  2          1  2  3  4  5  6                   1  2  3\n",
            " 3  4  5  6  7  8  9       7  8  9 10 11 12 13       4  5  6  7  8  9 10\n",
            "10 11 12 13 14 15 16      14 15 16 17 18 19 20      11 12 13 14 15 16 17\n",
            "17 18 19 20 21 22 23      21 22 23 24 25 26 27      18 19 20 21 22 23 24\n",
            "24 25 26 27 28 29 30      28 29 30 31               25 26 27 28 29 30\n",
            "31\n",
            "\n",
            "      October                   November                  December\n",
            "Mo Tu We Th Fr Sa Su      Mo Tu We Th Fr Sa Su      Mo Tu We Th Fr Sa Su\n",
            "                   1             1  2  3  4  5                   1  2  3\n",
            " 2  3  4  5  6  7  8       6  7  8  9 10 11 12       4  5  6  7  8  9 10\n",
            " 9 10 11 12 13 14 15      13 14 15 16 17 18 19      11 12 13 14 15 16 17\n",
            "16 17 18 19 20 21 22      20 21 22 23 24 25 26      18 19 20 21 22 23 24\n",
            "23 24 25 26 27 28 29      27 28 29 30               25 26 27 28 29 30 31\n",
            "30 31\n",
            "\n"
          ]
        }
      ],
      "source": [
        "year = 2023\n",
        "\n",
        "print(calendar.calendar(year))"
      ]
    },
    {
      "cell_type": "markdown",
      "id": "db2bf0f7",
      "metadata": {
        "id": "db2bf0f7"
      },
      "source": [
        "### 4. Write a Python program to solve quadratic equation?\n",
        "##### Sol."
      ]
    },
    {
      "cell_type": "code",
      "execution_count": null,
      "id": "66aa2e8b",
      "metadata": {
        "id": "66aa2e8b",
        "outputId": "4a5b2b92-de4e-4438-9ea4-77b0c4957148"
      },
      "outputs": [
        {
          "name": "stdout",
          "output_type": "stream",
          "text": [
            "ax^2 + bx^1 + c = 0\n",
            "Enter the coeff a, b and constant c\n",
            "Enter the coeff a: 1\n",
            "Enter the coeff b: -9\n",
            "Enter the constant c: 14\n",
            "\n",
            "For quad eq. 1x^2 + (-9)x^1 + 14\n",
            "The solutions are: 7.0 and 2.0\n"
          ]
        }
      ],
      "source": [
        "\n",
        "import math\n",
        "\n",
        "print(\"ax^2 + bx^1 + c = 0\")\n",
        "print(\"Enter the coeff a, b and constant c\")\n",
        "\n",
        "a = int(input((\"Enter the coeff a: \")))\n",
        "b = int(input((\"Enter the coeff b: \")))\n",
        "c = int(input((\"Enter the constant c: \")))\n",
        "\n",
        "d = (b**2) - (4*a*c)\n",
        "\n",
        "root1 = ((-1*b)+(math.sqrt(d))) / (2*a)\n",
        "root2 = ((-1*b)-(math.sqrt(d))) / (2*a)\n",
        "\n",
        "print('\\nFor quad eq. {}x^2 + ({})x^1 + {}'.format(a,b,c))\n",
        "print('The solutions are: {} and {}'.format(root1, root2))"
      ]
    },
    {
      "cell_type": "markdown",
      "id": "f70f74c9",
      "metadata": {
        "id": "f70f74c9"
      },
      "source": [
        "### 5. Write a Python program to swap two variables without temp variable?\n",
        "##### Sol."
      ]
    },
    {
      "cell_type": "code",
      "execution_count": null,
      "id": "58514b20",
      "metadata": {
        "id": "58514b20",
        "outputId": "ba85ef9f-a8c7-4f19-8566-c1d8a49fb23d"
      },
      "outputs": [
        {
          "name": "stdout",
          "output_type": "stream",
          "text": [
            "Before swap:\n",
            "var1 = 6 and var2 = 4\n",
            "\n",
            "After swap:\n",
            "var1 = 4 and var2 = 6\n"
          ]
        }
      ],
      "source": [
        "var1 = 6\n",
        "var2 = 4\n",
        "\n",
        "print('Before swap:\\nvar1 = {} and var2 = {}'.format(var1, var2))\n",
        "var2 = var1 + var2\n",
        "var1 = var2 - var1\n",
        "var2 = var2 - var1\n",
        "\n",
        "print('\\nAfter swap:\\nvar1 = {} and var2 = {}'.format(var1, var2))"
      ]
    },
    {
      "cell_type": "code",
      "execution_count": null,
      "id": "3fbe6786",
      "metadata": {
        "id": "3fbe6786"
      },
      "outputs": [],
      "source": []
    }
  ],
  "metadata": {
    "kernelspec": {
      "display_name": "Python 3 (ipykernel)",
      "language": "python",
      "name": "python3"
    },
    "language_info": {
      "codemirror_mode": {
        "name": "ipython",
        "version": 3
      },
      "file_extension": ".py",
      "mimetype": "text/x-python",
      "name": "python",
      "nbconvert_exporter": "python",
      "pygments_lexer": "ipython3",
      "version": "3.9.7"
    },
    "colab": {
      "provenance": []
    }
  },
  "nbformat": 4,
  "nbformat_minor": 5
}