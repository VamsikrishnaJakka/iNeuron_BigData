{
  "cells": [
    {
      "cell_type": "markdown",
      "id": "20cb4340",
      "metadata": {
        "id": "20cb4340"
      },
      "source": [
        "## Programming Assignment_4\n",
        "----------------"
      ]
    },
    {
      "cell_type": "markdown",
      "id": "4fdb6695",
      "metadata": {
        "id": "4fdb6695"
      },
      "source": [
        "### 1. Write a Python Program to Find the Factorial of a Number?\n",
        "##### Sol."
      ]
    },
    {
      "cell_type": "code",
      "execution_count": 2,
      "id": "0e5e7ce2",
      "metadata": {
        "id": "0e5e7ce2",
        "outputId": "92ea0d6f-a7e3-49fd-8d38-c644a494d783",
        "colab": {
          "base_uri": "https://localhost:8080/"
        }
      },
      "outputs": [
        {
          "output_type": "stream",
          "name": "stdout",
          "text": [
            "120\n"
          ]
        }
      ],
      "source": [
        "def facto(n):\n",
        "    if n== 1 or n== 0 :\n",
        "        return 1\n",
        "    else:\n",
        "        return n * facto(n-1)\n",
        "            \n",
        "n = 5\n",
        "print(facto(5))"
      ]
    },
    {
      "cell_type": "markdown",
      "id": "e6beef62",
      "metadata": {
        "id": "e6beef62"
      },
      "source": [
        "### 2. Write a Python Program to Display the multiplication Table?\n",
        "##### Sol."
      ]
    },
    {
      "cell_type": "code",
      "execution_count": 1,
      "id": "eba74c90",
      "metadata": {
        "id": "eba74c90",
        "outputId": "ddce12ed-e1f0-4d88-b492-45a059885af3",
        "colab": {
          "base_uri": "https://localhost:8080/"
        }
      },
      "outputs": [
        {
          "output_type": "stream",
          "name": "stdout",
          "text": [
            "Enter a number: 6\n",
            "6 x 1 = 6\n",
            "6 x 2 = 12\n",
            "6 x 3 = 18\n",
            "6 x 4 = 24\n",
            "6 x 5 = 30\n",
            "6 x 6 = 36\n",
            "6 x 7 = 42\n",
            "6 x 8 = 48\n",
            "6 x 9 = 54\n",
            "6 x 10 = 60\n",
            "6 x 11 = 66\n",
            "6 x 12 = 72\n",
            "6 x 13 = 78\n",
            "6 x 14 = 84\n",
            "6 x 15 = 90\n",
            "6 x 16 = 96\n",
            "6 x 17 = 102\n",
            "6 x 18 = 108\n",
            "6 x 19 = 114\n",
            "6 x 20 = 120\n"
          ]
        }
      ],
      "source": [
        "num = int(input(\"Enter a number: \"))\n",
        "\n",
        "for i in range(1, 21):\n",
        "    print(\"{} x {} = {}\".format(num, i, num*i))"
      ]
    },
    {
      "cell_type": "markdown",
      "id": "7de7eba5",
      "metadata": {
        "id": "7de7eba5"
      },
      "source": [
        "### 3. Write a Python Program to Print the Fibonacci sequence?\n",
        "##### Sol."
      ]
    },
    {
      "cell_type": "code",
      "execution_count": null,
      "id": "14b8e06e",
      "metadata": {
        "id": "14b8e06e",
        "outputId": "4812892b-ecae-40e0-eeb9-0a4cfbbf9ae8"
      },
      "outputs": [
        {
          "name": "stdout",
          "output_type": "stream",
          "text": [
            "Enter a length: 11\n",
            "0 1 1 2 3 5 8 13 21 34 55 "
          ]
        }
      ],
      "source": [
        "fibo_length = int(input(\"Enter a length: \"))\n",
        "\n",
        "a = 0\n",
        "b = 1\n",
        "print(a, end = ' ')\n",
        "print(b, end = ' ')\n",
        "while(fibo_length-2 > 0):\n",
        "    nt = a + b\n",
        "    print(nt, end = ' ')\n",
        "    a = b\n",
        "    b = nt\n",
        "    \n",
        "    fibo_length -= 1"
      ]
    },
    {
      "cell_type": "markdown",
      "id": "0446442e",
      "metadata": {
        "id": "0446442e"
      },
      "source": [
        "### 4. Write a Python Program to Check Armstrong Number?\n",
        "##### Sol. "
      ]
    },
    {
      "cell_type": "code",
      "execution_count": null,
      "id": "dc4d694d",
      "metadata": {
        "id": "dc4d694d"
      },
      "outputs": [],
      "source": [
        "import math"
      ]
    },
    {
      "cell_type": "code",
      "execution_count": null,
      "id": "8275da72",
      "metadata": {
        "id": "8275da72"
      },
      "outputs": [],
      "source": [
        "def fibo_check(num):\n",
        "    l = len(str(num))  ## l = number of digits of number\n",
        "    sum1 = 0 \n",
        "    temp_num = num\n",
        "    while(num > 0):\n",
        "        d = num % 10\n",
        "        sum1 += int(math.pow(d, l))\n",
        "        num = num // 10\n",
        "\n",
        "    if(sum1 == int(temp_num)):\n",
        "        return 1\n",
        "    else:\n",
        "        return 0"
      ]
    },
    {
      "cell_type": "code",
      "execution_count": null,
      "id": "da8cea05",
      "metadata": {
        "id": "da8cea05",
        "outputId": "185e3024-12af-432f-bfda-e2421afc767a"
      },
      "outputs": [
        {
          "name": "stdout",
          "output_type": "stream",
          "text": [
            "Enter a number: 153\n",
            "153 is an armstrong number\n"
          ]
        }
      ],
      "source": [
        "num = int(input(\"Enter a number: \"))\n",
        "\n",
        "if(fibo_check(num)):\n",
        "    print(\"{} is an armstrong number\".format(num))\n",
        "else:\n",
        "    print(\"{} is not an armstrong number\".format(num))"
      ]
    },
    {
      "cell_type": "markdown",
      "id": "a6f9adfe",
      "metadata": {
        "id": "a6f9adfe"
      },
      "source": [
        "### 5. Write a Python Program to Find Armstrong Number in an Interval?\n",
        "##### Sol."
      ]
    },
    {
      "cell_type": "code",
      "execution_count": null,
      "id": "0c4aa2f5",
      "metadata": {
        "id": "0c4aa2f5",
        "outputId": "34a2efdc-aad3-47ef-bb7a-dd39469e5434"
      },
      "outputs": [
        {
          "name": "stdout",
          "output_type": "stream",
          "text": [
            "Enter the lower value of range: 100\n",
            "Enter the higher value of range: 1500\n",
            "\n",
            "From 100 to 1500 following are the Armstrong Number:\n",
            "153 370 371 407 "
          ]
        }
      ],
      "source": [
        "low = int(input(\"Enter the lower value of range: \"))\n",
        "high = int(input(\"Enter the higher value of range: \"))\n",
        "\n",
        "print(\"\\nFrom {} to {} following are the Armstrong Number:\".format(low, high), end='\\n')\n",
        "for i in range(low, high+1):\n",
        "    \n",
        "    if(fibo_check(i)):\n",
        "        print(i, end = ' ')"
      ]
    },
    {
      "cell_type": "markdown",
      "id": "157cad60",
      "metadata": {
        "id": "157cad60"
      },
      "source": [
        "### 6. Write a Python Program to Find the Sum of Natural Numbers?\n",
        "##### Sol."
      ]
    },
    {
      "cell_type": "code",
      "execution_count": 6,
      "id": "aa7cf139",
      "metadata": {
        "id": "aa7cf139",
        "outputId": "3b45501a-0c95-4ce9-bb1d-eb290d92c488",
        "colab": {
          "base_uri": "https://localhost:8080/"
        }
      },
      "outputs": [
        {
          "output_type": "stream",
          "name": "stdout",
          "text": [
            "sum of 100 natural numbers is :  5050\n"
          ]
        }
      ],
      "source": [
        "nat_nam = 100\n",
        "\n",
        "sum_of_nat_num = (nat_nam * (nat_nam +1))//2\n",
        "\n",
        "print(\"sum of {} natural numbers is : \".format(nat_nam),sum_of_nat_num)"
      ]
    },
    {
      "cell_type": "code",
      "source": [],
      "metadata": {
        "id": "n4O_fX5WHHF8"
      },
      "id": "n4O_fX5WHHF8",
      "execution_count": null,
      "outputs": []
    }
  ],
  "metadata": {
    "kernelspec": {
      "display_name": "Python 3 (ipykernel)",
      "language": "python",
      "name": "python3"
    },
    "language_info": {
      "codemirror_mode": {
        "name": "ipython",
        "version": 3
      },
      "file_extension": ".py",
      "mimetype": "text/x-python",
      "name": "python",
      "nbconvert_exporter": "python",
      "pygments_lexer": "ipython3",
      "version": "3.9.7"
    },
    "colab": {
      "provenance": []
    }
  },
  "nbformat": 4,
  "nbformat_minor": 5
}