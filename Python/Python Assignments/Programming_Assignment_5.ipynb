{
  "cells": [
    {
      "cell_type": "markdown",
      "id": "4ac9602a",
      "metadata": {
        "id": "4ac9602a"
      },
      "source": [
        "## Python Basic Programming Assignment - 5\n",
        "--------------\n"
      ]
    },
    {
      "cell_type": "markdown",
      "id": "fdaeee06",
      "metadata": {
        "id": "fdaeee06"
      },
      "source": [
        "### 1. Write a Python Program to Find LCM?"
      ]
    },
    {
      "cell_type": "code",
      "execution_count": 5,
      "id": "2bbfde05",
      "metadata": {
        "id": "2bbfde05",
        "outputId": "a9d4a205-7dbb-4df1-a28c-6e1dc71606fc",
        "colab": {
          "base_uri": "https://localhost:8080/"
        }
      },
      "outputs": [
        {
          "output_type": "stream",
          "name": "stdout",
          "text": [
            "Enter first number : 4\n",
            "Enter second number : 6\n",
            "LCM of 2 numbers is :  12\n"
          ]
        }
      ],
      "source": [
        "a = int(input(\"Enter first number : \"))\n",
        "b = int(input(\"Enter second number : \"))\n",
        "\n",
        "c1 = []\n",
        "c2 = []\n",
        "\n",
        "for i in range(1,a):\n",
        "    if a % i == 0:\n",
        "        c1.append(i)\n",
        "\n",
        "for i in range(1,b):\n",
        "    if b % i == 0:\n",
        "        c1.append(i)\n",
        "        \n",
        "\n",
        "#To find lcm of 2 numbers\n",
        "lcm_result = 1 \n",
        "for i in c1:\n",
        "    lcm_result = lcm_result * i\n",
        "print(\"LCM of 2 numbers is : \",lcm_result)"
      ]
    },
    {
      "cell_type": "markdown",
      "id": "2f459cdf",
      "metadata": {
        "id": "2f459cdf"
      },
      "source": [
        "---------------------\n",
        "### 2. Write a Python Program to Find HCF?"
      ]
    },
    {
      "cell_type": "code",
      "execution_count": 7,
      "id": "ca13cf0c",
      "metadata": {
        "id": "ca13cf0c"
      },
      "outputs": [],
      "source": [
        "def hcf(a, b):\n",
        "    \n",
        "    low = a if a < b else b\n",
        "    \n",
        "    for i in range(1, low+1):\n",
        "        if (a%i==0) and (b%i==0):\n",
        "            hcf = i\n",
        "            \n",
        "    return hcf"
      ]
    },
    {
      "cell_type": "code",
      "execution_count": 9,
      "id": "642b8fdc",
      "metadata": {
        "id": "642b8fdc",
        "outputId": "099c25b4-0e11-4e7b-d5a3-0cadd1c9591a",
        "colab": {
          "base_uri": "https://localhost:8080/"
        }
      },
      "outputs": [
        {
          "output_type": "execute_result",
          "data": {
            "text/plain": [
              "2"
            ]
          },
          "metadata": {},
          "execution_count": 9
        }
      ],
      "source": [
        "a = 4\n",
        "b = 6\n",
        "\n",
        "hcf(a, b)"
      ]
    },
    {
      "cell_type": "markdown",
      "id": "d2c29370",
      "metadata": {
        "id": "d2c29370"
      },
      "source": [
        "---------------\n",
        "### 3. Write a Python Program to Convert Decimal to Binary, Octal and Hexadecimal?"
      ]
    },
    {
      "cell_type": "code",
      "execution_count": null,
      "id": "f9fac93a",
      "metadata": {
        "id": "f9fac93a"
      },
      "outputs": [],
      "source": [
        "def conversion(num):\n",
        "    print(\"Binary:      \", bin(num))\n",
        "    print(\"Octal:       \", oct(num))\n",
        "    print(\"Hexadecimal: \", hex(num))"
      ]
    },
    {
      "cell_type": "code",
      "execution_count": null,
      "id": "f3dd6f8d",
      "metadata": {
        "id": "f3dd6f8d",
        "outputId": "e29694c5-97ba-46fa-c3da-7c3c7a4bf8e8"
      },
      "outputs": [
        {
          "name": "stdout",
          "output_type": "stream",
          "text": [
            "Binary:       0b111\n",
            "Octal:        0o7\n",
            "Hexadecimal:  0x7\n"
          ]
        }
      ],
      "source": [
        "conversion(7)"
      ]
    },
    {
      "cell_type": "code",
      "execution_count": null,
      "id": "724c2e07",
      "metadata": {
        "id": "724c2e07",
        "outputId": "e16b29dc-9d94-4315-e8a9-9f102c8d1725"
      },
      "outputs": [
        {
          "name": "stdout",
          "output_type": "stream",
          "text": [
            "Binary:       0b101110001\n",
            "Octal:        0o561\n",
            "Hexadecimal:  0x171\n"
          ]
        }
      ],
      "source": [
        "conversion(369)"
      ]
    },
    {
      "cell_type": "markdown",
      "id": "2a16c5fd",
      "metadata": {
        "id": "2a16c5fd"
      },
      "source": [
        "---------------------\n",
        "### 4. Write a Python Program To Find ASCII value of a character?"
      ]
    },
    {
      "cell_type": "code",
      "execution_count": 4,
      "id": "c5164be3",
      "metadata": {
        "id": "c5164be3",
        "outputId": "f2757718-646e-4bcb-db45-2e829f954a88",
        "colab": {
          "base_uri": "https://localhost:8080/"
        }
      },
      "outputs": [
        {
          "output_type": "stream",
          "name": "stdout",
          "text": [
            "Enter a character: @\n",
            "ASCII value of @ is 64\n"
          ]
        }
      ],
      "source": [
        "try:\n",
        "    char = input(\"Enter a character: \")\n",
        "    ASCII = ord(char)\n",
        "    print(\"ASCII value of {} is {}\".format(char, ASCII))\n",
        "except Exception as e:\n",
        "    print(e)"
      ]
    },
    {
      "cell_type": "markdown",
      "id": "226778a0",
      "metadata": {
        "id": "226778a0"
      },
      "source": [
        "----------------\n",
        "### 5. Write a Python Program to Make a Simple Calculator with 4 basic mathematical operations?"
      ]
    },
    {
      "cell_type": "code",
      "execution_count": 1,
      "id": "4d0c1a4d",
      "metadata": {
        "id": "4d0c1a4d",
        "outputId": "b462e628-016c-4651-d810-d36773d77f3e",
        "colab": {
          "base_uri": "https://localhost:8080/"
        }
      },
      "outputs": [
        {
          "output_type": "stream",
          "name": "stdout",
          "text": [
            "Enter first number : 22\n",
            "Enter second number : 2\n",
            "Type of operation is : +\n",
            "24\n"
          ]
        }
      ],
      "source": [
        "a = int(input(\"Enter first number : \"))\n",
        "b = int(input(\"Enter second number : \"))\n",
        "\n",
        "operation = input(\"Type of operation is : \")\n",
        "\n",
        "if operation == '+':\n",
        "    print(a + b)\n",
        "elif operation == '-' :\n",
        "    print(a - b)\n",
        "elif operation == '*':\n",
        "    print(a * b)\n",
        "\n",
        "elif operation == '/':\n",
        "    print(a / b)\n",
        "    \n",
        "else :\n",
        "    print('Not a valid operator')"
      ]
    },
    {
      "cell_type": "code",
      "execution_count": null,
      "id": "fa01d572",
      "metadata": {
        "id": "fa01d572"
      },
      "outputs": [],
      "source": []
    }
  ],
  "metadata": {
    "kernelspec": {
      "display_name": "Python 3 (ipykernel)",
      "language": "python",
      "name": "python3"
    },
    "language_info": {
      "codemirror_mode": {
        "name": "ipython",
        "version": 3
      },
      "file_extension": ".py",
      "mimetype": "text/x-python",
      "name": "python",
      "nbconvert_exporter": "python",
      "pygments_lexer": "ipython3",
      "version": "3.9.7"
    },
    "colab": {
      "provenance": []
    }
  },
  "nbformat": 4,
  "nbformat_minor": 5
}